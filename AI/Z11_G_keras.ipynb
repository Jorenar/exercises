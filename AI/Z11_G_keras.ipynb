{
 "cells": [
  {
   "cell_type": "code",
   "execution_count": 1,
   "metadata": {},
   "outputs": [
    {
     "name": "stderr",
     "output_type": "stream",
     "text": [
      "2022-05-26 21:17:43.356252: W tensorflow/stream_executor/platform/default/dso_loader.cc:64] Could not load dynamic library 'libcudart.so.11.0'; dlerror: libcudart.so.11.0: cannot open shared object file: No such file or directory\n",
      "2022-05-26 21:17:43.356277: I tensorflow/stream_executor/cuda/cudart_stub.cc:29] Ignore above cudart dlerror if you do not have a GPU set up on your machine.\n"
     ]
    },
    {
     "name": "stdout",
     "output_type": "stream",
     "text": [
      "2.9.1\n",
      "2.9.0\n"
     ]
    }
   ],
   "source": [
    "import tensorflow as tf\n",
    "from tensorflow import keras\n",
    "print(tf.__version__)\n",
    "\n",
    "print(keras.__version__)"
   ]
  },
  {
   "cell_type": "code",
   "execution_count": 2,
   "metadata": {},
   "outputs": [],
   "source": [
    "import numpy as np\n",
    "import pandas as pd\n",
    "import matplotlib.pyplot as plt\n",
    "import os"
   ]
  },
  {
   "cell_type": "code",
   "execution_count": 4,
   "metadata": {},
   "outputs": [
    {
     "name": "stderr",
     "output_type": "stream",
     "text": [
      "/tmp/ipykernel_1910371/4098396877.py:6: ParserWarning: Falling back to the 'python' engine because the 'c' engine does not support regex separators (separators > 1 char and different from '\\s+' are interpreted as regex); you can avoid this warning by specifying engine='python'.\n",
      "  train_set = pd.read_csv('data/adult/adult.data', sep=\", \",header = None)\n",
      "/tmp/ipykernel_1910371/4098396877.py:7: ParserWarning: Falling back to the 'python' engine because the 'c' engine does not support regex separators (separators > 1 char and different from '\\s+' are interpreted as regex); you can avoid this warning by specifying engine='python'.\n",
      "  test_set = pd.read_csv('data/adult/adult.test', sep=\", \",skiprows = 1, header = None) # Make sure to skip a row for the test set\n"
     ]
    },
    {
     "data": {
      "text/html": [
       "<div>\n",
       "<style scoped>\n",
       "    .dataframe tbody tr th:only-of-type {\n",
       "        vertical-align: middle;\n",
       "    }\n",
       "\n",
       "    .dataframe tbody tr th {\n",
       "        vertical-align: top;\n",
       "    }\n",
       "\n",
       "    .dataframe thead th {\n",
       "        text-align: right;\n",
       "    }\n",
       "</style>\n",
       "<table border=\"1\" class=\"dataframe\">\n",
       "  <thead>\n",
       "    <tr style=\"text-align: right;\">\n",
       "      <th></th>\n",
       "      <th>age</th>\n",
       "      <th>workclass</th>\n",
       "      <th>fnlwgt</th>\n",
       "      <th>education</th>\n",
       "      <th>education_num</th>\n",
       "      <th>marital_status</th>\n",
       "      <th>occupation</th>\n",
       "      <th>relationship</th>\n",
       "      <th>race</th>\n",
       "      <th>sex</th>\n",
       "      <th>capital_gain</th>\n",
       "      <th>capital_loss</th>\n",
       "      <th>hours_per_week</th>\n",
       "      <th>native_country</th>\n",
       "      <th>wage_class</th>\n",
       "    </tr>\n",
       "  </thead>\n",
       "  <tbody>\n",
       "    <tr>\n",
       "      <th>0</th>\n",
       "      <td>39</td>\n",
       "      <td>State-gov</td>\n",
       "      <td>77516</td>\n",
       "      <td>Bachelors</td>\n",
       "      <td>13</td>\n",
       "      <td>Never-married</td>\n",
       "      <td>Adm-clerical</td>\n",
       "      <td>Not-in-family</td>\n",
       "      <td>White</td>\n",
       "      <td>Male</td>\n",
       "      <td>2174</td>\n",
       "      <td>0</td>\n",
       "      <td>40</td>\n",
       "      <td>United-States</td>\n",
       "      <td>&lt;=50K</td>\n",
       "    </tr>\n",
       "    <tr>\n",
       "      <th>1</th>\n",
       "      <td>50</td>\n",
       "      <td>Self-emp-not-inc</td>\n",
       "      <td>83311</td>\n",
       "      <td>Bachelors</td>\n",
       "      <td>13</td>\n",
       "      <td>Married-civ-spouse</td>\n",
       "      <td>Exec-managerial</td>\n",
       "      <td>Husband</td>\n",
       "      <td>White</td>\n",
       "      <td>Male</td>\n",
       "      <td>0</td>\n",
       "      <td>0</td>\n",
       "      <td>13</td>\n",
       "      <td>United-States</td>\n",
       "      <td>&lt;=50K</td>\n",
       "    </tr>\n",
       "    <tr>\n",
       "      <th>2</th>\n",
       "      <td>38</td>\n",
       "      <td>Private</td>\n",
       "      <td>215646</td>\n",
       "      <td>HS-grad</td>\n",
       "      <td>9</td>\n",
       "      <td>Divorced</td>\n",
       "      <td>Handlers-cleaners</td>\n",
       "      <td>Not-in-family</td>\n",
       "      <td>White</td>\n",
       "      <td>Male</td>\n",
       "      <td>0</td>\n",
       "      <td>0</td>\n",
       "      <td>40</td>\n",
       "      <td>United-States</td>\n",
       "      <td>&lt;=50K</td>\n",
       "    </tr>\n",
       "    <tr>\n",
       "      <th>3</th>\n",
       "      <td>53</td>\n",
       "      <td>Private</td>\n",
       "      <td>234721</td>\n",
       "      <td>11th</td>\n",
       "      <td>7</td>\n",
       "      <td>Married-civ-spouse</td>\n",
       "      <td>Handlers-cleaners</td>\n",
       "      <td>Husband</td>\n",
       "      <td>Black</td>\n",
       "      <td>Male</td>\n",
       "      <td>0</td>\n",
       "      <td>0</td>\n",
       "      <td>40</td>\n",
       "      <td>United-States</td>\n",
       "      <td>&lt;=50K</td>\n",
       "    </tr>\n",
       "    <tr>\n",
       "      <th>4</th>\n",
       "      <td>28</td>\n",
       "      <td>Private</td>\n",
       "      <td>338409</td>\n",
       "      <td>Bachelors</td>\n",
       "      <td>13</td>\n",
       "      <td>Married-civ-spouse</td>\n",
       "      <td>Prof-specialty</td>\n",
       "      <td>Wife</td>\n",
       "      <td>Black</td>\n",
       "      <td>Female</td>\n",
       "      <td>0</td>\n",
       "      <td>0</td>\n",
       "      <td>40</td>\n",
       "      <td>Cuba</td>\n",
       "      <td>&lt;=50K</td>\n",
       "    </tr>\n",
       "  </tbody>\n",
       "</table>\n",
       "</div>"
      ],
      "text/plain": [
       "   age         workclass  fnlwgt  education  education_num  \\\n",
       "0   39         State-gov   77516  Bachelors             13   \n",
       "1   50  Self-emp-not-inc   83311  Bachelors             13   \n",
       "2   38           Private  215646    HS-grad              9   \n",
       "3   53           Private  234721       11th              7   \n",
       "4   28           Private  338409  Bachelors             13   \n",
       "\n",
       "       marital_status         occupation   relationship   race     sex  \\\n",
       "0       Never-married       Adm-clerical  Not-in-family  White    Male   \n",
       "1  Married-civ-spouse    Exec-managerial        Husband  White    Male   \n",
       "2            Divorced  Handlers-cleaners  Not-in-family  White    Male   \n",
       "3  Married-civ-spouse  Handlers-cleaners        Husband  Black    Male   \n",
       "4  Married-civ-spouse     Prof-specialty           Wife  Black  Female   \n",
       "\n",
       "   capital_gain  capital_loss  hours_per_week native_country wage_class  \n",
       "0          2174             0              40  United-States      <=50K  \n",
       "1             0             0              13  United-States      <=50K  \n",
       "2             0             0              40  United-States      <=50K  \n",
       "3             0             0              40  United-States      <=50K  \n",
       "4             0             0              40           Cuba      <=50K  "
      ]
     },
     "execution_count": 4,
     "metadata": {},
     "output_type": "execute_result"
    }
   ],
   "source": [
    "# Wczytaj dane treningowe i testowe\n",
    "import numpy as np\n",
    "import matplotlib.pyplot as plt\n",
    "import pandas as pd\n",
    "\n",
    "train_set = pd.read_csv('data/adult/adult.data', sep=\", \",header = None)\n",
    "test_set = pd.read_csv('data/adult/adult.test', sep=\", \",skiprows = 1, header = None) # Make sure to skip a row for the test set\n",
    "\n",
    "col_labels = ['age', 'workclass', 'fnlwgt', 'education', 'education_num', 'marital_status', 'occupation', \n",
    "              'relationship', 'race', 'sex', 'capital_gain', 'capital_loss', 'hours_per_week', 'native_country',\n",
    "             'wage_class']\n",
    "train_set.columns = col_labels\n",
    "test_set.columns = col_labels\n",
    "\n",
    "train = train_set.replace('?', np.nan).dropna()\n",
    "test = test_set.replace('?', np.nan).dropna()\n",
    "\n",
    "train_set.head()\n"
   ]
  },
  {
   "cell_type": "markdown",
   "metadata": {},
   "source": [
    "# Zad.\n",
    "Zróbmy szybki preprocesing"
   ]
  },
  {
   "cell_type": "code",
   "execution_count": 5,
   "metadata": {},
   "outputs": [],
   "source": [
    "dataset = pd.concat([train,test])\n",
    "\n",
    "dataset['wage_class'] = dataset.wage_class.replace({'<=50K.': 0,'<=50K':0, '>50K.':1, '>50K':1})\n",
    "\n",
    "dataset.drop([\"fnlwgt\"],axis=1,inplace=True)\n",
    "\n",
    "dataset.drop([\"education\"],axis=1,inplace=True)\n",
    "\n",
    "x = dataset.groupby('native_country')[\"wage_class\"].mean()\n",
    "\n",
    "d = dict(pd.cut(x[x.index!=\" United-States\"],5,labels=range(5)))\n",
    "\n",
    "dataset['native_country'] = dataset['native_country'].replace(d)\n",
    "\n",
    "dataset = pd.get_dummies(dataset,drop_first=True)\n",
    "\n",
    "train = dataset.iloc[:train.shape[0]]\n",
    "test = dataset.iloc[train.shape[0]:]\n",
    "\n",
    "X_train = train.drop(\"wage_class\",axis=1)\n",
    "y_train = train.wage_class\n",
    "\n",
    "X_test = test.drop(\"wage_class\",axis=1)\n",
    "y_test = test.wage_class\n"
   ]
  },
  {
   "cell_type": "code",
   "execution_count": 6,
   "metadata": {
    "scrolled": true
   },
   "outputs": [
    {
     "name": "stdout",
     "output_type": "stream",
     "text": [
      "Model: \"sequential\"\n",
      "_________________________________________________________________\n",
      " Layer (type)                Output Shape              Param #   \n",
      "=================================================================\n",
      " dense (Dense)               (None, 100)               4200      \n",
      "                                                                 \n",
      " dense_1 (Dense)             (None, 50)                5050      \n",
      "                                                                 \n",
      " dense_2 (Dense)             (None, 10)                510       \n",
      "                                                                 \n",
      " dense_3 (Dense)             (None, 1)                 11        \n",
      "                                                                 \n",
      "=================================================================\n",
      "Total params: 9,771\n",
      "Trainable params: 9,771\n",
      "Non-trainable params: 0\n",
      "_________________________________________________________________\n"
     ]
    },
    {
     "name": "stderr",
     "output_type": "stream",
     "text": [
      "2022-05-26 21:18:40.345933: I tensorflow/stream_executor/cuda/cuda_gpu_executor.cc:975] successful NUMA node read from SysFS had negative value (-1), but there must be at least one NUMA node, so returning NUMA node zero\n",
      "2022-05-26 21:18:40.346237: W tensorflow/stream_executor/platform/default/dso_loader.cc:64] Could not load dynamic library 'libcudart.so.11.0'; dlerror: libcudart.so.11.0: cannot open shared object file: No such file or directory\n",
      "2022-05-26 21:18:40.346323: W tensorflow/stream_executor/platform/default/dso_loader.cc:64] Could not load dynamic library 'libcublas.so.11'; dlerror: libcublas.so.11: cannot open shared object file: No such file or directory\n",
      "2022-05-26 21:18:40.346389: W tensorflow/stream_executor/platform/default/dso_loader.cc:64] Could not load dynamic library 'libcublasLt.so.11'; dlerror: libcublasLt.so.11: cannot open shared object file: No such file or directory\n",
      "2022-05-26 21:18:40.346455: W tensorflow/stream_executor/platform/default/dso_loader.cc:64] Could not load dynamic library 'libcufft.so.10'; dlerror: libcufft.so.10: cannot open shared object file: No such file or directory\n",
      "2022-05-26 21:18:40.346520: W tensorflow/stream_executor/platform/default/dso_loader.cc:64] Could not load dynamic library 'libcurand.so.10'; dlerror: libcurand.so.10: cannot open shared object file: No such file or directory\n",
      "2022-05-26 21:18:40.346583: W tensorflow/stream_executor/platform/default/dso_loader.cc:64] Could not load dynamic library 'libcusolver.so.11'; dlerror: libcusolver.so.11: cannot open shared object file: No such file or directory\n",
      "2022-05-26 21:18:40.346645: W tensorflow/stream_executor/platform/default/dso_loader.cc:64] Could not load dynamic library 'libcusparse.so.11'; dlerror: libcusparse.so.11: cannot open shared object file: No such file or directory\n",
      "2022-05-26 21:18:40.346707: W tensorflow/stream_executor/platform/default/dso_loader.cc:64] Could not load dynamic library 'libcudnn.so.8'; dlerror: libcudnn.so.8: cannot open shared object file: No such file or directory\n",
      "2022-05-26 21:18:40.346717: W tensorflow/core/common_runtime/gpu/gpu_device.cc:1850] Cannot dlopen some GPU libraries. Please make sure the missing libraries mentioned above are installed properly if you would like to use GPU. Follow the guide at https://www.tensorflow.org/install/gpu for how to download and setup the required libraries for your platform.\n",
      "Skipping registering GPU devices...\n",
      "2022-05-26 21:18:40.347145: I tensorflow/core/platform/cpu_feature_guard.cc:193] This TensorFlow binary is optimized with oneAPI Deep Neural Network Library (oneDNN) to use the following CPU instructions in performance-critical operations:  AVX2 FMA\n",
      "To enable them in other operations, rebuild TensorFlow with the appropriate compiler flags.\n"
     ]
    }
   ],
   "source": [
    "from keras.models import Sequential\n",
    "from keras.layers import Dense\n",
    "\n",
    "from keras.callbacks import History\n",
    "\n",
    "history = History()\n",
    "model = Sequential()\n",
    "model.add(Dense(100,activation=\"sigmoid\", input_shape=(X_train.shape[1],)))\n",
    "model.add(Dense(50,activation=\"sigmoid\"))\n",
    "model.add(Dense(10,activation=\"sigmoid\"))\n",
    "model.add(Dense(1,activation=\"sigmoid\"))\n",
    "model.summary()"
   ]
  },
  {
   "cell_type": "code",
   "execution_count": 7,
   "metadata": {},
   "outputs": [],
   "source": [
    "model.compile(loss=\"binary_crossentropy\", optimizer=\"Adam\", metrics=[\"accuracy\"])"
   ]
  },
  {
   "cell_type": "code",
   "execution_count": 9,
   "metadata": {
    "scrolled": true
   },
   "outputs": [
    {
     "name": "stdout",
     "output_type": "stream",
     "text": [
      "Epoch 1/100\n",
      "943/943 [==============================] - 2s 2ms/step - loss: 0.3575 - accuracy: 0.8217 - val_loss: 0.3643 - val_accuracy: 0.8146\n",
      "Epoch 2/100\n",
      "943/943 [==============================] - 2s 2ms/step - loss: 0.3557 - accuracy: 0.8215 - val_loss: 0.3657 - val_accuracy: 0.8153\n",
      "Epoch 3/100\n",
      "943/943 [==============================] - 2s 2ms/step - loss: 0.3568 - accuracy: 0.8202 - val_loss: 0.3638 - val_accuracy: 0.8183\n",
      "Epoch 4/100\n",
      "943/943 [==============================] - 2s 2ms/step - loss: 0.3552 - accuracy: 0.8205 - val_loss: 0.3620 - val_accuracy: 0.8204\n",
      "Epoch 5/100\n",
      "943/943 [==============================] - 2s 2ms/step - loss: 0.3612 - accuracy: 0.8149 - val_loss: 0.3673 - val_accuracy: 0.8165\n",
      "Epoch 6/100\n",
      "943/943 [==============================] - 2s 2ms/step - loss: 0.3569 - accuracy: 0.8195 - val_loss: 0.3635 - val_accuracy: 0.8169\n",
      "Epoch 7/100\n",
      "943/943 [==============================] - 2s 2ms/step - loss: 0.3563 - accuracy: 0.8201 - val_loss: 0.3686 - val_accuracy: 0.8166\n",
      "Epoch 8/100\n",
      "943/943 [==============================] - 2s 2ms/step - loss: 0.3575 - accuracy: 0.8184 - val_loss: 0.3672 - val_accuracy: 0.8114\n",
      "Epoch 9/100\n",
      "943/943 [==============================] - 2s 2ms/step - loss: 0.3559 - accuracy: 0.8203 - val_loss: 0.3632 - val_accuracy: 0.8161\n",
      "Epoch 10/100\n",
      "943/943 [==============================] - 2s 2ms/step - loss: 0.3554 - accuracy: 0.8212 - val_loss: 0.3650 - val_accuracy: 0.8137\n",
      "Epoch 11/100\n",
      "943/943 [==============================] - 2s 2ms/step - loss: 0.3509 - accuracy: 0.8266 - val_loss: 0.3677 - val_accuracy: 0.8186\n",
      "Epoch 12/100\n",
      "943/943 [==============================] - 2s 2ms/step - loss: 0.3545 - accuracy: 0.8229 - val_loss: 0.3646 - val_accuracy: 0.8155\n",
      "Epoch 13/100\n",
      "943/943 [==============================] - 2s 2ms/step - loss: 0.3617 - accuracy: 0.8143 - val_loss: 0.3718 - val_accuracy: 0.8148\n",
      "Epoch 14/100\n",
      "943/943 [==============================] - 2s 2ms/step - loss: 0.3751 - accuracy: 0.8114 - val_loss: 0.3671 - val_accuracy: 0.8128\n",
      "Epoch 15/100\n",
      "943/943 [==============================] - 2s 2ms/step - loss: 0.3615 - accuracy: 0.8169 - val_loss: 0.3718 - val_accuracy: 0.8148\n",
      "Epoch 16/100\n",
      "943/943 [==============================] - 2s 2ms/step - loss: 0.3584 - accuracy: 0.8196 - val_loss: 0.3611 - val_accuracy: 0.8164\n",
      "Epoch 17/100\n",
      "943/943 [==============================] - 2s 2ms/step - loss: 0.3568 - accuracy: 0.8188 - val_loss: 0.3611 - val_accuracy: 0.8171\n",
      "Epoch 18/100\n",
      "943/943 [==============================] - 2s 2ms/step - loss: 0.3564 - accuracy: 0.8180 - val_loss: 0.3632 - val_accuracy: 0.8169\n",
      "Epoch 19/100\n",
      "943/943 [==============================] - 2s 2ms/step - loss: 0.3558 - accuracy: 0.8208 - val_loss: 0.3654 - val_accuracy: 0.8171\n",
      "Epoch 20/100\n",
      "943/943 [==============================] - 2s 2ms/step - loss: 0.3538 - accuracy: 0.8216 - val_loss: 0.3682 - val_accuracy: 0.8203\n",
      "Epoch 21/100\n",
      "943/943 [==============================] - 2s 2ms/step - loss: 0.3665 - accuracy: 0.8171 - val_loss: 0.3706 - val_accuracy: 0.8162\n",
      "Epoch 22/100\n",
      "943/943 [==============================] - 2s 2ms/step - loss: 0.3674 - accuracy: 0.8128 - val_loss: 0.3684 - val_accuracy: 0.8123\n",
      "Epoch 23/100\n",
      "943/943 [==============================] - 2s 2ms/step - loss: 0.3596 - accuracy: 0.8181 - val_loss: 0.3650 - val_accuracy: 0.8167\n",
      "Epoch 24/100\n",
      "943/943 [==============================] - 2s 2ms/step - loss: 0.3576 - accuracy: 0.8192 - val_loss: 0.3814 - val_accuracy: 0.8128\n",
      "Epoch 25/100\n",
      "943/943 [==============================] - 2s 2ms/step - loss: 0.3635 - accuracy: 0.8171 - val_loss: 0.3674 - val_accuracy: 0.8170\n",
      "Epoch 26/100\n",
      "943/943 [==============================] - 2s 2ms/step - loss: 0.3569 - accuracy: 0.8188 - val_loss: 0.3614 - val_accuracy: 0.8147\n",
      "Epoch 27/100\n",
      "943/943 [==============================] - 2s 2ms/step - loss: 0.3554 - accuracy: 0.8198 - val_loss: 0.3660 - val_accuracy: 0.8173\n",
      "Epoch 28/100\n",
      "943/943 [==============================] - 2s 2ms/step - loss: 0.3595 - accuracy: 0.8167 - val_loss: 0.3651 - val_accuracy: 0.8163\n",
      "Epoch 29/100\n",
      "943/943 [==============================] - 2s 2ms/step - loss: 0.3580 - accuracy: 0.8190 - val_loss: 0.3643 - val_accuracy: 0.8144\n",
      "Epoch 30/100\n",
      "943/943 [==============================] - 2s 2ms/step - loss: 0.3543 - accuracy: 0.8202 - val_loss: 0.3527 - val_accuracy: 0.8304\n",
      "Epoch 31/100\n",
      "943/943 [==============================] - 2s 2ms/step - loss: 0.3468 - accuracy: 0.8302 - val_loss: 0.3507 - val_accuracy: 0.8340\n",
      "Epoch 32/100\n",
      "943/943 [==============================] - 2s 2ms/step - loss: 0.3723 - accuracy: 0.8111 - val_loss: 0.3679 - val_accuracy: 0.8148\n",
      "Epoch 33/100\n",
      "943/943 [==============================] - 2s 2ms/step - loss: 0.3603 - accuracy: 0.8173 - val_loss: 0.3681 - val_accuracy: 0.8153\n",
      "Epoch 34/100\n",
      "943/943 [==============================] - 2s 2ms/step - loss: 0.3616 - accuracy: 0.8182 - val_loss: 0.3725 - val_accuracy: 0.8161\n",
      "Epoch 35/100\n",
      "943/943 [==============================] - 2s 2ms/step - loss: 0.3575 - accuracy: 0.8195 - val_loss: 0.3631 - val_accuracy: 0.8177\n",
      "Epoch 36/100\n",
      "943/943 [==============================] - 2s 2ms/step - loss: 0.3555 - accuracy: 0.8189 - val_loss: 0.3627 - val_accuracy: 0.8161\n",
      "Epoch 37/100\n",
      "943/943 [==============================] - 2s 2ms/step - loss: 0.3561 - accuracy: 0.8206 - val_loss: 0.3700 - val_accuracy: 0.8135\n",
      "Epoch 38/100\n",
      "943/943 [==============================] - 2s 2ms/step - loss: 0.3553 - accuracy: 0.8203 - val_loss: 0.3657 - val_accuracy: 0.8139\n",
      "Epoch 39/100\n",
      "943/943 [==============================] - 2s 2ms/step - loss: 0.3561 - accuracy: 0.8198 - val_loss: 0.3641 - val_accuracy: 0.8163\n",
      "Epoch 40/100\n",
      "943/943 [==============================] - 2s 2ms/step - loss: 0.3596 - accuracy: 0.8172 - val_loss: 0.3760 - val_accuracy: 0.8098\n",
      "Epoch 41/100\n",
      "943/943 [==============================] - 2s 2ms/step - loss: 0.3638 - accuracy: 0.8144 - val_loss: 0.3753 - val_accuracy: 0.7953\n",
      "Epoch 42/100\n",
      "943/943 [==============================] - 2s 2ms/step - loss: 0.3674 - accuracy: 0.8122 - val_loss: 0.3654 - val_accuracy: 0.8169\n",
      "Epoch 43/100\n",
      "943/943 [==============================] - 2s 2ms/step - loss: 0.3622 - accuracy: 0.8164 - val_loss: 0.3736 - val_accuracy: 0.8124\n",
      "Epoch 44/100\n",
      "943/943 [==============================] - 2s 2ms/step - loss: 0.3623 - accuracy: 0.8159 - val_loss: 0.3644 - val_accuracy: 0.8155\n",
      "Epoch 45/100\n",
      "943/943 [==============================] - 2s 2ms/step - loss: 0.3577 - accuracy: 0.8167 - val_loss: 0.3622 - val_accuracy: 0.8150\n",
      "Epoch 46/100\n",
      "943/943 [==============================] - 2s 2ms/step - loss: 0.3564 - accuracy: 0.8178 - val_loss: 0.3642 - val_accuracy: 0.8168\n",
      "Epoch 47/100\n",
      "943/943 [==============================] - 2s 2ms/step - loss: 0.3594 - accuracy: 0.8202 - val_loss: 0.3724 - val_accuracy: 0.8131\n",
      "Epoch 48/100\n",
      "943/943 [==============================] - 2s 2ms/step - loss: 0.3670 - accuracy: 0.8149 - val_loss: 0.3638 - val_accuracy: 0.8166\n",
      "Epoch 49/100\n",
      "943/943 [==============================] - 2s 2ms/step - loss: 0.3580 - accuracy: 0.8175 - val_loss: 0.3643 - val_accuracy: 0.8153\n",
      "Epoch 50/100\n",
      "943/943 [==============================] - 2s 2ms/step - loss: 0.3571 - accuracy: 0.8189 - val_loss: 0.3674 - val_accuracy: 0.8117\n",
      "Epoch 51/100\n",
      "943/943 [==============================] - 2s 2ms/step - loss: 0.3567 - accuracy: 0.8173 - val_loss: 0.3636 - val_accuracy: 0.8183\n",
      "Epoch 52/100\n",
      "943/943 [==============================] - 2s 2ms/step - loss: 0.3557 - accuracy: 0.8204 - val_loss: 0.3669 - val_accuracy: 0.8149\n",
      "Epoch 53/100\n",
      "943/943 [==============================] - 2s 2ms/step - loss: 0.3585 - accuracy: 0.8177 - val_loss: 0.3641 - val_accuracy: 0.8159\n",
      "Epoch 54/100\n",
      "943/943 [==============================] - 2s 2ms/step - loss: 0.3580 - accuracy: 0.8153 - val_loss: 0.3695 - val_accuracy: 0.8159\n",
      "Epoch 55/100\n",
      "943/943 [==============================] - 2s 2ms/step - loss: 0.3568 - accuracy: 0.8196 - val_loss: 0.3675 - val_accuracy: 0.8167\n",
      "Epoch 56/100\n",
      "943/943 [==============================] - 2s 2ms/step - loss: 0.3583 - accuracy: 0.8189 - val_loss: 0.3637 - val_accuracy: 0.8165\n",
      "Epoch 57/100\n",
      "943/943 [==============================] - 2s 2ms/step - loss: 0.3580 - accuracy: 0.8193 - val_loss: 0.3665 - val_accuracy: 0.8176\n"
     ]
    },
    {
     "name": "stdout",
     "output_type": "stream",
     "text": [
      "Epoch 58/100\n",
      "943/943 [==============================] - 2s 2ms/step - loss: 0.3598 - accuracy: 0.8169 - val_loss: 0.3744 - val_accuracy: 0.8142\n",
      "Epoch 59/100\n",
      "943/943 [==============================] - 2s 2ms/step - loss: 0.3620 - accuracy: 0.8165 - val_loss: 0.3691 - val_accuracy: 0.8151\n",
      "Epoch 60/100\n",
      "943/943 [==============================] - 2s 2ms/step - loss: 0.3562 - accuracy: 0.8179 - val_loss: 0.3698 - val_accuracy: 0.8161\n",
      "Epoch 61/100\n",
      "943/943 [==============================] - 2s 2ms/step - loss: 0.3570 - accuracy: 0.8195 - val_loss: 0.3683 - val_accuracy: 0.8166\n",
      "Epoch 62/100\n",
      "943/943 [==============================] - 2s 2ms/step - loss: 0.3604 - accuracy: 0.8174 - val_loss: 0.3678 - val_accuracy: 0.8159\n",
      "Epoch 63/100\n",
      "943/943 [==============================] - 2s 2ms/step - loss: 0.3571 - accuracy: 0.8190 - val_loss: 0.3722 - val_accuracy: 0.8169\n",
      "Epoch 64/100\n",
      "943/943 [==============================] - 2s 2ms/step - loss: 0.3583 - accuracy: 0.8169 - val_loss: 0.3640 - val_accuracy: 0.8163\n",
      "Epoch 65/100\n",
      "943/943 [==============================] - 2s 2ms/step - loss: 0.3662 - accuracy: 0.8102 - val_loss: 0.3736 - val_accuracy: 0.7934\n",
      "Epoch 66/100\n",
      "943/943 [==============================] - 2s 2ms/step - loss: 0.3668 - accuracy: 0.8146 - val_loss: 0.3676 - val_accuracy: 0.8139\n",
      "Epoch 67/100\n",
      "943/943 [==============================] - 2s 2ms/step - loss: 0.3623 - accuracy: 0.8154 - val_loss: 0.3679 - val_accuracy: 0.8153\n",
      "Epoch 68/100\n",
      "943/943 [==============================] - 2s 2ms/step - loss: 0.3600 - accuracy: 0.8162 - val_loss: 0.3642 - val_accuracy: 0.8164\n",
      "Epoch 69/100\n",
      "943/943 [==============================] - 2s 2ms/step - loss: 0.3565 - accuracy: 0.8193 - val_loss: 0.3645 - val_accuracy: 0.8178\n",
      "Epoch 70/100\n",
      "943/943 [==============================] - 2s 2ms/step - loss: 0.3555 - accuracy: 0.8190 - val_loss: 0.3682 - val_accuracy: 0.8146\n",
      "Epoch 71/100\n",
      "943/943 [==============================] - 2s 2ms/step - loss: 0.3569 - accuracy: 0.8204 - val_loss: 0.3636 - val_accuracy: 0.8177\n",
      "Epoch 72/100\n",
      "943/943 [==============================] - 2s 2ms/step - loss: 0.3566 - accuracy: 0.8171 - val_loss: 0.3643 - val_accuracy: 0.8165\n",
      "Epoch 73/100\n",
      "943/943 [==============================] - 2s 2ms/step - loss: 0.3566 - accuracy: 0.8203 - val_loss: 0.3689 - val_accuracy: 0.8100\n",
      "Epoch 74/100\n",
      "943/943 [==============================] - 2s 2ms/step - loss: 0.3561 - accuracy: 0.8190 - val_loss: 0.3652 - val_accuracy: 0.8151\n",
      "Epoch 75/100\n",
      "943/943 [==============================] - 2s 2ms/step - loss: 0.3555 - accuracy: 0.8196 - val_loss: 0.3676 - val_accuracy: 0.8179\n",
      "Epoch 76/100\n",
      "943/943 [==============================] - 2s 2ms/step - loss: 0.3543 - accuracy: 0.8203 - val_loss: 0.3662 - val_accuracy: 0.8143\n",
      "Epoch 77/100\n",
      "943/943 [==============================] - 2s 2ms/step - loss: 0.3543 - accuracy: 0.8199 - val_loss: 0.3638 - val_accuracy: 0.8160\n",
      "Epoch 78/100\n",
      "943/943 [==============================] - 2s 2ms/step - loss: 0.3570 - accuracy: 0.8180 - val_loss: 0.3639 - val_accuracy: 0.8167\n",
      "Epoch 79/100\n",
      "943/943 [==============================] - 2s 2ms/step - loss: 0.3549 - accuracy: 0.8201 - val_loss: 0.3625 - val_accuracy: 0.8181\n",
      "Epoch 80/100\n",
      "943/943 [==============================] - 2s 2ms/step - loss: 0.3575 - accuracy: 0.8195 - val_loss: 0.3657 - val_accuracy: 0.8159\n",
      "Epoch 81/100\n",
      "943/943 [==============================] - 2s 2ms/step - loss: 0.3563 - accuracy: 0.8198 - val_loss: 0.3640 - val_accuracy: 0.8159\n",
      "Epoch 82/100\n",
      "943/943 [==============================] - 2s 2ms/step - loss: 0.3550 - accuracy: 0.8212 - val_loss: 0.3738 - val_accuracy: 0.8144\n",
      "Epoch 83/100\n",
      "943/943 [==============================] - 2s 2ms/step - loss: 0.3541 - accuracy: 0.8208 - val_loss: 0.3634 - val_accuracy: 0.8177\n",
      "Epoch 84/100\n",
      "943/943 [==============================] - 2s 2ms/step - loss: 0.3539 - accuracy: 0.8212 - val_loss: 0.3644 - val_accuracy: 0.8154\n",
      "Epoch 85/100\n",
      "943/943 [==============================] - 2s 2ms/step - loss: 0.3534 - accuracy: 0.8204 - val_loss: 0.3669 - val_accuracy: 0.8170\n",
      "Epoch 86/100\n",
      "943/943 [==============================] - 2s 2ms/step - loss: 0.3539 - accuracy: 0.8217 - val_loss: 0.3650 - val_accuracy: 0.8142\n",
      "Epoch 87/100\n",
      "943/943 [==============================] - 2s 2ms/step - loss: 0.3543 - accuracy: 0.8197 - val_loss: 0.3632 - val_accuracy: 0.8160\n",
      "Epoch 88/100\n",
      "943/943 [==============================] - 2s 2ms/step - loss: 0.3570 - accuracy: 0.8180 - val_loss: 0.3683 - val_accuracy: 0.8175\n",
      "Epoch 89/100\n",
      "943/943 [==============================] - 2s 2ms/step - loss: 0.3559 - accuracy: 0.8183 - val_loss: 0.3690 - val_accuracy: 0.8144\n",
      "Epoch 90/100\n",
      "943/943 [==============================] - 2s 2ms/step - loss: 0.3594 - accuracy: 0.8173 - val_loss: 0.3688 - val_accuracy: 0.8158\n",
      "Epoch 91/100\n",
      "943/943 [==============================] - 2s 2ms/step - loss: 0.3626 - accuracy: 0.8162 - val_loss: 0.3704 - val_accuracy: 0.8155\n",
      "Epoch 92/100\n",
      "943/943 [==============================] - 2s 2ms/step - loss: 0.3579 - accuracy: 0.8175 - val_loss: 0.3676 - val_accuracy: 0.8169\n",
      "Epoch 93/100\n",
      "943/943 [==============================] - 2s 2ms/step - loss: 0.3555 - accuracy: 0.8199 - val_loss: 0.3785 - val_accuracy: 0.8059\n",
      "Epoch 94/100\n",
      "943/943 [==============================] - 2s 2ms/step - loss: 0.3571 - accuracy: 0.8189 - val_loss: 0.3658 - val_accuracy: 0.8172\n",
      "Epoch 95/100\n",
      "943/943 [==============================] - 2s 2ms/step - loss: 0.3564 - accuracy: 0.8213 - val_loss: 0.3650 - val_accuracy: 0.8149\n",
      "Epoch 96/100\n",
      "943/943 [==============================] - 2s 2ms/step - loss: 0.3550 - accuracy: 0.8194 - val_loss: 0.3642 - val_accuracy: 0.8160\n",
      "Epoch 97/100\n",
      "943/943 [==============================] - 2s 2ms/step - loss: 0.3551 - accuracy: 0.8203 - val_loss: 0.3653 - val_accuracy: 0.8163\n",
      "Epoch 98/100\n",
      "943/943 [==============================] - 2s 2ms/step - loss: 0.3597 - accuracy: 0.8179 - val_loss: 0.3749 - val_accuracy: 0.8145\n",
      "Epoch 99/100\n",
      "943/943 [==============================] - 2s 2ms/step - loss: 0.3609 - accuracy: 0.8178 - val_loss: 0.3650 - val_accuracy: 0.8151\n",
      "Epoch 100/100\n",
      "943/943 [==============================] - 2s 2ms/step - loss: 0.3593 - accuracy: 0.8185 - val_loss: 0.3630 - val_accuracy: 0.8165\n"
     ]
    }
   ],
   "source": [
    "# history = model.fit(X_train, y_train, epochs=30, validation_data=(X_valid, y_valid))\n",
    "history = model.fit(X_train, y_train, validation_data= (X_test, y_test), batch_size=32, epochs=100)"
   ]
  },
  {
   "cell_type": "code",
   "execution_count": 10,
   "metadata": {},
   "outputs": [
    {
     "data": {
      "image/png": "[encoded data removed]",
      "text/plain": [
       "<Figure size 576x360 with 1 Axes>"
      ]
     },
     "metadata": {
      "needs_background": "light"
     },
     "output_type": "display_data"
    }
   ],
   "source": [
    "import pandas as pd\n",
    "\n",
    "pd.DataFrame(history.history).plot(figsize=(8, 5))\n",
    "plt.grid(True)\n",
    "plt.gca().set_ylim(0, 1)\n",
    "plt.show()"
   ]
  },
  {
   "cell_type": "code",
   "execution_count": 11,
   "metadata": {
    "scrolled": true
   },
   "outputs": [
    {
     "name": "stdout",
     "output_type": "stream",
     "text": [
      "471/471 [==============================] - 0s 890us/step - loss: 0.3630 - accuracy: 0.8165\n"
     ]
    },
    {
     "data": {
      "text/plain": [
       "[0.3629651963710785, 0.8164674639701843]"
      ]
     },
     "execution_count": 11,
     "metadata": {},
     "output_type": "execute_result"
    }
   ],
   "source": [
    "model.evaluate(X_test,y_test)"
   ]
  },
  {
   "cell_type": "code",
   "execution_count": 15,
   "metadata": {},
   "outputs": [
    {
     "name": "stdout",
     "output_type": "stream",
     "text": [
      "471/471 [==============================] - 0s 705us/step\n"
     ]
    },
    {
     "data": {
      "text/plain": [
       "0.7543160690571049"
      ]
     },
     "execution_count": 15,
     "metadata": {},
     "output_type": "execute_result"
    }
   ],
   "source": [
    "from sklearn import metrics\n",
    "metrics.accuracy_score(y_true= y_test, y_pred=np.argmax(model.predict(X_test), axis=-1))"
   ]
  },
  {
   "cell_type": "markdown",
   "metadata": {},
   "source": [
    "# Zad\n",
    "\n",
    "Porównaj powyższy wynik z nauką na danych znormalizowanych."
   ]
  },
  {
   "cell_type": "code",
   "execution_count": 16,
   "metadata": {
    "scrolled": true
   },
   "outputs": [
    {
     "name": "stdout",
     "output_type": "stream",
     "text": [
      "Epoch 1/100\n",
      "943/943 [==============================] - 2s 2ms/step - loss: 0.4119 - accuracy: 0.8160 - val_loss: 0.3386 - val_accuracy: 0.8435\n",
      "Epoch 2/100\n",
      "943/943 [==============================] - 2s 2ms/step - loss: 0.3303 - accuracy: 0.8464 - val_loss: 0.3309 - val_accuracy: 0.8460\n",
      "Epoch 3/100\n",
      "943/943 [==============================] - 2s 2ms/step - loss: 0.3232 - accuracy: 0.8499 - val_loss: 0.3279 - val_accuracy: 0.8477\n",
      "Epoch 4/100\n",
      "943/943 [==============================] - 2s 2ms/step - loss: 0.3194 - accuracy: 0.8502 - val_loss: 0.3266 - val_accuracy: 0.8473\n",
      "Epoch 5/100\n",
      "943/943 [==============================] - 2s 2ms/step - loss: 0.3169 - accuracy: 0.8515 - val_loss: 0.3242 - val_accuracy: 0.8484\n",
      "Epoch 6/100\n",
      "943/943 [==============================] - 2s 2ms/step - loss: 0.3146 - accuracy: 0.8523 - val_loss: 0.3249 - val_accuracy: 0.8475\n",
      "Epoch 7/100\n",
      "943/943 [==============================] - 2s 2ms/step - loss: 0.3129 - accuracy: 0.8529 - val_loss: 0.3247 - val_accuracy: 0.8487\n",
      "Epoch 8/100\n",
      "943/943 [==============================] - 2s 2ms/step - loss: 0.3108 - accuracy: 0.8536 - val_loss: 0.3234 - val_accuracy: 0.8487\n",
      "Epoch 9/100\n",
      "943/943 [==============================] - 2s 2ms/step - loss: 0.3092 - accuracy: 0.8549 - val_loss: 0.3223 - val_accuracy: 0.8497\n",
      "Epoch 10/100\n",
      "943/943 [==============================] - 2s 2ms/step - loss: 0.3072 - accuracy: 0.8548 - val_loss: 0.3225 - val_accuracy: 0.8489\n",
      "Epoch 11/100\n",
      "943/943 [==============================] - 2s 2ms/step - loss: 0.3057 - accuracy: 0.8573 - val_loss: 0.3219 - val_accuracy: 0.8491\n",
      "Epoch 12/100\n",
      "943/943 [==============================] - 2s 2ms/step - loss: 0.3038 - accuracy: 0.8582 - val_loss: 0.3225 - val_accuracy: 0.8499\n",
      "Epoch 13/100\n",
      "943/943 [==============================] - 2s 2ms/step - loss: 0.3026 - accuracy: 0.8592 - val_loss: 0.3225 - val_accuracy: 0.8491\n",
      "Epoch 14/100\n",
      "943/943 [==============================] - 2s 2ms/step - loss: 0.3004 - accuracy: 0.8591 - val_loss: 0.3234 - val_accuracy: 0.8506\n",
      "Epoch 15/100\n",
      "943/943 [==============================] - 2s 2ms/step - loss: 0.2993 - accuracy: 0.8610 - val_loss: 0.3235 - val_accuracy: 0.8491\n",
      "Epoch 16/100\n",
      "943/943 [==============================] - 2s 2ms/step - loss: 0.2978 - accuracy: 0.8611 - val_loss: 0.3251 - val_accuracy: 0.8495\n",
      "Epoch 17/100\n",
      "943/943 [==============================] - 2s 2ms/step - loss: 0.2968 - accuracy: 0.8607 - val_loss: 0.3254 - val_accuracy: 0.8498\n",
      "Epoch 18/100\n",
      "943/943 [==============================] - 2s 2ms/step - loss: 0.2953 - accuracy: 0.8616 - val_loss: 0.3241 - val_accuracy: 0.8485\n",
      "Epoch 19/100\n",
      "943/943 [==============================] - 2s 2ms/step - loss: 0.2936 - accuracy: 0.8626 - val_loss: 0.3262 - val_accuracy: 0.8506\n",
      "Epoch 20/100\n",
      "943/943 [==============================] - 2s 2ms/step - loss: 0.2926 - accuracy: 0.8628 - val_loss: 0.3248 - val_accuracy: 0.8485\n",
      "Epoch 21/100\n",
      "943/943 [==============================] - 2s 2ms/step - loss: 0.2916 - accuracy: 0.8638 - val_loss: 0.3242 - val_accuracy: 0.8496\n",
      "Epoch 22/100\n",
      "943/943 [==============================] - 2s 2ms/step - loss: 0.2899 - accuracy: 0.8639 - val_loss: 0.3321 - val_accuracy: 0.8467\n",
      "Epoch 23/100\n",
      "943/943 [==============================] - 2s 2ms/step - loss: 0.2889 - accuracy: 0.8652 - val_loss: 0.3297 - val_accuracy: 0.8498\n",
      "Epoch 24/100\n",
      "943/943 [==============================] - 2s 2ms/step - loss: 0.2875 - accuracy: 0.8658 - val_loss: 0.3278 - val_accuracy: 0.8509\n",
      "Epoch 25/100\n",
      "943/943 [==============================] - 2s 2ms/step - loss: 0.2866 - accuracy: 0.8660 - val_loss: 0.3296 - val_accuracy: 0.8501\n",
      "Epoch 26/100\n",
      "943/943 [==============================] - 2s 2ms/step - loss: 0.2849 - accuracy: 0.8664 - val_loss: 0.3289 - val_accuracy: 0.8500\n",
      "Epoch 27/100\n",
      "943/943 [==============================] - 2s 2ms/step - loss: 0.2840 - accuracy: 0.8667 - val_loss: 0.3308 - val_accuracy: 0.8486\n",
      "Epoch 28/100\n",
      "943/943 [==============================] - 2s 2ms/step - loss: 0.2830 - accuracy: 0.8674 - val_loss: 0.3328 - val_accuracy: 0.8479\n",
      "Epoch 29/100\n",
      "943/943 [==============================] - 2s 2ms/step - loss: 0.2817 - accuracy: 0.8682 - val_loss: 0.3363 - val_accuracy: 0.8477\n",
      "Epoch 30/100\n",
      "943/943 [==============================] - 2s 2ms/step - loss: 0.2809 - accuracy: 0.8684 - val_loss: 0.3345 - val_accuracy: 0.8479\n",
      "Epoch 31/100\n",
      "943/943 [==============================] - 2s 2ms/step - loss: 0.2796 - accuracy: 0.8688 - val_loss: 0.3367 - val_accuracy: 0.8481\n",
      "Epoch 32/100\n",
      "943/943 [==============================] - 2s 2ms/step - loss: 0.2788 - accuracy: 0.8691 - val_loss: 0.3356 - val_accuracy: 0.8478\n",
      "Epoch 33/100\n",
      "943/943 [==============================] - 2s 2ms/step - loss: 0.2777 - accuracy: 0.8691 - val_loss: 0.3415 - val_accuracy: 0.8502\n",
      "Epoch 34/100\n",
      "943/943 [==============================] - 2s 2ms/step - loss: 0.2771 - accuracy: 0.8696 - val_loss: 0.3438 - val_accuracy: 0.8450\n",
      "Epoch 35/100\n",
      "943/943 [==============================] - 2s 2ms/step - loss: 0.2761 - accuracy: 0.8710 - val_loss: 0.3408 - val_accuracy: 0.8509\n",
      "Epoch 36/100\n",
      "943/943 [==============================] - 2s 2ms/step - loss: 0.2745 - accuracy: 0.8716 - val_loss: 0.3441 - val_accuracy: 0.8484\n",
      "Epoch 37/100\n",
      "943/943 [==============================] - 2s 2ms/step - loss: 0.2737 - accuracy: 0.8708 - val_loss: 0.3425 - val_accuracy: 0.8481\n",
      "Epoch 38/100\n",
      "943/943 [==============================] - 2s 2ms/step - loss: 0.2729 - accuracy: 0.8722 - val_loss: 0.3440 - val_accuracy: 0.8459\n",
      "Epoch 39/100\n",
      "943/943 [==============================] - 2s 2ms/step - loss: 0.2717 - accuracy: 0.8728 - val_loss: 0.3497 - val_accuracy: 0.8471\n",
      "Epoch 40/100\n",
      "943/943 [==============================] - 2s 2ms/step - loss: 0.2714 - accuracy: 0.8727 - val_loss: 0.3479 - val_accuracy: 0.8444\n",
      "Epoch 41/100\n",
      "943/943 [==============================] - 2s 2ms/step - loss: 0.2705 - accuracy: 0.8740 - val_loss: 0.3469 - val_accuracy: 0.8464\n",
      "Epoch 42/100\n",
      "943/943 [==============================] - 2s 2ms/step - loss: 0.2693 - accuracy: 0.8733 - val_loss: 0.3507 - val_accuracy: 0.8496\n",
      "Epoch 43/100\n",
      "943/943 [==============================] - 2s 2ms/step - loss: 0.2685 - accuracy: 0.8742 - val_loss: 0.3511 - val_accuracy: 0.8467\n",
      "Epoch 44/100\n",
      "943/943 [==============================] - 2s 2ms/step - loss: 0.2677 - accuracy: 0.8746 - val_loss: 0.3535 - val_accuracy: 0.8439\n",
      "Epoch 45/100\n",
      "943/943 [==============================] - 2s 2ms/step - loss: 0.2674 - accuracy: 0.8753 - val_loss: 0.3552 - val_accuracy: 0.8475\n",
      "Epoch 46/100\n",
      "943/943 [==============================] - 2s 2ms/step - loss: 0.2659 - accuracy: 0.8757 - val_loss: 0.3548 - val_accuracy: 0.8475\n",
      "Epoch 47/100\n",
      "943/943 [==============================] - 2s 2ms/step - loss: 0.2651 - accuracy: 0.8748 - val_loss: 0.3603 - val_accuracy: 0.8473\n",
      "Epoch 48/100\n",
      "943/943 [==============================] - 2s 2ms/step - loss: 0.2648 - accuracy: 0.8756 - val_loss: 0.3635 - val_accuracy: 0.8450\n",
      "Epoch 49/100\n",
      "943/943 [==============================] - 2s 2ms/step - loss: 0.2641 - accuracy: 0.8754 - val_loss: 0.3633 - val_accuracy: 0.8426\n",
      "Epoch 50/100\n",
      "943/943 [==============================] - 2s 2ms/step - loss: 0.2625 - accuracy: 0.8757 - val_loss: 0.3598 - val_accuracy: 0.8449\n",
      "Epoch 51/100\n",
      "943/943 [==============================] - 2s 2ms/step - loss: 0.2618 - accuracy: 0.8754 - val_loss: 0.3618 - val_accuracy: 0.8466\n",
      "Epoch 52/100\n",
      "943/943 [==============================] - 2s 2ms/step - loss: 0.2611 - accuracy: 0.8761 - val_loss: 0.3625 - val_accuracy: 0.8426\n",
      "Epoch 53/100\n",
      "943/943 [==============================] - 2s 2ms/step - loss: 0.2600 - accuracy: 0.8768 - val_loss: 0.3671 - val_accuracy: 0.8442\n",
      "Epoch 54/100\n",
      "943/943 [==============================] - 2s 2ms/step - loss: 0.2602 - accuracy: 0.8768 - val_loss: 0.3698 - val_accuracy: 0.8465\n",
      "Epoch 55/100\n",
      "943/943 [==============================] - 2s 2ms/step - loss: 0.2597 - accuracy: 0.8769 - val_loss: 0.3662 - val_accuracy: 0.8461\n",
      "Epoch 56/100\n",
      "943/943 [==============================] - 2s 2ms/step - loss: 0.2582 - accuracy: 0.8788 - val_loss: 0.3712 - val_accuracy: 0.8430\n",
      "Epoch 57/100\n",
      "943/943 [==============================] - 2s 2ms/step - loss: 0.2575 - accuracy: 0.8774 - val_loss: 0.3783 - val_accuracy: 0.8453\n"
     ]
    },
    {
     "name": "stdout",
     "output_type": "stream",
     "text": [
      "Epoch 58/100\n",
      "943/943 [==============================] - 2s 2ms/step - loss: 0.2567 - accuracy: 0.8792 - val_loss: 0.3738 - val_accuracy: 0.8452\n",
      "Epoch 59/100\n",
      "943/943 [==============================] - 2s 2ms/step - loss: 0.2565 - accuracy: 0.8786 - val_loss: 0.3768 - val_accuracy: 0.8435\n",
      "Epoch 60/100\n",
      "943/943 [==============================] - 2s 2ms/step - loss: 0.2558 - accuracy: 0.8792 - val_loss: 0.3744 - val_accuracy: 0.8432\n",
      "Epoch 61/100\n",
      "943/943 [==============================] - 2s 2ms/step - loss: 0.2551 - accuracy: 0.8801 - val_loss: 0.3781 - val_accuracy: 0.8437\n",
      "Epoch 62/100\n",
      "943/943 [==============================] - 2s 2ms/step - loss: 0.2544 - accuracy: 0.8785 - val_loss: 0.3812 - val_accuracy: 0.8376\n",
      "Epoch 63/100\n",
      "943/943 [==============================] - 2s 2ms/step - loss: 0.2537 - accuracy: 0.8802 - val_loss: 0.3858 - val_accuracy: 0.8418\n",
      "Epoch 64/100\n",
      "943/943 [==============================] - 2s 2ms/step - loss: 0.2525 - accuracy: 0.8798 - val_loss: 0.3851 - val_accuracy: 0.8432\n",
      "Epoch 65/100\n",
      "943/943 [==============================] - 2s 2ms/step - loss: 0.2523 - accuracy: 0.8796 - val_loss: 0.3868 - val_accuracy: 0.8432\n",
      "Epoch 66/100\n",
      "943/943 [==============================] - 2s 2ms/step - loss: 0.2514 - accuracy: 0.8806 - val_loss: 0.3890 - val_accuracy: 0.8418\n",
      "Epoch 67/100\n",
      "943/943 [==============================] - 2s 2ms/step - loss: 0.2507 - accuracy: 0.8809 - val_loss: 0.3963 - val_accuracy: 0.8441\n",
      "Epoch 68/100\n",
      "943/943 [==============================] - 2s 2ms/step - loss: 0.2504 - accuracy: 0.8799 - val_loss: 0.3988 - val_accuracy: 0.8410\n",
      "Epoch 69/100\n",
      "943/943 [==============================] - 2s 2ms/step - loss: 0.2492 - accuracy: 0.8821 - val_loss: 0.3937 - val_accuracy: 0.8407\n",
      "Epoch 70/100\n",
      "943/943 [==============================] - 2s 2ms/step - loss: 0.2497 - accuracy: 0.8815 - val_loss: 0.3986 - val_accuracy: 0.8403\n",
      "Epoch 71/100\n",
      "943/943 [==============================] - 2s 2ms/step - loss: 0.2483 - accuracy: 0.8821 - val_loss: 0.4080 - val_accuracy: 0.8432\n",
      "Epoch 72/100\n",
      "943/943 [==============================] - 2s 2ms/step - loss: 0.2475 - accuracy: 0.8827 - val_loss: 0.3992 - val_accuracy: 0.8424\n",
      "Epoch 73/100\n",
      "943/943 [==============================] - 2s 2ms/step - loss: 0.2474 - accuracy: 0.8832 - val_loss: 0.4023 - val_accuracy: 0.8398\n",
      "Epoch 74/100\n",
      "943/943 [==============================] - 2s 2ms/step - loss: 0.2466 - accuracy: 0.8834 - val_loss: 0.4084 - val_accuracy: 0.8376\n",
      "Epoch 75/100\n",
      "943/943 [==============================] - 2s 2ms/step - loss: 0.2464 - accuracy: 0.8838 - val_loss: 0.4078 - val_accuracy: 0.8366\n",
      "Epoch 76/100\n",
      "943/943 [==============================] - 2s 2ms/step - loss: 0.2451 - accuracy: 0.8839 - val_loss: 0.4106 - val_accuracy: 0.8351\n",
      "Epoch 77/100\n",
      "943/943 [==============================] - 2s 2ms/step - loss: 0.2451 - accuracy: 0.8836 - val_loss: 0.4254 - val_accuracy: 0.8416\n",
      "Epoch 78/100\n",
      "943/943 [==============================] - 2s 2ms/step - loss: 0.2447 - accuracy: 0.8842 - val_loss: 0.4168 - val_accuracy: 0.8419\n",
      "Epoch 79/100\n",
      "943/943 [==============================] - 2s 2ms/step - loss: 0.2434 - accuracy: 0.8847 - val_loss: 0.4164 - val_accuracy: 0.8405\n",
      "Epoch 80/100\n",
      "943/943 [==============================] - 2s 2ms/step - loss: 0.2430 - accuracy: 0.8852 - val_loss: 0.4198 - val_accuracy: 0.8378\n",
      "Epoch 81/100\n",
      "943/943 [==============================] - 2s 2ms/step - loss: 0.2429 - accuracy: 0.8846 - val_loss: 0.4145 - val_accuracy: 0.8380\n",
      "Epoch 82/100\n",
      "943/943 [==============================] - 2s 2ms/step - loss: 0.2422 - accuracy: 0.8842 - val_loss: 0.4259 - val_accuracy: 0.8367\n",
      "Epoch 83/100\n",
      "943/943 [==============================] - 2s 2ms/step - loss: 0.2417 - accuracy: 0.8854 - val_loss: 0.4201 - val_accuracy: 0.8365\n",
      "Epoch 84/100\n",
      "943/943 [==============================] - 2s 2ms/step - loss: 0.2412 - accuracy: 0.8843 - val_loss: 0.4149 - val_accuracy: 0.8418\n",
      "Epoch 85/100\n",
      "943/943 [==============================] - 2s 2ms/step - loss: 0.2403 - accuracy: 0.8861 - val_loss: 0.4158 - val_accuracy: 0.8397\n",
      "Epoch 86/100\n",
      "943/943 [==============================] - 2s 2ms/step - loss: 0.2402 - accuracy: 0.8855 - val_loss: 0.4301 - val_accuracy: 0.8394\n",
      "Epoch 87/100\n",
      "943/943 [==============================] - 2s 2ms/step - loss: 0.2395 - accuracy: 0.8858 - val_loss: 0.4299 - val_accuracy: 0.8400\n",
      "Epoch 88/100\n",
      "943/943 [==============================] - 2s 2ms/step - loss: 0.2384 - accuracy: 0.8864 - val_loss: 0.4357 - val_accuracy: 0.8307\n",
      "Epoch 89/100\n",
      "943/943 [==============================] - 2s 2ms/step - loss: 0.2386 - accuracy: 0.8871 - val_loss: 0.4396 - val_accuracy: 0.8414\n",
      "Epoch 90/100\n",
      "943/943 [==============================] - 2s 2ms/step - loss: 0.2379 - accuracy: 0.8865 - val_loss: 0.4289 - val_accuracy: 0.8382\n",
      "Epoch 91/100\n",
      "943/943 [==============================] - 2s 2ms/step - loss: 0.2376 - accuracy: 0.8867 - val_loss: 0.4319 - val_accuracy: 0.8402\n",
      "Epoch 92/100\n",
      "943/943 [==============================] - 2s 2ms/step - loss: 0.2378 - accuracy: 0.8866 - val_loss: 0.4347 - val_accuracy: 0.8379\n",
      "Epoch 93/100\n",
      "943/943 [==============================] - 2s 2ms/step - loss: 0.2360 - accuracy: 0.8875 - val_loss: 0.4378 - val_accuracy: 0.8404\n",
      "Epoch 94/100\n",
      "943/943 [==============================] - 2s 2ms/step - loss: 0.2367 - accuracy: 0.8876 - val_loss: 0.4407 - val_accuracy: 0.8390\n",
      "Epoch 95/100\n",
      "943/943 [==============================] - 2s 2ms/step - loss: 0.2349 - accuracy: 0.8876 - val_loss: 0.4358 - val_accuracy: 0.8408\n",
      "Epoch 96/100\n",
      "943/943 [==============================] - 2s 2ms/step - loss: 0.2348 - accuracy: 0.8878 - val_loss: 0.4480 - val_accuracy: 0.8410\n",
      "Epoch 97/100\n",
      "943/943 [==============================] - 2s 2ms/step - loss: 0.2349 - accuracy: 0.8879 - val_loss: 0.4495 - val_accuracy: 0.8408\n",
      "Epoch 98/100\n",
      "943/943 [==============================] - 2s 2ms/step - loss: 0.2342 - accuracy: 0.8881 - val_loss: 0.4485 - val_accuracy: 0.8375\n",
      "Epoch 99/100\n",
      "943/943 [==============================] - 2s 2ms/step - loss: 0.2327 - accuracy: 0.8889 - val_loss: 0.4475 - val_accuracy: 0.8389\n",
      "Epoch 100/100\n",
      "943/943 [==============================] - 2s 2ms/step - loss: 0.2331 - accuracy: 0.8885 - val_loss: 0.4464 - val_accuracy: 0.8386\n"
     ]
    }
   ],
   "source": [
    "from sklearn.preprocessing import StandardScaler\n",
    "\n",
    "scaler = StandardScaler()\n",
    "scaler.fit(X_train)\n",
    "X_train_scaled = scaler.transform(X_train)\n",
    "X_test_scaled = scaler.transform(X_test)\n",
    "history2 = model.fit(X_train_scaled , y_train, validation_data= (X_test_scaled , y_test), batch_size=32, epochs=100)"
   ]
  },
  {
   "cell_type": "markdown",
   "metadata": {},
   "source": [
    "# Zad. \n",
    "Stwórz wykres porównujący metody. "
   ]
  },
  {
   "cell_type": "code",
   "execution_count": 22,
   "metadata": {},
   "outputs": [
    {
     "data": {
      "image/png": "[encoded data removed]",
      "text/plain": [
       "<Figure size 432x288 with 1 Axes>"
      ]
     },
     "metadata": {
      "needs_background": "light"
     },
     "output_type": "display_data"
    }
   ],
   "source": [
    "# don't touch to not lose this diagram"
   ]
  },
  {
   "cell_type": "code",
   "execution_count": 17,
   "metadata": {},
   "outputs": [
    {
     "data": {
      "image/png": "[encoded data removed]",
      "text/plain": [
       "<Figure size 576x360 with 1 Axes>"
      ]
     },
     "metadata": {
      "needs_background": "light"
     },
     "output_type": "display_data"
    },
    {
     "data": {
      "image/png": "[encoded data removed]",
      "text/plain": [
       "<Figure size 576x360 with 1 Axes>"
      ]
     },
     "metadata": {
      "needs_background": "light"
     },
     "output_type": "display_data"
    }
   ],
   "source": [
    "import pandas as pd\n",
    "\n",
    "pd.DataFrame(history.history).plot(figsize=(8, 5))\n",
    "pd.DataFrame(history2.history).plot(figsize=(8, 5))\n",
    "plt.grid(True)\n",
    "plt.gca().set_ylim(0, 1)\n",
    "plt.show()"
   ]
  }
 ],
 "metadata": {
  "kernelspec": {
   "display_name": "Python 3 (ipykernel)",
   "language": "python",
   "name": "python3"
  },
  "language_info": {
   "codemirror_mode": {
    "name": "ipython",
    "version": 3
   },
   "file_extension": ".py",
   "mimetype": "text/x-python",
   "name": "python",
   "nbconvert_exporter": "python",
   "pygments_lexer": "ipython3",
   "version": "3.10.4"
  }
 },
 "nbformat": 4,
 "nbformat_minor": 4
}
