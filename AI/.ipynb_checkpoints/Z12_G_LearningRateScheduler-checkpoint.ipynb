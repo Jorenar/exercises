{
 "cells": [
  {
   "cell_type": "code",
   "execution_count": 4,
   "metadata": {},
   "outputs": [
    {
     "name": "stdout",
     "output_type": "stream",
     "text": [
      "2.9.1\n",
      "2.9.0\n"
     ]
    }
   ],
   "source": [
    "import tensorflow as tf\n",
    "from tensorflow import keras\n",
    "print(tf.__version__)\n",
    "\n",
    "print(keras.__version__)\n",
    "\n",
    "from numpy.random import seed\n",
    "seed(123)"
   ]
  },
  {
   "cell_type": "markdown",
   "metadata": {},
   "source": [
    "# Zad\n",
    "Porównaj wyniki działań różnych optymalizacji\n"
   ]
  },
  {
   "cell_type": "code",
   "execution_count": 5,
   "metadata": {},
   "outputs": [
    {
     "name": "stderr",
     "output_type": "stream",
     "text": [
      "/tmp/ipykernel_1467619/4098396877.py:6: ParserWarning: Falling back to the 'python' engine because the 'c' engine does not support regex separators (separators > 1 char and different from '\\s+' are interpreted as regex); you can avoid this warning by specifying engine='python'.\n",
      "  train_set = pd.read_csv('data/adult/adult.data', sep=\", \",header = None)\n",
      "/tmp/ipykernel_1467619/4098396877.py:7: ParserWarning: Falling back to the 'python' engine because the 'c' engine does not support regex separators (separators > 1 char and different from '\\s+' are interpreted as regex); you can avoid this warning by specifying engine='python'.\n",
      "  test_set = pd.read_csv('data/adult/adult.test', sep=\", \",skiprows = 1, header = None) # Make sure to skip a row for the test set\n"
     ]
    },
    {
     "data": {
      "text/html": [
       "<div>\n",
       "<style scoped>\n",
       "    .dataframe tbody tr th:only-of-type {\n",
       "        vertical-align: middle;\n",
       "    }\n",
       "\n",
       "    .dataframe tbody tr th {\n",
       "        vertical-align: top;\n",
       "    }\n",
       "\n",
       "    .dataframe thead th {\n",
       "        text-align: right;\n",
       "    }\n",
       "</style>\n",
       "<table border=\"1\" class=\"dataframe\">\n",
       "  <thead>\n",
       "    <tr style=\"text-align: right;\">\n",
       "      <th></th>\n",
       "      <th>age</th>\n",
       "      <th>workclass</th>\n",
       "      <th>fnlwgt</th>\n",
       "      <th>education</th>\n",
       "      <th>education_num</th>\n",
       "      <th>marital_status</th>\n",
       "      <th>occupation</th>\n",
       "      <th>relationship</th>\n",
       "      <th>race</th>\n",
       "      <th>sex</th>\n",
       "      <th>capital_gain</th>\n",
       "      <th>capital_loss</th>\n",
       "      <th>hours_per_week</th>\n",
       "      <th>native_country</th>\n",
       "      <th>wage_class</th>\n",
       "    </tr>\n",
       "  </thead>\n",
       "  <tbody>\n",
       "    <tr>\n",
       "      <th>0</th>\n",
       "      <td>39</td>\n",
       "      <td>State-gov</td>\n",
       "      <td>77516</td>\n",
       "      <td>Bachelors</td>\n",
       "      <td>13</td>\n",
       "      <td>Never-married</td>\n",
       "      <td>Adm-clerical</td>\n",
       "      <td>Not-in-family</td>\n",
       "      <td>White</td>\n",
       "      <td>Male</td>\n",
       "      <td>2174</td>\n",
       "      <td>0</td>\n",
       "      <td>40</td>\n",
       "      <td>United-States</td>\n",
       "      <td>&lt;=50K</td>\n",
       "    </tr>\n",
       "    <tr>\n",
       "      <th>1</th>\n",
       "      <td>50</td>\n",
       "      <td>Self-emp-not-inc</td>\n",
       "      <td>83311</td>\n",
       "      <td>Bachelors</td>\n",
       "      <td>13</td>\n",
       "      <td>Married-civ-spouse</td>\n",
       "      <td>Exec-managerial</td>\n",
       "      <td>Husband</td>\n",
       "      <td>White</td>\n",
       "      <td>Male</td>\n",
       "      <td>0</td>\n",
       "      <td>0</td>\n",
       "      <td>13</td>\n",
       "      <td>United-States</td>\n",
       "      <td>&lt;=50K</td>\n",
       "    </tr>\n",
       "    <tr>\n",
       "      <th>2</th>\n",
       "      <td>38</td>\n",
       "      <td>Private</td>\n",
       "      <td>215646</td>\n",
       "      <td>HS-grad</td>\n",
       "      <td>9</td>\n",
       "      <td>Divorced</td>\n",
       "      <td>Handlers-cleaners</td>\n",
       "      <td>Not-in-family</td>\n",
       "      <td>White</td>\n",
       "      <td>Male</td>\n",
       "      <td>0</td>\n",
       "      <td>0</td>\n",
       "      <td>40</td>\n",
       "      <td>United-States</td>\n",
       "      <td>&lt;=50K</td>\n",
       "    </tr>\n",
       "    <tr>\n",
       "      <th>3</th>\n",
       "      <td>53</td>\n",
       "      <td>Private</td>\n",
       "      <td>234721</td>\n",
       "      <td>11th</td>\n",
       "      <td>7</td>\n",
       "      <td>Married-civ-spouse</td>\n",
       "      <td>Handlers-cleaners</td>\n",
       "      <td>Husband</td>\n",
       "      <td>Black</td>\n",
       "      <td>Male</td>\n",
       "      <td>0</td>\n",
       "      <td>0</td>\n",
       "      <td>40</td>\n",
       "      <td>United-States</td>\n",
       "      <td>&lt;=50K</td>\n",
       "    </tr>\n",
       "    <tr>\n",
       "      <th>4</th>\n",
       "      <td>28</td>\n",
       "      <td>Private</td>\n",
       "      <td>338409</td>\n",
       "      <td>Bachelors</td>\n",
       "      <td>13</td>\n",
       "      <td>Married-civ-spouse</td>\n",
       "      <td>Prof-specialty</td>\n",
       "      <td>Wife</td>\n",
       "      <td>Black</td>\n",
       "      <td>Female</td>\n",
       "      <td>0</td>\n",
       "      <td>0</td>\n",
       "      <td>40</td>\n",
       "      <td>Cuba</td>\n",
       "      <td>&lt;=50K</td>\n",
       "    </tr>\n",
       "  </tbody>\n",
       "</table>\n",
       "</div>"
      ],
      "text/plain": [
       "   age         workclass  fnlwgt  education  education_num  \\\n",
       "0   39         State-gov   77516  Bachelors             13   \n",
       "1   50  Self-emp-not-inc   83311  Bachelors             13   \n",
       "2   38           Private  215646    HS-grad              9   \n",
       "3   53           Private  234721       11th              7   \n",
       "4   28           Private  338409  Bachelors             13   \n",
       "\n",
       "       marital_status         occupation   relationship   race     sex  \\\n",
       "0       Never-married       Adm-clerical  Not-in-family  White    Male   \n",
       "1  Married-civ-spouse    Exec-managerial        Husband  White    Male   \n",
       "2            Divorced  Handlers-cleaners  Not-in-family  White    Male   \n",
       "3  Married-civ-spouse  Handlers-cleaners        Husband  Black    Male   \n",
       "4  Married-civ-spouse     Prof-specialty           Wife  Black  Female   \n",
       "\n",
       "   capital_gain  capital_loss  hours_per_week native_country wage_class  \n",
       "0          2174             0              40  United-States      <=50K  \n",
       "1             0             0              13  United-States      <=50K  \n",
       "2             0             0              40  United-States      <=50K  \n",
       "3             0             0              40  United-States      <=50K  \n",
       "4             0             0              40           Cuba      <=50K  "
      ]
     },
     "execution_count": 5,
     "metadata": {},
     "output_type": "execute_result"
    }
   ],
   "source": [
    "# Wczytaj dane treningowe i testowe\n",
    "import numpy as np\n",
    "import matplotlib.pyplot as plt\n",
    "import pandas as pd\n",
    "\n",
    "train_set = pd.read_csv('data/adult/adult.data', sep=\", \",header = None)\n",
    "test_set = pd.read_csv('data/adult/adult.test', sep=\", \",skiprows = 1, header = None) # Make sure to skip a row for the test set\n",
    "\n",
    "col_labels = ['age', 'workclass', 'fnlwgt', 'education', 'education_num', 'marital_status', 'occupation', \n",
    "              'relationship', 'race', 'sex', 'capital_gain', 'capital_loss', 'hours_per_week', 'native_country',\n",
    "             'wage_class']\n",
    "train_set.columns = col_labels\n",
    "test_set.columns = col_labels\n",
    "\n",
    "train = train_set.replace('?', np.nan).dropna()\n",
    "test = test_set.replace('?', np.nan).dropna()\n",
    "\n",
    "train_set.head()\n"
   ]
  },
  {
   "cell_type": "code",
   "execution_count": 6,
   "metadata": {},
   "outputs": [
    {
     "name": "stdout",
     "output_type": "stream",
     "text": [
      "(30162, 41)\n"
     ]
    },
    {
     "data": {
      "text/plain": [
       "(15060, 41)"
      ]
     },
     "execution_count": 6,
     "metadata": {},
     "output_type": "execute_result"
    }
   ],
   "source": [
    "dataset = pd.concat([train,test])\n",
    "\n",
    "dataset['wage_class'] = dataset.wage_class.replace({'<=50K.': 0,'<=50K':0, '>50K.':1, '>50K':1})\n",
    "\n",
    "dataset.drop([\"fnlwgt\"],axis=1,inplace=True)\n",
    "\n",
    "dataset.drop([\"education\"],axis=1,inplace=True)\n",
    "\n",
    "x = dataset.groupby('native_country')[\"wage_class\"].mean()\n",
    "\n",
    "d = dict(pd.cut(x[x.index!=\" United-States\"],5,labels=range(5)))\n",
    "\n",
    "dataset['native_country'] = dataset['native_country'].replace(d)\n",
    "\n",
    "dataset = pd.get_dummies(dataset,drop_first=True)\n",
    "\n",
    "train = dataset.iloc[:train.shape[0]]\n",
    "test = dataset.iloc[train.shape[0]:]\n",
    "\n",
    "X_train = train.drop(\"wage_class\",axis=1)\n",
    "y_train = train.wage_class\n",
    "\n",
    "X_test = test.drop(\"wage_class\",axis=1)\n",
    "y_test = test.wage_class\n",
    "\n",
    "from sklearn.preprocessing import StandardScaler\n",
    "sc = StandardScaler()\n",
    "X_train = sc.fit_transform(X_train)\n",
    "X_test = sc.transform(X_test)\n",
    "\n",
    "print(X_train.shape)\n",
    "X_test.shape"
   ]
  },
  {
   "cell_type": "markdown",
   "metadata": {},
   "source": [
    "# SGD"
   ]
  },
  {
   "cell_type": "code",
   "execution_count": 7,
   "metadata": {},
   "outputs": [
    {
     "name": "stdout",
     "output_type": "stream",
     "text": [
      "Model: \"sequential_1\"\n",
      "_________________________________________________________________\n",
      " Layer (type)                Output Shape              Param #   \n",
      "=================================================================\n",
      " dense (Dense)               (None, 100)               4200      \n",
      "                                                                 \n",
      " dense_1 (Dense)             (None, 50)                5050      \n",
      "                                                                 \n",
      " dense_2 (Dense)             (None, 10)                510       \n",
      "                                                                 \n",
      " dense_3 (Dense)             (None, 1)                 11        \n",
      "                                                                 \n",
      "=================================================================\n",
      "Total params: 9,771\n",
      "Trainable params: 9,771\n",
      "Non-trainable params: 0\n",
      "_________________________________________________________________\n"
     ]
    }
   ],
   "source": [
    "from keras.models import Sequential\n",
    "from keras.layers import Dense\n",
    "\n",
    "from keras.callbacks import History\n",
    "\n",
    "history_sgd = History()\n",
    "model = Sequential()\n",
    "model.add(Dense(100,activation=\"sigmoid\",input_shape=(X_train.shape[1],)))\n",
    "model.add(Dense(50,activation=\"sigmoid\"))\n",
    "model.add(Dense(10,activation=\"sigmoid\"))\n",
    "model.add(Dense(1,activation=\"sigmoid\"))\n",
    "model.summary()"
   ]
  },
  {
   "cell_type": "code",
   "execution_count": 8,
   "metadata": {},
   "outputs": [
    {
     "name": "stderr",
     "output_type": "stream",
     "text": [
      "/home/joren/.local/lib/python3.10/site-packages/keras/optimizers/optimizer_v2/gradient_descent.py:108: UserWarning: The `lr` argument is deprecated, use `learning_rate` instead.\n",
      "  super(SGD, self).__init__(name, **kwargs)\n"
     ]
    }
   ],
   "source": [
    "sgd = keras.optimizers.SGD(lr=0.01, decay=1e-6, momentum=0.9, nesterov=True)\n",
    "model.compile(loss=\"binary_crossentropy\",optimizer=sgd, metrics=[\"accuracy\"])"
   ]
  },
  {
   "cell_type": "code",
   "execution_count": 9,
   "metadata": {
    "scrolled": true
   },
   "outputs": [
    {
     "name": "stdout",
     "output_type": "stream",
     "text": [
      "Epoch 1/8\n",
      "943/943 [==============================] - 2s 2ms/step - loss: 0.5057 - accuracy: 0.7638 - val_loss: 0.3745 - val_accuracy: 0.8313\n",
      "Epoch 2/8\n",
      "943/943 [==============================] - 2s 2ms/step - loss: 0.3502 - accuracy: 0.8364 - val_loss: 0.3461 - val_accuracy: 0.8339\n",
      "Epoch 3/8\n",
      "943/943 [==============================] - 2s 2ms/step - loss: 0.3375 - accuracy: 0.8410 - val_loss: 0.3357 - val_accuracy: 0.8414\n",
      "Epoch 4/8\n",
      "943/943 [==============================] - 2s 2ms/step - loss: 0.3319 - accuracy: 0.8451 - val_loss: 0.3335 - val_accuracy: 0.8422\n",
      "Epoch 5/8\n",
      "943/943 [==============================] - 2s 2ms/step - loss: 0.3298 - accuracy: 0.8446 - val_loss: 0.3344 - val_accuracy: 0.8415\n",
      "Epoch 6/8\n",
      "943/943 [==============================] - 2s 2ms/step - loss: 0.3274 - accuracy: 0.8458 - val_loss: 0.3290 - val_accuracy: 0.8463\n",
      "Epoch 7/8\n",
      "943/943 [==============================] - 2s 2ms/step - loss: 0.3265 - accuracy: 0.8470 - val_loss: 0.3272 - val_accuracy: 0.8464\n",
      "Epoch 8/8\n",
      "943/943 [==============================] - 2s 2ms/step - loss: 0.3256 - accuracy: 0.8479 - val_loss: 0.3261 - val_accuracy: 0.8473\n"
     ]
    },
    {
     "data": {
      "text/plain": [
       "<keras.callbacks.History at 0x7fa19dfa4190>"
      ]
     },
     "execution_count": 9,
     "metadata": {},
     "output_type": "execute_result"
    }
   ],
   "source": [
    "model.fit(X_train, y_train, validation_data= (X_test, y_test), batch_size=32,epochs=8, callbacks=[history_sgd])"
   ]
  },
  {
   "cell_type": "code",
   "execution_count": 10,
   "metadata": {},
   "outputs": [
    {
     "data": {
      "text/plain": [
       "dict_keys(['loss', 'accuracy', 'val_loss', 'val_accuracy'])"
      ]
     },
     "execution_count": 10,
     "metadata": {},
     "output_type": "execute_result"
    }
   ],
   "source": [
    "history_sgd.history.keys()"
   ]
  },
  {
   "cell_type": "code",
   "execution_count": 11,
   "metadata": {},
   "outputs": [
    {
     "data": {
      "image/png": "[encoded data removed]",
      "text/plain": [
       "<Figure size 432x288 with 1 Axes>"
      ]
     },
     "metadata": {
      "needs_background": "light"
     },
     "output_type": "display_data"
    }
   ],
   "source": [
    "import matplotlib.pyplot as pl\n",
    "plt.plot(history_sgd.history['accuracy'], label = \"tarina\")\n",
    "plt.plot(history_sgd.history['val_accuracy'], label = \"test\")\n",
    "plt.legend()\n",
    "plt.show()"
   ]
  },
  {
   "cell_type": "markdown",
   "metadata": {},
   "source": [
    "# Zad\n",
    "\n",
    "Użyjmy LearningRateScheduler"
   ]
  },
  {
   "cell_type": "code",
   "execution_count": 12,
   "metadata": {
    "scrolled": true
   },
   "outputs": [
    {
     "name": "stdout",
     "output_type": "stream",
     "text": [
      "Model: \"sequential_2\"\n",
      "_________________________________________________________________\n",
      " Layer (type)                Output Shape              Param #   \n",
      "=================================================================\n",
      " dense_4 (Dense)             (None, 100)               4200      \n",
      "                                                                 \n",
      " dense_5 (Dense)             (None, 50)                5050      \n",
      "                                                                 \n",
      " dense_6 (Dense)             (None, 10)                510       \n",
      "                                                                 \n",
      " dense_7 (Dense)             (None, 1)                 11        \n",
      "                                                                 \n",
      "=================================================================\n",
      "Total params: 9,771\n",
      "Trainable params: 9,771\n",
      "Non-trainable params: 0\n",
      "_________________________________________________________________\n",
      "Epoch 1/8\n",
      "943/943 [==============================] - 2s 2ms/step - loss: 0.5851 - accuracy: 0.7182 - val_loss: 0.5566 - val_accuracy: 0.7543 - lr: 0.0100\n",
      "Epoch 2/8\n",
      "943/943 [==============================] - 2s 2ms/step - loss: 0.5597 - accuracy: 0.7511 - val_loss: 0.5556 - val_accuracy: 0.7543 - lr: 0.0100\n",
      "Epoch 3/8\n",
      "943/943 [==============================] - 2s 2ms/step - loss: 0.5587 - accuracy: 0.7511 - val_loss: 0.5545 - val_accuracy: 0.7543 - lr: 0.0100\n",
      "Epoch 4/8\n",
      "943/943 [==============================] - 2s 2ms/step - loss: 0.5574 - accuracy: 0.7511 - val_loss: 0.5531 - val_accuracy: 0.7543 - lr: 0.0100\n",
      "Epoch 5/8\n",
      "943/943 [==============================] - 2s 2ms/step - loss: 0.5557 - accuracy: 0.7511 - val_loss: 0.5517 - val_accuracy: 0.7543 - lr: 0.0100\n",
      "Epoch 6/8\n",
      "943/943 [==============================] - 2s 2ms/step - loss: 0.5535 - accuracy: 0.7511 - val_loss: 0.5486 - val_accuracy: 0.7543 - lr: 0.0100\n",
      "Epoch 7/8\n",
      "943/943 [==============================] - 2s 2ms/step - loss: 0.5502 - accuracy: 0.7511 - val_loss: 0.5446 - val_accuracy: 0.7543 - lr: 0.0100\n",
      "Epoch 8/8\n",
      "943/943 [==============================] - 2s 2ms/step - loss: 0.5451 - accuracy: 0.7511 - val_loss: 0.5383 - val_accuracy: 0.7543 - lr: 0.0100\n"
     ]
    },
    {
     "data": {
      "text/plain": [
       "<keras.callbacks.History at 0x7fa19dfa4eb0>"
      ]
     },
     "execution_count": 12,
     "metadata": {},
     "output_type": "execute_result"
    }
   ],
   "source": [
    "from keras.callbacks import LearningRateScheduler\n",
    "# learning rate schedule\n",
    "def step_decay(epoch):\n",
    "    initial_lrate = 0.01\n",
    "    drop = 0.5\n",
    "    epochs_drop = 10.0\n",
    "    lrate = initial_lrate * np.power(drop, np.floor((1+epoch)/epochs_drop))\n",
    "    return lrate\n",
    "\n",
    "history_lr_1 = History()\n",
    "model = Sequential()\n",
    "model.add(Dense(100,activation=\"sigmoid\",input_shape=(X_train.shape[1],)))\n",
    "model.add(Dense(50,activation=\"sigmoid\"))\n",
    "model.add(Dense(10,activation=\"sigmoid\"))\n",
    "model.add(Dense(1,activation=\"sigmoid\"))\n",
    "model.summary()\n",
    "\n",
    "# sgd = keras.optimizers.SGD(lr=0.01, decay=1e-6, momentum=0.9, nesterov=True)\n",
    "model.compile(loss=\"binary_crossentropy\",optimizer=\"SGD\", metrics=[\"accuracy\"])\n",
    "\n",
    "lrate = LearningRateScheduler(step_decay)\n",
    "model.fit(X_train, y_train, validation_data= (X_test, y_test), batch_size=32,epochs=8, callbacks=[lrate, history_lr_1])\n"
   ]
  },
  {
   "cell_type": "code",
   "execution_count": 13,
   "metadata": {},
   "outputs": [
    {
     "data": {
      "image/png": "[encoded data removed]",
      "text/plain": [
       "<Figure size 432x288 with 1 Axes>"
      ]
     },
     "metadata": {
      "needs_background": "light"
     },
     "output_type": "display_data"
    }
   ],
   "source": [
    "import matplotlib.pyplot as plt\n",
    "plt.plot(history_sgd.history['accuracy'], label = \"tarina\")\n",
    "plt.plot(history_sgd.history['val_accuracy'], label = \"test\")\n",
    "\n",
    "plt.plot(history_lr_1.history['accuracy'], label = \"tarina LR\")\n",
    "plt.plot(history_lr_1.history['val_accuracy'], label = \"test LR\")\n",
    "plt.legend()\n",
    "plt.show()"
   ]
  },
  {
   "cell_type": "markdown",
   "metadata": {},
   "source": [
    "# Zad\n",
    "\n",
    "Wykonaj analogiczne zadanie dla \n",
    "* Adam bez LearningRateScheduler i learning_rate=0.001\n",
    "* Adam z użyciem LearningRateScheduler i learning_rate=0.001\n",
    "* Adam z użyciem LearningRateScheduler i learning_rate=0.0001\n",
    "\n",
    "Zwizualizuj wyniki:\n",
    "\n",
    "* porównaj krzywe uczenia"
   ]
  },
  {
   "cell_type": "markdown",
   "metadata": {},
   "source": [
    "# Adam"
   ]
  },
  {
   "cell_type": "code",
   "execution_count": 14,
   "metadata": {
    "scrolled": true
   },
   "outputs": [
    {
     "name": "stdout",
     "output_type": "stream",
     "text": [
      "Model: \"sequential_3\"\n",
      "_________________________________________________________________\n",
      " Layer (type)                Output Shape              Param #   \n",
      "=================================================================\n",
      " dense_8 (Dense)             (None, 100)               4200      \n",
      "                                                                 \n",
      " dense_9 (Dense)             (None, 50)                5050      \n",
      "                                                                 \n",
      " dense_10 (Dense)            (None, 10)                510       \n",
      "                                                                 \n",
      " dense_11 (Dense)            (None, 1)                 11        \n",
      "                                                                 \n",
      "=================================================================\n",
      "Total params: 9,771\n",
      "Trainable params: 9,771\n",
      "Non-trainable params: 0\n",
      "_________________________________________________________________\n",
      "Epoch 1/10\n",
      "943/943 [==============================] - 2s 2ms/step - loss: 0.3780 - accuracy: 0.8252 - val_loss: 0.3413 - val_accuracy: 0.8457\n",
      "Epoch 2/10\n",
      "943/943 [==============================] - 2s 2ms/step - loss: 0.3347 - accuracy: 0.8444 - val_loss: 0.3318 - val_accuracy: 0.8444\n",
      "Epoch 3/10\n",
      "943/943 [==============================] - 2s 2ms/step - loss: 0.3285 - accuracy: 0.8465 - val_loss: 0.3280 - val_accuracy: 0.8484\n",
      "Epoch 4/10\n",
      "943/943 [==============================] - 2s 2ms/step - loss: 0.3244 - accuracy: 0.8479 - val_loss: 0.3271 - val_accuracy: 0.8486\n",
      "Epoch 5/10\n",
      "943/943 [==============================] - 2s 2ms/step - loss: 0.3229 - accuracy: 0.8490 - val_loss: 0.3251 - val_accuracy: 0.8491\n",
      "Epoch 6/10\n",
      "943/943 [==============================] - 2s 2ms/step - loss: 0.3219 - accuracy: 0.8501 - val_loss: 0.3239 - val_accuracy: 0.8482\n",
      "Epoch 7/10\n",
      "943/943 [==============================] - 2s 2ms/step - loss: 0.3201 - accuracy: 0.8500 - val_loss: 0.3230 - val_accuracy: 0.8508\n",
      "Epoch 8/10\n",
      "943/943 [==============================] - 2s 2ms/step - loss: 0.3188 - accuracy: 0.8511 - val_loss: 0.3222 - val_accuracy: 0.8494\n",
      "Epoch 9/10\n",
      "943/943 [==============================] - 2s 2ms/step - loss: 0.3175 - accuracy: 0.8514 - val_loss: 0.3212 - val_accuracy: 0.8499\n",
      "Epoch 10/10\n",
      "943/943 [==============================] - 2s 2ms/step - loss: 0.3161 - accuracy: 0.8517 - val_loss: 0.3247 - val_accuracy: 0.8493\n"
     ]
    },
    {
     "data": {
      "text/plain": [
       "<keras.callbacks.History at 0x7fa114907fa0>"
      ]
     },
     "execution_count": 14,
     "metadata": {},
     "output_type": "execute_result"
    }
   ],
   "source": [
    "history_adam_1 = History()\n",
    "model = Sequential()\n",
    "model.add(Dense(100,activation=\"sigmoid\",input_shape=(X_train.shape[1],)))\n",
    "model.add(Dense(50,activation=\"sigmoid\"))\n",
    "model.add(Dense(10,activation=\"sigmoid\"))\n",
    "model.add(Dense(1,activation=\"sigmoid\"))\n",
    "model.summary()\n",
    "\n",
    "# sgd = keras.optimizers.SGD(lr=0.01, decay=1e-6, momentum=0.9, nesterov=True)\n",
    "model.compile(loss=\"binary_crossentropy\",optimizer=keras.optimizers.Adam(learning_rate=0.001), metrics=[\"accuracy\"])\n",
    "\n",
    "model.fit(X_train, y_train, validation_data= (X_test, y_test), batch_size=32,epochs=10, callbacks=[history_adam_1])\n"
   ]
  },
  {
   "cell_type": "code",
   "execution_count": 14,
   "metadata": {
    "scrolled": true
   },
   "outputs": [
    {
     "name": "stdout",
     "output_type": "stream",
     "text": [
      "Model: \"sequential_5\"\n",
      "_________________________________________________________________\n",
      " Layer (type)                Output Shape              Param #   \n",
      "=================================================================\n",
      " dense_20 (Dense)            (None, 100)               4200      \n",
      "                                                                 \n",
      " dense_21 (Dense)            (None, 50)                5050      \n",
      "                                                                 \n",
      " dense_22 (Dense)            (None, 10)                510       \n",
      "                                                                 \n",
      " dense_23 (Dense)            (None, 1)                 11        \n",
      "                                                                 \n",
      "=================================================================\n",
      "Total params: 9,771\n",
      "Trainable params: 9,771\n",
      "Non-trainable params: 0\n",
      "_________________________________________________________________\n",
      "Epoch 1/10\n",
      "  7/943 [..............................] - ETA: 8s - loss: 0.9668 - accuracy: 0.2679  "
     ]
    },
    {
     "name": "stderr",
     "output_type": "stream",
     "text": [
      "2022-05-27 14:49:20.133150: I tensorflow/core/grappler/optimizers/custom_graph_optimizer_registry.cc:113] Plugin optimizer for device_type GPU is enabled.\n"
     ]
    },
    {
     "name": "stdout",
     "output_type": "stream",
     "text": [
      "943/943 [==============================] - ETA: 0s - loss: 0.5773 - accuracy: 0.7268"
     ]
    },
    {
     "name": "stderr",
     "output_type": "stream",
     "text": [
      "2022-05-27 14:49:26.166376: I tensorflow/core/grappler/optimizers/custom_graph_optimizer_registry.cc:113] Plugin optimizer for device_type GPU is enabled.\n"
     ]
    },
    {
     "name": "stdout",
     "output_type": "stream",
     "text": [
      "943/943 [==============================] - 8s 8ms/step - loss: 0.5773 - accuracy: 0.7268 - val_loss: 0.5544 - val_accuracy: 0.7543 - lr: 0.0100\n",
      "Epoch 2/10\n",
      "943/943 [==============================] - 8s 8ms/step - loss: 0.5569 - accuracy: 0.7511 - val_loss: 0.5526 - val_accuracy: 0.7543 - lr: 0.0100\n",
      "Epoch 3/10\n",
      "943/943 [==============================] - 7s 8ms/step - loss: 0.5544 - accuracy: 0.7511 - val_loss: 0.5495 - val_accuracy: 0.7543 - lr: 0.0100\n",
      "Epoch 4/10\n",
      "943/943 [==============================] - 7s 8ms/step - loss: 0.5508 - accuracy: 0.7511 - val_loss: 0.5450 - val_accuracy: 0.7543 - lr: 0.0100\n",
      "Epoch 5/10\n",
      "943/943 [==============================] - 7s 8ms/step - loss: 0.5450 - accuracy: 0.7511 - val_loss: 0.5379 - val_accuracy: 0.7543 - lr: 0.0100\n",
      "Epoch 6/10\n",
      "943/943 [==============================] - 6s 7ms/step - loss: 0.5356 - accuracy: 0.7511 - val_loss: 0.5257 - val_accuracy: 0.7543 - lr: 0.0100\n",
      "Epoch 7/10\n",
      "943/943 [==============================] - 6s 7ms/step - loss: 0.5192 - accuracy: 0.7511 - val_loss: 0.5048 - val_accuracy: 0.7543 - lr: 0.0100\n",
      "Epoch 8/10\n",
      "943/943 [==============================] - 6s 7ms/step - loss: 0.4916 - accuracy: 0.7511 - val_loss: 0.4707 - val_accuracy: 0.7543 - lr: 0.0100\n",
      "Epoch 9/10\n",
      "943/943 [==============================] - 7s 7ms/step - loss: 0.4510 - accuracy: 0.7585 - val_loss: 0.4271 - val_accuracy: 0.7821 - lr: 0.0100\n",
      "Epoch 10/10\n",
      "943/943 [==============================] - 7s 7ms/step - loss: 0.4180 - accuracy: 0.7910 - val_loss: 0.4065 - val_accuracy: 0.8088 - lr: 0.0050\n"
     ]
    },
    {
     "data": {
      "text/plain": [
       "<keras.callbacks.History at 0x17afcd970>"
      ]
     },
     "execution_count": 14,
     "metadata": {},
     "output_type": "execute_result"
    }
   ],
   "source": [
    "from keras.callbacks import LearningRateScheduler\n",
    "# learning rate schedule\n",
    "def step_decay(epoch):\n",
    "    initial_lrate = 0.01\n",
    "    drop = 0.5\n",
    "    epochs_drop = 10.0\n",
    "    lrate = initial_lrate * np.power(drop, np.floor((1+epoch)/epochs_drop))\n",
    "    return lrate\n",
    "\n",
    "history_adam_2 = History()\n",
    "model = Sequential()\n",
    "model.add(Dense(100,activation=\"sigmoid\",input_shape=(X_train.shape[1],)))\n",
    "model.add(Dense(50,activation=\"sigmoid\"))\n",
    "model.add(Dense(10,activation=\"sigmoid\"))\n",
    "model.add(Dense(1,activation=\"sigmoid\"))\n",
    "model.summary()\n",
    "\n",
    "adam = keras.optimizers.SGD(lr=0.001)\n",
    "model.compile(loss=\"binary_crossentropy\",optimizer=adam, metrics=[\"accuracy\"])\n",
    "\n",
    "lrate = LearningRateScheduler(step_decay)\n",
    "model.fit(X_train, y_train, validation_data= (X_test, y_test), batch_size=32,epochs=10, callbacks=[lrate, history_adam_2])\n"
   ]
  },
  {
   "cell_type": "code",
   "execution_count": 15,
   "metadata": {
    "scrolled": true
   },
   "outputs": [
    {
     "name": "stdout",
     "output_type": "stream",
     "text": [
      "Model: \"sequential_6\"\n",
      "_________________________________________________________________\n",
      " Layer (type)                Output Shape              Param #   \n",
      "=================================================================\n",
      " dense_24 (Dense)            (None, 100)               4200      \n",
      "                                                                 \n",
      " dense_25 (Dense)            (None, 50)                5050      \n",
      "                                                                 \n",
      " dense_26 (Dense)            (None, 10)                510       \n",
      "                                                                 \n",
      " dense_27 (Dense)            (None, 1)                 11        \n",
      "                                                                 \n",
      "=================================================================\n",
      "Total params: 9,771\n",
      "Trainable params: 9,771\n",
      "Non-trainable params: 0\n",
      "_________________________________________________________________\n",
      "Epoch 1/10\n",
      "  1/943 [..............................] - ETA: 4:47 - loss: 1.1290 - accuracy: 0.1250"
     ]
    },
    {
     "name": "stderr",
     "output_type": "stream",
     "text": [
      "2022-05-27 14:50:30.346998: I tensorflow/core/grappler/optimizers/custom_graph_optimizer_registry.cc:113] Plugin optimizer for device_type GPU is enabled.\n"
     ]
    },
    {
     "name": "stdout",
     "output_type": "stream",
     "text": [
      "942/943 [============================>.] - ETA: 0s - loss: 0.5792 - accuracy: 0.7259"
     ]
    },
    {
     "name": "stderr",
     "output_type": "stream",
     "text": [
      "2022-05-27 14:50:36.130412: I tensorflow/core/grappler/optimizers/custom_graph_optimizer_registry.cc:113] Plugin optimizer for device_type GPU is enabled.\n"
     ]
    },
    {
     "name": "stdout",
     "output_type": "stream",
     "text": [
      "943/943 [==============================] - 7s 8ms/step - loss: 0.5792 - accuracy: 0.7259 - val_loss: 0.5544 - val_accuracy: 0.7543 - lr: 0.0100\n",
      "Epoch 2/10\n",
      "943/943 [==============================] - 7s 7ms/step - loss: 0.5570 - accuracy: 0.7511 - val_loss: 0.5523 - val_accuracy: 0.7543 - lr: 0.0100\n",
      "Epoch 3/10\n",
      "943/943 [==============================] - 7s 7ms/step - loss: 0.5545 - accuracy: 0.7511 - val_loss: 0.5495 - val_accuracy: 0.7543 - lr: 0.0100\n",
      "Epoch 4/10\n",
      "943/943 [==============================] - 7s 7ms/step - loss: 0.5508 - accuracy: 0.7511 - val_loss: 0.5452 - val_accuracy: 0.7543 - lr: 0.0100\n",
      "Epoch 5/10\n",
      "943/943 [==============================] - 7s 7ms/step - loss: 0.5450 - accuracy: 0.7511 - val_loss: 0.5378 - val_accuracy: 0.7543 - lr: 0.0100\n",
      "Epoch 6/10\n",
      "943/943 [==============================] - 7s 7ms/step - loss: 0.5354 - accuracy: 0.7511 - val_loss: 0.5257 - val_accuracy: 0.7543 - lr: 0.0100\n",
      "Epoch 7/10\n",
      "943/943 [==============================] - 7s 7ms/step - loss: 0.5191 - accuracy: 0.7511 - val_loss: 0.5048 - val_accuracy: 0.7543 - lr: 0.0100\n",
      "Epoch 8/10\n",
      "943/943 [==============================] - 7s 7ms/step - loss: 0.4914 - accuracy: 0.7511 - val_loss: 0.4708 - val_accuracy: 0.7546 - lr: 0.0100\n",
      "Epoch 9/10\n",
      "943/943 [==============================] - 7s 7ms/step - loss: 0.4509 - accuracy: 0.7582 - val_loss: 0.4266 - val_accuracy: 0.7747 - lr: 0.0100\n",
      "Epoch 10/10\n",
      "943/943 [==============================] - 7s 8ms/step - loss: 0.4178 - accuracy: 0.7908 - val_loss: 0.4062 - val_accuracy: 0.8052 - lr: 0.0050\n"
     ]
    },
    {
     "data": {
      "text/plain": [
       "<keras.callbacks.History at 0x2bd686dc0>"
      ]
     },
     "execution_count": 15,
     "metadata": {},
     "output_type": "execute_result"
    }
   ],
   "source": [
    "from keras.callbacks import LearningRateScheduler\n",
    "# learning rate schedule\n",
    "def step_decay(epoch):\n",
    "    initial_lrate = 0.01\n",
    "    drop = 0.5\n",
    "    epochs_drop = 10.0\n",
    "    lrate = initial_lrate * np.power(drop, np.floor((1+epoch)/epochs_drop))\n",
    "    return lrate\n",
    "\n",
    "history_adam_3 = History()\n",
    "model = Sequential()\n",
    "model.add(Dense(100,activation=\"sigmoid\",input_shape=(X_train.shape[1],)))\n",
    "model.add(Dense(50,activation=\"sigmoid\"))\n",
    "model.add(Dense(10,activation=\"sigmoid\"))\n",
    "model.add(Dense(1,activation=\"sigmoid\"))\n",
    "model.summary()\n",
    "\n",
    "adam = keras.optimizers.SGD(lr=0.0001)\n",
    "model.compile(loss=\"binary_crossentropy\",optimizer=adam, metrics=[\"accuracy\"])\n",
    "\n",
    "lrate = LearningRateScheduler(step_decay)\n",
    "model.fit(X_train, y_train, validation_data= (X_test, y_test), batch_size=32,epochs=10, callbacks=[lrate, history_adam_3])\n"
   ]
  },
  {
   "cell_type": "code",
   "execution_count": 18,
   "metadata": {},
   "outputs": [
    {
     "data": {
      "image/png": "[encoded data removed]",
      "text/plain": [
       "<Figure size 720x504 with 1 Axes>"
      ]
     },
     "metadata": {
      "needs_background": "light"
     },
     "output_type": "display_data"
    }
   ],
   "source": [
    "import matplotlib.pyplot as plt\n",
    "plt.figure(figsize=(10, 7))\n",
    "\n",
    "plt.plot(history_adam_1.history['accuracy'], label = \"adam 0.001 NS\")\n",
    "plt.plot(history_adam_1.history['val_accuracy'], label = \"test adam 0.001 NS\")\n",
    "\n",
    "plt.plot(history_adam_2.history['accuracy'], label = \"adam 0.001 S\")\n",
    "plt.plot(history_adam_2.history['val_accuracy'], label = \"test adam 0.001 S\")\n",
    "\n",
    "plt.plot(history_adam_3.history['accuracy'], label = \"adam 0.0001 S\")\n",
    "plt.plot(history_adam_3.history['val_accuracy'], label = \"test adam 0.0001 S\")\n",
    "\n",
    "plt.legend()\n",
    "plt.show()"
   ]
  }
 ],
 "metadata": {
  "interpreter": {
   "hash": "d2f12596b1ae747dd11d15be5191deb3c882e6d3ca4234fbbfa2f4d508f35ade"
  },
  "kernelspec": {
   "display_name": "Python 3 (ipykernel)",
   "language": "python",
   "name": "python3"
  },
  "language_info": {
   "codemirror_mode": {
    "name": "ipython",
    "version": 3
   },
   "file_extension": ".py",
   "mimetype": "text/x-python",
   "name": "python",
   "nbconvert_exporter": "python",
   "pygments_lexer": "ipython3",
   "version": "3.10.4"
  }
 },
 "nbformat": 4,
 "nbformat_minor": 2
}
