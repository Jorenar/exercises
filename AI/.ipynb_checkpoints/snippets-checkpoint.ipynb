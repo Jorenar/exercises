{
 "cells": [
  {
   "cell_type": "code",
   "execution_count": 1,
   "id": "9e78ec90",
   "metadata": {},
   "outputs": [],
   "source": [
    "from mlxtend.plotting import plot_decision_regions"
   ]
  },
  {
   "cell_type": "code",
   "execution_count": null,
   "id": "3b10ac75",
   "metadata": {
    "scrolled": false
   },
   "outputs": [],
   "source": [
    "y_pred=np.argmax(model.predict(X_test), axis=-1)"
   ]
  },
  {
   "cell_type": "code",
   "execution_count": null,
   "id": "832fae2a",
   "metadata": {},
   "outputs": [],
   "source": [
    "import warnings\n",
    "from matplotlib import MatplotlibDeprecationWarning\n",
    "from scipy.linalg import LinAlgWarning\n",
    "from sklearn.exceptions import ConvergenceWarning\n",
    "from sklearn.exceptions import FitFailedWarning\n",
    "\n",
    "warnings.filterwarnings(action='ignore', category=ConvergenceWarning)\n",
    "warnings.filterwarnings(action='ignore', category=FitFailedWarning)\n",
    "warnings.filterwarnings(action='ignore', category=FutureWarning)\n",
    "warnings.filterwarnings(action='ignore', category=LinAlgWarning)\n",
    "warnings.filterwarnings(action='ignore', category=MatplotlibDeprecationWarning)\n",
    "warnings.filterwarnings(action='ignore', category=UserWarning)"
   ]
  }
 ],
 "metadata": {
  "kernelspec": {
   "display_name": "Python 3 (ipykernel)",
   "language": "python",
   "name": "python3"
  },
  "language_info": {
   "codemirror_mode": {
    "name": "ipython",
    "version": 3
   },
   "file_extension": ".py",
   "mimetype": "text/x-python",
   "name": "python",
   "nbconvert_exporter": "python",
   "pygments_lexer": "ipython3",
   "version": "3.10.4"
  }
 },
 "nbformat": 4,
 "nbformat_minor": 5
}
