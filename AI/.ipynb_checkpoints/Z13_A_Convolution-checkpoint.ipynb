{
 "cells": [
  {
   "cell_type": "markdown",
   "metadata": {},
   "source": [
    "# Konwolucyjne sieci neuronowe\n",
    "\n",
    "## Convolution neural networks, CNN\n",
    "\n",
    "# Filtry jako ekstraktory informacji\n",
    "\n",
    "<img src=\"Grafika/Filter.png\" width=\"550\">\n",
    "\n",
    "<img src=\"Grafika/OriginalAndFilter.png\" width=\"550\">\n",
    "\n",
    "<img src=\"Grafika/FirstPixelMulitiplication.png\" width=\"550\">\n",
    "\n",
    "<img src=\"Grafika/SecondMultiplication.png\" width=\"550\">\n",
    "\n",
    "Źródło: https://adeshpande3.github.io/adeshpande3.github.io/A-Beginner's-Guide-To-Understanding-Convolutional-Neural-Networks/"
   ]
  },
  {
   "cell_type": "markdown",
   "metadata": {},
   "source": [
    "### Filtrowanie - konwolucja (splot):\n",
    "\n",
    "<img src=\"Grafika/matrixConvolution.jpg\" width=\"450\">\n",
    "\n",
    "Źródło: https://i.stack.imgur.com/SKgim.jpga"
   ]
  },
  {
   "cell_type": "markdown",
   "metadata": {},
   "source": [
    "### Warstwa konwolucyjna\n",
    "\n",
    "Warstawa konwolucyjna analizuje obraz \"kawałek po kawałku\" i zwraca informację o poszczególnych obszarach przy użyciu filtrów.\n",
    "\n",
    "Warstwa konwolucyjna składa się z K filtrów i zwraca K \"tablic\" powstałych przez przetworzenie wejścia kolejnymi filtrami.\n",
    "\n",
    "Operacja splotu (konwolucja):\n",
    "\n",
    "<img src=\"Grafika/Convolution_schematic.gif\" width=\"450\">\n",
    "\n",
    "Źródło: http://deeplearning.stanford.edu/wiki/images/6/6c/Convolution_schematic.gif"
   ]
  },
  {
   "cell_type": "markdown",
   "metadata": {},
   "source": [
    "### W przypadku macierzy trójwymiarowych, filtrowanie (2D) wygląda tak:\n",
    "\n",
    "<img src=\"https://i.stack.imgur.com/FjvuN.gif\" width=\"550\">"
   ]
  },
  {
   "cell_type": "markdown",
   "metadata": {},
   "source": [
    "### Sieć konwolucyjna uczy się ekstrachować istotne \"informacje\" - parametrami sieci są wagi w filtrach.\n",
    "\n",
    "Czyli sieć sama uczy się tego, co jest istotne w danych dla naszego celu.\n",
    "\n",
    "W sieciach konwolucyjnych na wyjście splotu nakłada się funkcję aktywacji. Z reguły jest to ReLU:\n",
    "\n",
    "<img src=\"Grafika/relu.png\" width=\"350\">\n",
    "\n",
    "Źródło: https://ml4a.github.io/images/figures/relu.png\n",
    "\n",
    "Takie przekształcenie można interpretować w następujący sposób: jeżeli w danym obszarze jest coś co dany filtr \"rozpoznaje\" (wartość splotu większa od 0), to zwracamy po prostu wynik splotu. Natomiast jeśli dane nie pasują do danego filtra (wartość ujemna), to niezaleznie od tego co w tych danych jest, zwracamy 0, które mówi, że nie ma tego czego szukamy.\n",
    "\n",
    "## Pooling (subsampling)\n",
    "\n",
    "Pooling to agregacja informacji - zamiast przechowywać całą tablicę, którą zwrócił filtr, wyciągamy sobie po jednej \"informacji\" z podobszarów. W ten sposób otrzymujemy tablicę o zredukowanym wymiarze.\n",
    "\n",
    "MaxPooling:\n",
    "\n",
    "<img src=\"Grafika/MaxPool.png\" width=\"550\">\n",
    "\n",
    "Źródło: https://adeshpande3.github.io/assets/MaxPool.png\n",
    "\n",
    "Jaką informację wyekstrahuje \"max pooling\"?\n",
    "\n",
    "A jaką \"average pooling\"?\n",
    "\n",
    "W praktyce z reguły po każdej warstwie konwolucyjnej daje się max pooling."
   ]
  },
  {
   "cell_type": "markdown",
   "metadata": {},
   "source": [
    "### Wielowarstwowa sieć konwolucyjna\n",
    "\n",
    "Wielowarstwowe sieci konwolucyjne wykorzystują wielokrotne składanie operacji filtrowania i uczą się wykrywać bardzo złożone zależności.\n",
    "\n",
    "Wówczas każda kolejna warstwa w jakiś sposób agreguje informacje z poprzedniej warstwy do ogólniejszego poziomu. Przykladowa interpretacja w kontekście klasyfikacji czy na danym zdjęciu jest człowiek:\n",
    "- pierwsza warstwa: rozpoznawianie kształtów/konturów\n",
    "- druga warstwa: detekcja części ciała\n",
    "- trzecia: detekcja człowiek\n",
    "\n",
    "\n",
    "<img src=\"Grafika/LeNet.png\" width=\"700\">\n",
    "Źródło: https://adeshpande3.github.io/assets/LeNet.png\"\n",
    "\n",
    "### Wyjście sieci\n",
    "\n",
    "Ostatnia warsta konwolucyjna (lub pooling) jest rozwijana do wektora. Ten wektor jest przepuszczany przez warstwy dense, które prowadzą do predykcji. Oczywiście można dokonywać predykcji bezpośrednio z rozwiniętego wektora."
   ]
  },
  {
   "cell_type": "markdown",
   "metadata": {},
   "source": [
    "### Uwaga. Filtr dla obrazka 2D jest tablicą 2D. Natomiast kolejne warstwy są 3D - dochodzi wymiar liczby filtrów. Dlatego dalsze filtry są kostami 3D, które mają głębokość równą liczbie filtrów w poprzedniej warstwie.\n",
    "\n",
    "<img src=\"Grafika/conv3D.jpg\" width=\"700\">\n",
    "\n",
    "Źródło: https://www.mathworks.com/content/mathworks/www/en/discovery/convolutional-neural-network/_jcr_content/mainParsys/image_copy.img.jpg/1497876372993.jpg\n",
    "\n",
    "Naturalnie, jeżeli na wejściu mamy obiekt więcej niż dwu-wymiarowy to już pierwsza warstwa używa filtrów, które są kostkami."
   ]
  },
  {
   "cell_type": "markdown",
   "metadata": {},
   "source": [
    "## Strides - wielkość kroku przesunięcia\n",
    "\n",
    "Określa dokładność z jaką chcemy skanować dane.\n",
    "\n",
    "Strides = (1,1)\n",
    "\n",
    "<img src=\"Grafika/Stride1.png\" width=\"600\">\n",
    "\n",
    "Strides = (2,2)\n",
    "\n",
    "<img src=\"Grafika/Stride2.png\" width=\"600\">\n",
    "\n",
    "Źródło: https://adeshpande3.github.io/adeshpande3.github.io/A-Beginner's-Guide-To-Understanding-Convolutional-Neural-Networks-Part-2/\n"
   ]
  },
  {
   "cell_type": "markdown",
   "metadata": {},
   "source": [
    "# Zad\n",
    "\n",
    "Pobierzmy zbiór danych\n",
    "\n",
    "http://scikit-learn.org/0.15/auto_examples/applications/face_recognition.html"
   ]
  },
  {
   "cell_type": "code",
   "execution_count": 1,
   "metadata": {},
   "outputs": [
    {
     "name": "stdout",
     "output_type": "stream",
     "text": [
      "2.0.0-rc1\n",
      "2.2.4-tf\n"
     ]
    }
   ],
   "source": [
    "import tensorflow as tf\n",
    "from tensorflow import keras\n",
    "print(tf.__version__)\n",
    "\n",
    "print(keras.__version__)\n",
    "\n",
    "from numpy.random import seed\n",
    "seed(123)\n"
   ]
  },
  {
   "cell_type": "code",
   "execution_count": 2,
   "metadata": {},
   "outputs": [
    {
     "name": "stderr",
     "output_type": "stream",
     "text": [
      "Using TensorFlow backend.\n"
     ]
    }
   ],
   "source": [
    "import numpy as np\n",
    "import pandas as pd\n",
    "import os\n",
    "from keras.utils import np_utils\n",
    "from sklearn.datasets import fetch_lfw_people\n",
    "\n",
    "lfw_people = fetch_lfw_people(min_faces_per_person=70, resize=0.4)\n",
    "n_samples, h, w = lfw_people.images.shape\n",
    "X = lfw_people.data\n",
    "n_features = X.shape[1]\n",
    "\n",
    "y = lfw_people.target\n",
    "target_names = lfw_people.target_names"
   ]
  },
  {
   "cell_type": "code",
   "execution_count": 3,
   "metadata": {},
   "outputs": [
    {
     "data": {
      "text/plain": [
       "array([254.      , 254.      , 251.66667 , ...,  87.333336,  88.666664,\n",
       "        86.666664], dtype=float32)"
      ]
     },
     "execution_count": 3,
     "metadata": {},
     "output_type": "execute_result"
    }
   ],
   "source": [
    "X[0] # wektor - pozniej zamienimy na macierz, bo to jest obraz"
   ]
  },
  {
   "cell_type": "code",
   "execution_count": 4,
   "metadata": {},
   "outputs": [
    {
     "data": {
      "text/plain": [
       "(1288, 1850)"
      ]
     },
     "execution_count": 4,
     "metadata": {},
     "output_type": "execute_result"
    }
   ],
   "source": [
    "X.shape"
   ]
  },
  {
   "cell_type": "code",
   "execution_count": 5,
   "metadata": {},
   "outputs": [
    {
     "data": {
      "text/plain": [
       "(array([0, 1, 2, 3, 4, 5, 6], dtype=int64),\n",
       " array([ 77, 236, 121, 530, 109,  71, 144], dtype=int64))"
      ]
     },
     "execution_count": 5,
     "metadata": {},
     "output_type": "execute_result"
    }
   ],
   "source": [
    "np.unique(y,return_counts=True)"
   ]
  },
  {
   "cell_type": "code",
   "execution_count": 6,
   "metadata": {},
   "outputs": [
    {
     "data": {
      "text/plain": [
       "array(['Ariel Sharon', 'Colin Powell', 'Donald Rumsfeld', 'George W Bush',\n",
       "       'Gerhard Schroeder', 'Hugo Chavez', 'Tony Blair'], dtype='<U17')"
      ]
     },
     "execution_count": 6,
     "metadata": {},
     "output_type": "execute_result"
    }
   ],
   "source": [
    "target_names"
   ]
  },
  {
   "cell_type": "code",
   "execution_count": 7,
   "metadata": {},
   "outputs": [
    {
     "data": {
      "text/plain": [
       "array([[0., 0., 0., 0., 0., 1., 0.],\n",
       "       [0., 0., 0., 0., 0., 0., 1.],\n",
       "       [0., 0., 0., 1., 0., 0., 0.],\n",
       "       [0., 1., 0., 0., 0., 0., 0.],\n",
       "       [1., 0., 0., 0., 0., 0., 0.]], dtype=float32)"
      ]
     },
     "execution_count": 7,
     "metadata": {},
     "output_type": "execute_result"
    }
   ],
   "source": [
    "# przygotowanie y\n",
    "y = np_utils.to_categorical(y)\n",
    "y[:5]"
   ]
  },
  {
   "cell_type": "code",
   "execution_count": 8,
   "metadata": {},
   "outputs": [
    {
     "data": {
      "text/plain": [
       "7"
      ]
     },
     "execution_count": 8,
     "metadata": {},
     "output_type": "execute_result"
    }
   ],
   "source": [
    "n_classes = y.shape[1]\n",
    "n_classes"
   ]
  },
  {
   "cell_type": "code",
   "execution_count": 9,
   "metadata": {},
   "outputs": [
    {
     "name": "stdout",
     "output_type": "stream",
     "text": [
      "(772, 50, 37, 1)\n"
     ]
    }
   ],
   "source": [
    "from sklearn.model_selection import train_test_split\n",
    "\n",
    "X_train, X_test, y_train, y_test = train_test_split(X, y, test_size=0.4)\n",
    "\n",
    "X_train = np.array([x.reshape((h, w, 1)) for x in X_train])\n",
    "X_test = np.array([x.reshape((h, w, 1)) for x in X_test])\n",
    "print(X_train.shape)"
   ]
  },
  {
   "cell_type": "markdown",
   "metadata": {},
   "source": [
    "### skalowanie X"
   ]
  },
  {
   "cell_type": "code",
   "execution_count": 10,
   "metadata": {},
   "outputs": [],
   "source": [
    "# skalowanie X\n",
    "\n",
    "X_train = X_train/255\n",
    "X_test = X_test/255"
   ]
  },
  {
   "cell_type": "code",
   "execution_count": 11,
   "metadata": {},
   "outputs": [
    {
     "data": {
      "image/png": "[encoded data removed]",
      "text/plain": [
       "<Figure size 518.4x518.4 with 12 Axes>"
      ]
     },
     "metadata": {},
     "output_type": "display_data"
    }
   ],
   "source": [
    "import matplotlib.pyplot as plt\n",
    "\n",
    "images = X_train[:12]\n",
    "n_col = 4\n",
    "n_row = 3\n",
    "plt.figure(figsize=(1.8 * n_col, 2.4 * n_row))\n",
    "plt.subplots_adjust(bottom=0, left=.01, right=.99, top=.90, hspace=.35)\n",
    "for i in range(n_row * n_col):\n",
    "    plt.subplot(n_row, n_col, i + 1)\n",
    "    plt.imshow(images[i][:,:,0], cmap=plt.cm.gray)\n",
    "    plt.xticks(())\n",
    "    plt.yticks(())\n",
    "    \n",
    "plt.show()"
   ]
  },
  {
   "cell_type": "code",
   "execution_count": 13,
   "metadata": {},
   "outputs": [
    {
     "name": "stdout",
     "output_type": "stream",
     "text": [
      "(772, 50, 37, 1)\n",
      "(772, 7)\n",
      "(516, 50, 37, 1)\n"
     ]
    }
   ],
   "source": [
    "print(X_train.shape)\n",
    "print(y_train.shape)\n",
    "print(X_test.shape)"
   ]
  },
  {
   "cell_type": "markdown",
   "metadata": {},
   "source": [
    "# Zad. (Punkt odniesienia)\n",
    "\n",
    "Sprawdź klasyfikację przy użyciu perceptrona - sieć 0-warstwowa (lub 1-warstwową licząc wyjście jako warstwę). Pamiętaj, że, aby uruchomić warstwę dense na danych, które nie są wektorem trzeba je \"rozwinąć\" przy uzyciu \"warstwy\" (operacji) Flatten. "
   ]
  },
  {
   "cell_type": "code",
   "execution_count": 14,
   "metadata": {},
   "outputs": [
    {
     "name": "stdout",
     "output_type": "stream",
     "text": [
      "Model: \"sequential_1\"\n",
      "_________________________________________________________________\n",
      "Layer (type)                 Output Shape              Param #   \n",
      "=================================================================\n",
      "flatten_1 (Flatten)          (None, 1850)              0         \n",
      "_________________________________________________________________\n",
      "dense_1 (Dense)              (None, 7)                 12957     \n",
      "=================================================================\n",
      "Total params: 12,957\n",
      "Trainable params: 12,957\n",
      "Non-trainable params: 0\n",
      "_________________________________________________________________\n",
      "Train on 579 samples, validate on 193 samples\n",
      "Epoch 1/100\n",
      "579/579 [==============================] - 0s 410us/step - loss: 1.7885 - categorical_accuracy: 0.4076 - val_loss: 1.8432 - val_categorical_accuracy: 0.3627\n",
      "Epoch 2/100\n",
      "579/579 [==============================] - 0s 54us/step - loss: 1.7077 - categorical_accuracy: 0.4387 - val_loss: 1.8423 - val_categorical_accuracy: 0.3938\n",
      "Epoch 3/100\n",
      "579/579 [==============================] - 0s 55us/step - loss: 1.6333 - categorical_accuracy: 0.4560 - val_loss: 1.5974 - val_categorical_accuracy: 0.4197\n",
      "Epoch 4/100\n",
      "579/579 [==============================] - 0s 55us/step - loss: 1.5038 - categorical_accuracy: 0.5112 - val_loss: 1.5505 - val_categorical_accuracy: 0.4301\n",
      "Epoch 5/100\n",
      "579/579 [==============================] - 0s 52us/step - loss: 1.4640 - categorical_accuracy: 0.4940 - val_loss: 1.6578 - val_categorical_accuracy: 0.4093\n",
      "Epoch 6/100\n",
      "579/579 [==============================] - 0s 55us/step - loss: 1.4604 - categorical_accuracy: 0.5164 - val_loss: 1.5967 - val_categorical_accuracy: 0.3938\n",
      "Epoch 7/100\n",
      "579/579 [==============================] - 0s 54us/step - loss: 1.4044 - categorical_accuracy: 0.5164 - val_loss: 1.4974 - val_categorical_accuracy: 0.4611\n",
      "Epoch 8/100\n",
      "579/579 [==============================] - 0s 55us/step - loss: 1.4012 - categorical_accuracy: 0.5406 - val_loss: 1.5020 - val_categorical_accuracy: 0.4560\n",
      "Epoch 9/100\n",
      "579/579 [==============================] - 0s 54us/step - loss: 1.3036 - categorical_accuracy: 0.5544 - val_loss: 1.4229 - val_categorical_accuracy: 0.4767\n",
      "Epoch 10/100\n",
      "579/579 [==============================] - 0s 55us/step - loss: 1.2644 - categorical_accuracy: 0.5630 - val_loss: 1.4270 - val_categorical_accuracy: 0.4093\n",
      "Epoch 11/100\n",
      "579/579 [==============================] - 0s 55us/step - loss: 1.2156 - categorical_accuracy: 0.5630 - val_loss: 1.4051 - val_categorical_accuracy: 0.4352\n",
      "Epoch 12/100\n",
      "579/579 [==============================] - 0s 55us/step - loss: 1.2191 - categorical_accuracy: 0.5751 - val_loss: 1.4213 - val_categorical_accuracy: 0.4352\n",
      "Epoch 13/100\n",
      "579/579 [==============================] - 0s 57us/step - loss: 1.1836 - categorical_accuracy: 0.5630 - val_loss: 1.2961 - val_categorical_accuracy: 0.4715\n",
      "Epoch 14/100\n",
      "579/579 [==============================] - 0s 54us/step - loss: 1.1741 - categorical_accuracy: 0.6045 - val_loss: 1.2657 - val_categorical_accuracy: 0.5389\n",
      "Epoch 15/100\n",
      "579/579 [==============================] - 0s 57us/step - loss: 1.1366 - categorical_accuracy: 0.6062 - val_loss: 1.3088 - val_categorical_accuracy: 0.4870\n",
      "Epoch 16/100\n",
      "579/579 [==============================] - 0s 52us/step - loss: 1.0990 - categorical_accuracy: 0.5993 - val_loss: 1.3602 - val_categorical_accuracy: 0.4611\n",
      "Epoch 17/100\n",
      "579/579 [==============================] - 0s 54us/step - loss: 1.1042 - categorical_accuracy: 0.5907 - val_loss: 1.3322 - val_categorical_accuracy: 0.4922\n",
      "Epoch 18/100\n",
      "579/579 [==============================] - 0s 57us/step - loss: 1.0920 - categorical_accuracy: 0.6114 - val_loss: 1.2705 - val_categorical_accuracy: 0.5389\n",
      "Epoch 19/100\n",
      "579/579 [==============================] - 0s 74us/step - loss: 1.0587 - categorical_accuracy: 0.6200 - val_loss: 1.3219 - val_categorical_accuracy: 0.5233\n",
      "Epoch 20/100\n",
      "579/579 [==============================] - 0s 66us/step - loss: 1.0535 - categorical_accuracy: 0.6373 - val_loss: 1.1751 - val_categorical_accuracy: 0.5751\n",
      "Epoch 21/100\n",
      "579/579 [==============================] - 0s 64us/step - loss: 1.0148 - categorical_accuracy: 0.6926 - val_loss: 1.1799 - val_categorical_accuracy: 0.5233\n",
      "Epoch 22/100\n",
      "579/579 [==============================] - 0s 57us/step - loss: 0.9906 - categorical_accuracy: 0.6649 - val_loss: 1.2414 - val_categorical_accuracy: 0.4715\n",
      "Epoch 23/100\n",
      "579/579 [==============================] - 0s 59us/step - loss: 0.9517 - categorical_accuracy: 0.6822 - val_loss: 1.2264 - val_categorical_accuracy: 0.5337\n",
      "Epoch 24/100\n",
      "579/579 [==============================] - 0s 54us/step - loss: 0.9134 - categorical_accuracy: 0.6978 - val_loss: 1.0884 - val_categorical_accuracy: 0.6632\n",
      "Epoch 25/100\n",
      "579/579 [==============================] - 0s 57us/step - loss: 0.9154 - categorical_accuracy: 0.7237 - val_loss: 1.1831 - val_categorical_accuracy: 0.5699\n",
      "Epoch 26/100\n",
      "579/579 [==============================] - 0s 54us/step - loss: 0.9121 - categorical_accuracy: 0.7185 - val_loss: 1.0954 - val_categorical_accuracy: 0.6269\n",
      "Epoch 27/100\n",
      "579/579 [==============================] - 0s 50us/step - loss: 0.8830 - categorical_accuracy: 0.7168 - val_loss: 1.1504 - val_categorical_accuracy: 0.5803\n",
      "Epoch 28/100\n",
      "579/579 [==============================] - 0s 55us/step - loss: 0.8783 - categorical_accuracy: 0.7168 - val_loss: 1.0899 - val_categorical_accuracy: 0.5803\n",
      "Epoch 29/100\n",
      "579/579 [==============================] - 0s 54us/step - loss: 0.8644 - categorical_accuracy: 0.7444 - val_loss: 1.0720 - val_categorical_accuracy: 0.6788\n",
      "Epoch 30/100\n",
      "579/579 [==============================] - 0s 54us/step - loss: 0.8558 - categorical_accuracy: 0.7288 - val_loss: 1.0815 - val_categorical_accuracy: 0.6166\n",
      "Epoch 31/100\n",
      "579/579 [==============================] - 0s 52us/step - loss: 0.8442 - categorical_accuracy: 0.7409 - val_loss: 1.1356 - val_categorical_accuracy: 0.5544\n",
      "Epoch 32/100\n",
      "579/579 [==============================] - 0s 52us/step - loss: 0.8580 - categorical_accuracy: 0.7237 - val_loss: 1.0537 - val_categorical_accuracy: 0.6788\n",
      "Epoch 33/100\n",
      "579/579 [==============================] - 0s 57us/step - loss: 0.8104 - categorical_accuracy: 0.7565 - val_loss: 1.0680 - val_categorical_accuracy: 0.6995\n",
      "Epoch 34/100\n",
      "579/579 [==============================] - 0s 54us/step - loss: 0.8216 - categorical_accuracy: 0.7496 - val_loss: 1.1235 - val_categorical_accuracy: 0.5389\n",
      "Epoch 35/100\n",
      "579/579 [==============================] - 0s 55us/step - loss: 0.8140 - categorical_accuracy: 0.7168 - val_loss: 1.0954 - val_categorical_accuracy: 0.5699\n",
      "Epoch 36/100\n",
      "579/579 [==============================] - 0s 52us/step - loss: 0.7807 - categorical_accuracy: 0.7358 - val_loss: 1.0268 - val_categorical_accuracy: 0.6839\n",
      "Epoch 37/100\n",
      "579/579 [==============================] - 0s 54us/step - loss: 0.7758 - categorical_accuracy: 0.7772 - val_loss: 1.2403 - val_categorical_accuracy: 0.5078\n",
      "Epoch 38/100\n",
      "579/579 [==============================] - 0s 52us/step - loss: 0.7844 - categorical_accuracy: 0.7323 - val_loss: 0.9792 - val_categorical_accuracy: 0.6788\n",
      "Epoch 39/100\n",
      "579/579 [==============================] - 0s 52us/step - loss: 0.7263 - categorical_accuracy: 0.7962 - val_loss: 0.9966 - val_categorical_accuracy: 0.6995\n",
      "Epoch 40/100\n",
      "579/579 [==============================] - 0s 52us/step - loss: 0.7164 - categorical_accuracy: 0.8048 - val_loss: 1.0493 - val_categorical_accuracy: 0.6373\n",
      "Epoch 41/100\n",
      "579/579 [==============================] - 0s 52us/step - loss: 0.7869 - categorical_accuracy: 0.7530 - val_loss: 0.9745 - val_categorical_accuracy: 0.6943\n",
      "Epoch 42/100\n",
      "579/579 [==============================] - 0s 52us/step - loss: 0.7302 - categorical_accuracy: 0.7634 - val_loss: 0.9976 - val_categorical_accuracy: 0.6269\n",
      "Epoch 43/100\n",
      "579/579 [==============================] - 0s 52us/step - loss: 0.6927 - categorical_accuracy: 0.7997 - val_loss: 1.0822 - val_categorical_accuracy: 0.6218\n",
      "Epoch 44/100\n",
      "579/579 [==============================] - 0s 55us/step - loss: 0.6994 - categorical_accuracy: 0.8152 - val_loss: 1.0173 - val_categorical_accuracy: 0.6114\n",
      "Epoch 45/100\n",
      "579/579 [==============================] - 0s 57us/step - loss: 0.6812 - categorical_accuracy: 0.8100 - val_loss: 0.9909 - val_categorical_accuracy: 0.6528\n",
      "Epoch 46/100\n",
      "579/579 [==============================] - 0s 54us/step - loss: 0.6650 - categorical_accuracy: 0.8031 - val_loss: 0.9400 - val_categorical_accuracy: 0.6995\n",
      "Epoch 47/100\n",
      "579/579 [==============================] - 0s 57us/step - loss: 0.6651 - categorical_accuracy: 0.8100 - val_loss: 0.9364 - val_categorical_accuracy: 0.6839\n",
      "Epoch 48/100\n",
      "579/579 [==============================] - 0s 64us/step - loss: 0.6493 - categorical_accuracy: 0.8100 - val_loss: 1.0419 - val_categorical_accuracy: 0.6321\n",
      "Epoch 49/100\n",
      "579/579 [==============================] - 0s 67us/step - loss: 0.6486 - categorical_accuracy: 0.8100 - val_loss: 0.9484 - val_categorical_accuracy: 0.7358\n",
      "Epoch 50/100\n",
      "579/579 [==============================] - 0s 57us/step - loss: 0.6692 - categorical_accuracy: 0.8048 - val_loss: 0.9559 - val_categorical_accuracy: 0.7150\n",
      "Epoch 51/100\n",
      "579/579 [==============================] - 0s 52us/step - loss: 0.6391 - categorical_accuracy: 0.8238 - val_loss: 0.9586 - val_categorical_accuracy: 0.7047\n",
      "Epoch 52/100\n",
      "579/579 [==============================] - 0s 52us/step - loss: 0.6436 - categorical_accuracy: 0.8290 - val_loss: 0.9459 - val_categorical_accuracy: 0.6839\n",
      "Epoch 53/100\n",
      "579/579 [==============================] - 0s 48us/step - loss: 0.6166 - categorical_accuracy: 0.8290 - val_loss: 1.0215 - val_categorical_accuracy: 0.6166\n",
      "Epoch 54/100\n",
      "579/579 [==============================] - 0s 54us/step - loss: 0.6272 - categorical_accuracy: 0.8238 - val_loss: 0.9122 - val_categorical_accuracy: 0.7306\n",
      "Epoch 55/100\n",
      "579/579 [==============================] - 0s 54us/step - loss: 0.6002 - categorical_accuracy: 0.8359 - val_loss: 0.9228 - val_categorical_accuracy: 0.7358\n",
      "Epoch 56/100\n",
      "579/579 [==============================] - 0s 54us/step - loss: 0.6120 - categorical_accuracy: 0.8411 - val_loss: 0.9355 - val_categorical_accuracy: 0.6943\n",
      "Epoch 57/100\n",
      "579/579 [==============================] - 0s 52us/step - loss: 0.5973 - categorical_accuracy: 0.8411 - val_loss: 0.8975 - val_categorical_accuracy: 0.7720\n",
      "Epoch 58/100\n",
      "579/579 [==============================] - 0s 54us/step - loss: 0.5906 - categorical_accuracy: 0.8428 - val_loss: 0.9357 - val_categorical_accuracy: 0.7047\n",
      "Epoch 59/100\n",
      "579/579 [==============================] - 0s 55us/step - loss: 0.5729 - categorical_accuracy: 0.8532 - val_loss: 0.9482 - val_categorical_accuracy: 0.6632\n",
      "Epoch 60/100\n",
      "579/579 [==============================] - 0s 54us/step - loss: 0.5648 - categorical_accuracy: 0.8584 - val_loss: 0.9869 - val_categorical_accuracy: 0.6321\n",
      "Epoch 61/100\n",
      "579/579 [==============================] - 0s 55us/step - loss: 0.5949 - categorical_accuracy: 0.8394 - val_loss: 0.9995 - val_categorical_accuracy: 0.6166\n",
      "Epoch 62/100\n",
      "579/579 [==============================] - 0s 57us/step - loss: 0.5658 - categorical_accuracy: 0.8480 - val_loss: 0.9108 - val_categorical_accuracy: 0.7098\n",
      "Epoch 63/100\n",
      "579/579 [==============================] - 0s 54us/step - loss: 0.5914 - categorical_accuracy: 0.8307 - val_loss: 0.9347 - val_categorical_accuracy: 0.6995\n",
      "Epoch 64/100\n",
      "579/579 [==============================] - 0s 54us/step - loss: 0.5726 - categorical_accuracy: 0.8428 - val_loss: 0.8874 - val_categorical_accuracy: 0.7461\n",
      "Epoch 65/100\n",
      "579/579 [==============================] - 0s 52us/step - loss: 0.5644 - categorical_accuracy: 0.8515 - val_loss: 0.8722 - val_categorical_accuracy: 0.7358\n",
      "Epoch 66/100\n",
      "579/579 [==============================] - 0s 55us/step - loss: 0.5567 - categorical_accuracy: 0.8601 - val_loss: 0.9069 - val_categorical_accuracy: 0.6632\n",
      "Epoch 67/100\n",
      "579/579 [==============================] - 0s 54us/step - loss: 0.5329 - categorical_accuracy: 0.8566 - val_loss: 0.8904 - val_categorical_accuracy: 0.7047\n",
      "Epoch 68/100\n",
      "579/579 [==============================] - 0s 55us/step - loss: 0.5392 - categorical_accuracy: 0.8653 - val_loss: 0.9351 - val_categorical_accuracy: 0.6943\n",
      "Epoch 69/100\n",
      "579/579 [==============================] - 0s 52us/step - loss: 0.5318 - categorical_accuracy: 0.8428 - val_loss: 0.8741 - val_categorical_accuracy: 0.7565\n",
      "Epoch 70/100\n",
      "579/579 [==============================] - 0s 52us/step - loss: 0.5398 - categorical_accuracy: 0.8670 - val_loss: 0.9048 - val_categorical_accuracy: 0.7461\n",
      "Epoch 71/100\n",
      "579/579 [==============================] - 0s 54us/step - loss: 0.5075 - categorical_accuracy: 0.8636 - val_loss: 0.9769 - val_categorical_accuracy: 0.6736\n",
      "Epoch 72/100\n",
      "579/579 [==============================] - 0s 52us/step - loss: 0.5336 - categorical_accuracy: 0.8584 - val_loss: 1.0013 - val_categorical_accuracy: 0.6373\n",
      "Epoch 73/100\n",
      "579/579 [==============================] - 0s 55us/step - loss: 0.5050 - categorical_accuracy: 0.8618 - val_loss: 0.8752 - val_categorical_accuracy: 0.7720\n",
      "Epoch 74/100\n",
      "579/579 [==============================] - 0s 54us/step - loss: 0.5229 - categorical_accuracy: 0.8618 - val_loss: 0.8961 - val_categorical_accuracy: 0.7306\n",
      "Epoch 75/100\n",
      "579/579 [==============================] - 0s 54us/step - loss: 0.5206 - categorical_accuracy: 0.8497 - val_loss: 0.9239 - val_categorical_accuracy: 0.7306\n",
      "Epoch 76/100\n",
      "579/579 [==============================] - 0s 52us/step - loss: 0.4973 - categorical_accuracy: 0.8774 - val_loss: 0.9004 - val_categorical_accuracy: 0.7461\n",
      "Epoch 77/100\n",
      "579/579 [==============================] - 0s 52us/step - loss: 0.5056 - categorical_accuracy: 0.8601 - val_loss: 0.8871 - val_categorical_accuracy: 0.7254\n",
      "Epoch 78/100\n",
      "579/579 [==============================] - 0s 64us/step - loss: 0.4858 - categorical_accuracy: 0.8929 - val_loss: 0.8675 - val_categorical_accuracy: 0.7409\n",
      "Epoch 79/100\n",
      "579/579 [==============================] - 0s 66us/step - loss: 0.4842 - categorical_accuracy: 0.8826 - val_loss: 0.8590 - val_categorical_accuracy: 0.7513\n",
      "Epoch 80/100\n",
      "579/579 [==============================] - 0s 54us/step - loss: 0.4943 - categorical_accuracy: 0.8670 - val_loss: 0.8804 - val_categorical_accuracy: 0.7254\n",
      "Epoch 81/100\n",
      "579/579 [==============================] - 0s 50us/step - loss: 0.4927 - categorical_accuracy: 0.8687 - val_loss: 0.8793 - val_categorical_accuracy: 0.6839\n",
      "Epoch 82/100\n",
      "579/579 [==============================] - 0s 48us/step - loss: 0.4679 - categorical_accuracy: 0.8808 - val_loss: 0.9631 - val_categorical_accuracy: 0.6373\n",
      "Epoch 83/100\n",
      "579/579 [==============================] - 0s 48us/step - loss: 0.4774 - categorical_accuracy: 0.8843 - val_loss: 0.8884 - val_categorical_accuracy: 0.7358\n",
      "Epoch 84/100\n",
      "579/579 [==============================] - 0s 54us/step - loss: 0.4590 - categorical_accuracy: 0.8929 - val_loss: 0.9309 - val_categorical_accuracy: 0.6788\n",
      "Epoch 85/100\n",
      "579/579 [==============================] - 0s 50us/step - loss: 0.4848 - categorical_accuracy: 0.8791 - val_loss: 1.0031 - val_categorical_accuracy: 0.6425\n",
      "Epoch 86/100\n",
      "579/579 [==============================] - 0s 54us/step - loss: 0.4522 - categorical_accuracy: 0.8981 - val_loss: 0.8704 - val_categorical_accuracy: 0.7150\n",
      "Epoch 87/100\n",
      "579/579 [==============================] - 0s 54us/step - loss: 0.4450 - categorical_accuracy: 0.9016 - val_loss: 0.8046 - val_categorical_accuracy: 0.7876\n",
      "Epoch 88/100\n",
      "579/579 [==============================] - 0s 50us/step - loss: 0.4392 - categorical_accuracy: 0.8964 - val_loss: 0.8781 - val_categorical_accuracy: 0.7254\n",
      "Epoch 89/100\n",
      "579/579 [==============================] - 0s 52us/step - loss: 0.4473 - categorical_accuracy: 0.8929 - val_loss: 0.8273 - val_categorical_accuracy: 0.7461\n",
      "Epoch 90/100\n",
      "579/579 [==============================] - 0s 54us/step - loss: 0.4316 - categorical_accuracy: 0.8929 - val_loss: 0.8086 - val_categorical_accuracy: 0.7565\n",
      "Epoch 91/100\n",
      "579/579 [==============================] - 0s 50us/step - loss: 0.4925 - categorical_accuracy: 0.8480 - val_loss: 0.9404 - val_categorical_accuracy: 0.6788\n",
      "Epoch 92/100\n",
      "579/579 [==============================] - 0s 52us/step - loss: 0.4652 - categorical_accuracy: 0.8670 - val_loss: 0.8184 - val_categorical_accuracy: 0.7720\n",
      "Epoch 93/100\n"
     ]
    },
    {
     "name": "stdout",
     "output_type": "stream",
     "text": [
      "579/579 [==============================] - 0s 54us/step - loss: 0.4182 - categorical_accuracy: 0.9119 - val_loss: 0.8248 - val_categorical_accuracy: 0.7720\n",
      "Epoch 94/100\n",
      "579/579 [==============================] - 0s 54us/step - loss: 0.4097 - categorical_accuracy: 0.9102 - val_loss: 0.8364 - val_categorical_accuracy: 0.7824\n",
      "Epoch 95/100\n",
      "579/579 [==============================] - 0s 50us/step - loss: 0.4493 - categorical_accuracy: 0.8895 - val_loss: 0.8776 - val_categorical_accuracy: 0.7047\n",
      "Epoch 96/100\n",
      "579/579 [==============================] - 0s 52us/step - loss: 0.4226 - categorical_accuracy: 0.8860 - val_loss: 0.7978 - val_categorical_accuracy: 0.7720\n",
      "Epoch 97/100\n",
      "579/579 [==============================] - 0s 55us/step - loss: 0.4424 - categorical_accuracy: 0.8912 - val_loss: 0.8330 - val_categorical_accuracy: 0.7617\n",
      "Epoch 98/100\n",
      "579/579 [==============================] - 0s 57us/step - loss: 0.4173 - categorical_accuracy: 0.9050 - val_loss: 0.8635 - val_categorical_accuracy: 0.7513\n",
      "Epoch 99/100\n",
      "579/579 [==============================] - 0s 54us/step - loss: 0.4232 - categorical_accuracy: 0.8981 - val_loss: 0.9281 - val_categorical_accuracy: 0.7047\n",
      "Epoch 100/100\n",
      "579/579 [==============================] - 0s 54us/step - loss: 0.4094 - categorical_accuracy: 0.8998 - val_loss: 0.9585 - val_categorical_accuracy: 0.7047\n"
     ]
    },
    {
     "data": {
      "text/plain": [
       "<keras.callbacks.callbacks.History at 0xb9d1a1bfd0>"
      ]
     },
     "execution_count": 14,
     "metadata": {},
     "output_type": "execute_result"
    }
   ],
   "source": [
    "from keras.models import Sequential\n",
    "from keras.layers import Dense\n",
    "from keras.callbacks import LearningRateScheduler\n",
    "from keras.callbacks import ModelCheckpoint\n",
    "from keras.callbacks import EarlyStopping\n",
    "from keras.layers import Dropout\n",
    "from keras.layers import BatchNormalization\n",
    "from keras.layers import Activation\n",
    "from keras.layers import Flatten\n",
    "from keras.callbacks import History\n",
    "\n",
    "history_dense_1 = History()\n",
    "model = Sequential()\n",
    "model.add(Flatten(input_shape=X_train.shape[1:]))\n",
    "model.add(Dense(n_classes,activation=\"softmax\"))\n",
    "model.summary()\n",
    "\n",
    "early_stopping = EarlyStopping(patience=20,monitor=\"val_loss\")\n",
    "model.compile(loss=\"categorical_crossentropy\",optimizer=\"adam\",metrics=[\"categorical_accuracy\"])\n",
    "model.fit(X_train, y_train, validation_split=0.25,epochs=100,callbacks=[early_stopping, history_dense_1])"
   ]
  },
  {
   "cell_type": "code",
   "execution_count": 15,
   "metadata": {},
   "outputs": [
    {
     "name": "stdout",
     "output_type": "stream",
     "text": [
      "516/516 [==============================] - 0s 25us/step\n"
     ]
    },
    {
     "data": {
      "text/plain": [
       "[0.7540308957876161, 0.7441860437393188]"
      ]
     },
     "execution_count": 15,
     "metadata": {},
     "output_type": "execute_result"
    }
   ],
   "source": [
    "model.evaluate(X_test,y_test)"
   ]
  },
  {
   "cell_type": "code",
   "execution_count": 16,
   "metadata": {},
   "outputs": [
    {
     "data": {
      "image/png": "[encoded data removed]",
      "text/plain": [
       "<Figure size 432x288 with 1 Axes>"
      ]
     },
     "metadata": {
      "needs_background": "light"
     },
     "output_type": "display_data"
    }
   ],
   "source": [
    "plt.plot(history_dense_1.history['categorical_accuracy'], label = \"tarina Adam\")\n",
    "plt.plot(history_dense_1.history['val_categorical_accuracy'], label = \"test Adam\")\n",
    "\n",
    "\n",
    "plt.legend()\n",
    "plt.show()"
   ]
  },
  {
   "cell_type": "markdown",
   "metadata": {},
   "source": [
    "# Zad\n",
    "\n",
    "Sprawdź czy dwie warstwy poprawią wynik?"
   ]
  },
  {
   "cell_type": "code",
   "execution_count": null,
   "metadata": {},
   "outputs": [],
   "source": []
  },
  {
   "cell_type": "code",
   "execution_count": null,
   "metadata": {},
   "outputs": [],
   "source": []
  },
  {
   "cell_type": "markdown",
   "metadata": {},
   "source": [
    "# Sieci konwolucyjne\n",
    "\n",
    "# Zad\n",
    "Zbuduj sieć konwolucyjną z jedną warstwą \n",
    "* Conv2D"
   ]
  },
  {
   "cell_type": "code",
   "execution_count": 17,
   "metadata": {},
   "outputs": [],
   "source": [
    "from keras.layers.convolutional import Conv2D, MaxPooling2D, AveragePooling2D"
   ]
  },
  {
   "cell_type": "code",
   "execution_count": 18,
   "metadata": {},
   "outputs": [
    {
     "name": "stdout",
     "output_type": "stream",
     "text": [
      "Model: \"sequential_2\"\n",
      "_________________________________________________________________\n",
      "Layer (type)                 Output Shape              Param #   \n",
      "=================================================================\n",
      "conv2d_1 (Conv2D)            (None, 48, 35, 16)        160       \n",
      "_________________________________________________________________\n",
      "flatten_2 (Flatten)          (None, 26880)             0         \n",
      "_________________________________________________________________\n",
      "dense_2 (Dense)              (None, 7)                 188167    \n",
      "=================================================================\n",
      "Total params: 188,327\n",
      "Trainable params: 188,327\n",
      "Non-trainable params: 0\n",
      "_________________________________________________________________\n",
      "Train on 579 samples, validate on 193 samples\n",
      "Epoch 1/100\n",
      "579/579 [==============================] - 0s 579us/step - loss: 2.3468 - categorical_accuracy: 0.3161 - val_loss: 1.7947 - val_categorical_accuracy: 0.1762\n",
      "Epoch 2/100\n",
      "579/579 [==============================] - 0s 423us/step - loss: 1.6065 - categorical_accuracy: 0.4283 - val_loss: 1.5835 - val_categorical_accuracy: 0.4145\n",
      "Epoch 3/100\n",
      "579/579 [==============================] - 0s 461us/step - loss: 1.4484 - categorical_accuracy: 0.4629 - val_loss: 1.5299 - val_categorical_accuracy: 0.4922\n",
      "Epoch 4/100\n",
      "579/579 [==============================] - 0s 410us/step - loss: 1.3575 - categorical_accuracy: 0.5181 - val_loss: 1.4229 - val_categorical_accuracy: 0.4404\n",
      "Epoch 5/100\n",
      "579/579 [==============================] - 0s 394us/step - loss: 1.2435 - categorical_accuracy: 0.5769 - val_loss: 1.3054 - val_categorical_accuracy: 0.5181\n",
      "Epoch 6/100\n",
      "579/579 [==============================] - 0s 425us/step - loss: 1.1205 - categorical_accuracy: 0.6494 - val_loss: 1.2627 - val_categorical_accuracy: 0.5181\n",
      "Epoch 7/100\n",
      "579/579 [==============================] - 0s 493us/step - loss: 0.9920 - categorical_accuracy: 0.6857 - val_loss: 1.1913 - val_categorical_accuracy: 0.5440\n",
      "Epoch 8/100\n",
      "579/579 [==============================] - 0s 425us/step - loss: 0.8668 - categorical_accuracy: 0.7271 - val_loss: 1.2135 - val_categorical_accuracy: 0.5233\n",
      "Epoch 9/100\n",
      "579/579 [==============================] - 0s 408us/step - loss: 0.7593 - categorical_accuracy: 0.7599 - val_loss: 1.0888 - val_categorical_accuracy: 0.5907\n",
      "Epoch 10/100\n",
      "579/579 [==============================] - 0s 422us/step - loss: 0.6599 - categorical_accuracy: 0.8100 - val_loss: 1.0571 - val_categorical_accuracy: 0.6373\n",
      "Epoch 11/100\n",
      "579/579 [==============================] - 0s 429us/step - loss: 0.6116 - categorical_accuracy: 0.8083 - val_loss: 1.0041 - val_categorical_accuracy: 0.6477\n",
      "Epoch 12/100\n",
      "579/579 [==============================] - 0s 399us/step - loss: 0.6429 - categorical_accuracy: 0.8221 - val_loss: 0.9146 - val_categorical_accuracy: 0.7150\n",
      "Epoch 13/100\n",
      "579/579 [==============================] - 0s 404us/step - loss: 0.4862 - categorical_accuracy: 0.8756 - val_loss: 0.8808 - val_categorical_accuracy: 0.7098\n",
      "Epoch 14/100\n",
      "579/579 [==============================] - 0s 417us/step - loss: 0.4155 - categorical_accuracy: 0.9067 - val_loss: 0.8744 - val_categorical_accuracy: 0.7098\n",
      "Epoch 15/100\n",
      "579/579 [==============================] - 0s 442us/step - loss: 0.3916 - categorical_accuracy: 0.9067 - val_loss: 0.9086 - val_categorical_accuracy: 0.7306\n",
      "Epoch 16/100\n",
      "579/579 [==============================] - 0s 404us/step - loss: 0.3594 - categorical_accuracy: 0.9102 - val_loss: 0.8983 - val_categorical_accuracy: 0.7098\n",
      "Epoch 17/100\n",
      "579/579 [==============================] - 0s 408us/step - loss: 0.3401 - categorical_accuracy: 0.9257 - val_loss: 0.8582 - val_categorical_accuracy: 0.7565\n",
      "Epoch 18/100\n",
      "579/579 [==============================] - 0s 417us/step - loss: 0.2975 - categorical_accuracy: 0.9326 - val_loss: 0.7872 - val_categorical_accuracy: 0.7668\n",
      "Epoch 19/100\n",
      "579/579 [==============================] - 0s 465us/step - loss: 0.2648 - categorical_accuracy: 0.9516 - val_loss: 0.8154 - val_categorical_accuracy: 0.7461\n",
      "Epoch 20/100\n",
      "579/579 [==============================] - 0s 453us/step - loss: 0.2421 - categorical_accuracy: 0.9413 - val_loss: 0.8801 - val_categorical_accuracy: 0.7202\n",
      "Epoch 21/100\n",
      "579/579 [==============================] - 0s 417us/step - loss: 0.2130 - categorical_accuracy: 0.9637 - val_loss: 0.7790 - val_categorical_accuracy: 0.7668\n",
      "Epoch 22/100\n",
      "579/579 [==============================] - ETA: 0s - loss: 0.1940 - categorical_accuracy: 0.96 - 0s 425us/step - loss: 0.1903 - categorical_accuracy: 0.9672 - val_loss: 0.8073 - val_categorical_accuracy: 0.7461\n",
      "Epoch 23/100\n",
      "579/579 [==============================] - 0s 519us/step - loss: 0.1788 - categorical_accuracy: 0.9672 - val_loss: 0.7795 - val_categorical_accuracy: 0.7668\n",
      "Epoch 24/100\n",
      "579/579 [==============================] - 0s 453us/step - loss: 0.1541 - categorical_accuracy: 0.9810 - val_loss: 0.7682 - val_categorical_accuracy: 0.7720\n",
      "Epoch 25/100\n",
      "579/579 [==============================] - 0s 425us/step - loss: 0.1441 - categorical_accuracy: 0.9810 - val_loss: 0.7529 - val_categorical_accuracy: 0.7979\n",
      "Epoch 26/100\n",
      "579/579 [==============================] - 0s 596us/step - loss: 0.1328 - categorical_accuracy: 0.9793 - val_loss: 0.7706 - val_categorical_accuracy: 0.7772\n",
      "Epoch 27/100\n",
      "579/579 [==============================] - 0s 411us/step - loss: 0.1177 - categorical_accuracy: 0.9862 - val_loss: 0.8234 - val_categorical_accuracy: 0.8031\n",
      "Epoch 28/100\n",
      "579/579 [==============================] - 0s 408us/step - loss: 0.1452 - categorical_accuracy: 0.9758 - val_loss: 0.8972 - val_categorical_accuracy: 0.7409\n",
      "Epoch 29/100\n",
      "579/579 [==============================] - 0s 415us/step - loss: 0.1039 - categorical_accuracy: 0.9879 - val_loss: 0.7823 - val_categorical_accuracy: 0.7927\n",
      "Epoch 30/100\n",
      "579/579 [==============================] - 0s 475us/step - loss: 0.1002 - categorical_accuracy: 0.9931 - val_loss: 0.8291 - val_categorical_accuracy: 0.7876\n",
      "Epoch 31/100\n",
      "579/579 [==============================] - 0s 427us/step - loss: 0.0883 - categorical_accuracy: 0.9948 - val_loss: 0.9559 - val_categorical_accuracy: 0.7306\n",
      "Epoch 32/100\n",
      "579/579 [==============================] - 0s 408us/step - loss: 0.0866 - categorical_accuracy: 0.9948 - val_loss: 0.8421 - val_categorical_accuracy: 0.7824\n",
      "Epoch 33/100\n",
      "579/579 [==============================] - 0s 403us/step - loss: 0.0754 - categorical_accuracy: 0.9965 - val_loss: 0.8324 - val_categorical_accuracy: 0.7668\n",
      "Epoch 34/100\n",
      "579/579 [==============================] - 0s 458us/step - loss: 0.0729 - categorical_accuracy: 0.9965 - val_loss: 0.8262 - val_categorical_accuracy: 0.7720\n",
      "Epoch 35/100\n",
      "579/579 [==============================] - 0s 417us/step - loss: 0.0822 - categorical_accuracy: 0.9948 - val_loss: 0.8430 - val_categorical_accuracy: 0.7720\n",
      "Epoch 36/100\n",
      "579/579 [==============================] - 0s 413us/step - loss: 0.0682 - categorical_accuracy: 0.9983 - val_loss: 0.8065 - val_categorical_accuracy: 0.7927\n",
      "Epoch 37/100\n",
      "579/579 [==============================] - 0s 408us/step - loss: 0.0575 - categorical_accuracy: 1.0000 - val_loss: 0.8397 - val_categorical_accuracy: 0.7824\n",
      "Epoch 38/100\n",
      "579/579 [==============================] - 0s 475us/step - loss: 0.0515 - categorical_accuracy: 1.0000 - val_loss: 0.8728 - val_categorical_accuracy: 0.7876\n",
      "Epoch 39/100\n",
      "579/579 [==============================] - 0s 486us/step - loss: 0.0468 - categorical_accuracy: 1.0000 - val_loss: 0.8806 - val_categorical_accuracy: 0.7876\n",
      "Epoch 40/100\n",
      "579/579 [==============================] - 0s 403us/step - loss: 0.0497 - categorical_accuracy: 1.0000 - val_loss: 0.8507 - val_categorical_accuracy: 0.7876\n",
      "Epoch 41/100\n",
      "579/579 [==============================] - 0s 404us/step - loss: 0.0410 - categorical_accuracy: 1.0000 - val_loss: 0.8966 - val_categorical_accuracy: 0.7876\n",
      "Epoch 42/100\n",
      "579/579 [==============================] - 0s 444us/step - loss: 0.0393 - categorical_accuracy: 1.0000 - val_loss: 0.9063 - val_categorical_accuracy: 0.7824\n",
      "Epoch 43/100\n",
      "579/579 [==============================] - 0s 410us/step - loss: 0.0357 - categorical_accuracy: 1.0000 - val_loss: 0.9705 - val_categorical_accuracy: 0.7720\n",
      "Epoch 44/100\n",
      "579/579 [==============================] - 0s 399us/step - loss: 0.0338 - categorical_accuracy: 1.0000 - val_loss: 0.8991 - val_categorical_accuracy: 0.7876\n",
      "Epoch 45/100\n",
      "579/579 [==============================] - 0s 404us/step - loss: 0.0370 - categorical_accuracy: 1.0000 - val_loss: 0.8903 - val_categorical_accuracy: 0.8031\n",
      "Epoch 46/100\n",
      "579/579 [==============================] - 0s 437us/step - loss: 0.0304 - categorical_accuracy: 1.0000 - val_loss: 0.9561 - val_categorical_accuracy: 0.7979\n",
      "Epoch 47/100\n",
      "579/579 [==============================] - 0s 413us/step - loss: 0.0273 - categorical_accuracy: 1.0000 - val_loss: 0.9760 - val_categorical_accuracy: 0.7927\n",
      "Epoch 48/100\n",
      "579/579 [==============================] - 0s 404us/step - loss: 0.0259 - categorical_accuracy: 1.0000 - val_loss: 0.9409 - val_categorical_accuracy: 0.8031\n",
      "Epoch 49/100\n",
      "579/579 [==============================] - 0s 411us/step - loss: 0.0253 - categorical_accuracy: 1.0000 - val_loss: 0.9481 - val_categorical_accuracy: 0.8083\n",
      "Epoch 50/100\n",
      "579/579 [==============================] - 0s 442us/step - loss: 0.0250 - categorical_accuracy: 1.0000 - val_loss: 0.9857 - val_categorical_accuracy: 0.7979\n",
      "Epoch 51/100\n",
      "579/579 [==============================] - 0s 410us/step - loss: 0.0250 - categorical_accuracy: 1.0000 - val_loss: 1.0275 - val_categorical_accuracy: 0.7876\n",
      "Epoch 52/100\n",
      "579/579 [==============================] - 0s 417us/step - loss: 0.0212 - categorical_accuracy: 1.0000 - val_loss: 1.0264 - val_categorical_accuracy: 0.7668\n",
      "Epoch 53/100\n",
      "579/579 [==============================] - 0s 415us/step - loss: 0.0342 - categorical_accuracy: 0.9983 - val_loss: 0.9836 - val_categorical_accuracy: 0.7876\n",
      "Epoch 54/100\n",
      "579/579 [==============================] - 0s 479us/step - loss: 0.0207 - categorical_accuracy: 1.0000 - val_loss: 0.9517 - val_categorical_accuracy: 0.7979\n",
      "Epoch 55/100\n",
      "579/579 [==============================] - 0s 486us/step - loss: 0.0185 - categorical_accuracy: 1.0000 - val_loss: 0.9824 - val_categorical_accuracy: 0.7979\n",
      "516/516 [==============================] - 0s 130us/step\n"
     ]
    },
    {
     "data": {
      "text/plain": [
       "[0.7116444785465565, 0.8100775480270386]"
      ]
     },
     "execution_count": 18,
     "metadata": {},
     "output_type": "execute_result"
    }
   ],
   "source": [
    "history_conv_1 = History()\n",
    "model = Sequential()\n",
    "model.add(Conv2D(16,(3,3),input_shape=X_train.shape[1:]))\n",
    "model.add(Flatten())\n",
    "model.add(Dense(n_classes,activation=\"softmax\"))\n",
    "model.summary()\n",
    "\n",
    "early_stopping = EarlyStopping(patience=30,monitor=\"val_loss\")\n",
    "model.compile(loss=\"categorical_crossentropy\",optimizer=\"adam\",metrics=[\"categorical_accuracy\"])\n",
    "model.fit(X_train, y_train, validation_split=0.25,epochs=100,callbacks=[early_stopping, history_conv_1])\n",
    "model.evaluate(X_test,y_test)"
   ]
  },
  {
   "cell_type": "code",
   "execution_count": 19,
   "metadata": {},
   "outputs": [
    {
     "data": {
      "image/png": "[encoded data removed]",
      "text/plain": [
       "<Figure size 432x288 with 1 Axes>"
      ]
     },
     "metadata": {
      "needs_background": "light"
     },
     "output_type": "display_data"
    }
   ],
   "source": [
    "plt.plot(history_dense_1.history['categorical_accuracy'], label = \"tarina dense Layer=1\")\n",
    "plt.plot(history_dense_1.history['val_categorical_accuracy'], label = \"test dense Layer=1\")\n",
    "\n",
    "# plt.plot(history_dense_2.history['categorical_accuracy'], label = \"tarina dense Layer=2\")\n",
    "# plt.plot(history_dense_2.history['val_categorical_accuracy'], label = \"test dense Layer=2\")\n",
    "\n",
    "plt.plot(history_conv_1.history['categorical_accuracy'], label = \"tarina Conv Layer=1\")\n",
    "plt.plot(history_conv_1.history['val_categorical_accuracy'], label = \"test Conv Layer=1\")\n",
    "\n",
    "plt.legend()\n",
    "plt.show()"
   ]
  },
  {
   "cell_type": "markdown",
   "metadata": {},
   "source": [
    "# Zad\n",
    "Zbuduj sieć konwolucyjną z jedną warstwą \n",
    "* Conv2D\n",
    "* MaxPooling2D"
   ]
  },
  {
   "cell_type": "code",
   "execution_count": 20,
   "metadata": {},
   "outputs": [
    {
     "name": "stdout",
     "output_type": "stream",
     "text": [
      "Model: \"sequential_3\"\n",
      "_________________________________________________________________\n",
      "Layer (type)                 Output Shape              Param #   \n",
      "=================================================================\n",
      "conv2d_2 (Conv2D)            (None, 48, 35, 16)        160       \n",
      "_________________________________________________________________\n",
      "max_pooling2d_1 (MaxPooling2 (None, 24, 17, 16)        0         \n",
      "_________________________________________________________________\n",
      "flatten_3 (Flatten)          (None, 6528)              0         \n",
      "_________________________________________________________________\n",
      "dense_3 (Dense)              (None, 7)                 45703     \n",
      "=================================================================\n",
      "Total params: 45,863\n",
      "Trainable params: 45,863\n",
      "Non-trainable params: 0\n",
      "_________________________________________________________________\n",
      "Train on 579 samples, validate on 193 samples\n",
      "Epoch 1/100\n",
      "579/579 [==============================] - 0s 480us/step - loss: 1.7965 - categorical_accuracy: 0.3420 - val_loss: 1.7395 - val_categorical_accuracy: 0.3834\n",
      "Epoch 2/100\n",
      "579/579 [==============================] - 0s 327us/step - loss: 1.6245 - categorical_accuracy: 0.4318 - val_loss: 1.6420 - val_categorical_accuracy: 0.4145\n",
      "Epoch 3/100\n",
      "579/579 [==============================] - 0s 344us/step - loss: 1.5713 - categorical_accuracy: 0.4560 - val_loss: 1.6502 - val_categorical_accuracy: 0.4093\n",
      "Epoch 4/100\n",
      "579/579 [==============================] - 0s 332us/step - loss: 1.4703 - categorical_accuracy: 0.4646 - val_loss: 1.5766 - val_categorical_accuracy: 0.4560\n",
      "Epoch 5/100\n",
      "579/579 [==============================] - 0s 394us/step - loss: 1.4154 - categorical_accuracy: 0.5130 - val_loss: 1.4801 - val_categorical_accuracy: 0.4404\n",
      "Epoch 6/100\n",
      "579/579 [==============================] - 0s 327us/step - loss: 1.3484 - categorical_accuracy: 0.5250 - val_loss: 1.4310 - val_categorical_accuracy: 0.4819\n",
      "Epoch 7/100\n",
      "579/579 [==============================] - 0s 323us/step - loss: 1.2385 - categorical_accuracy: 0.5613 - val_loss: 1.3371 - val_categorical_accuracy: 0.4560\n",
      "Epoch 8/100\n",
      "579/579 [==============================] - 0s 327us/step - loss: 1.1494 - categorical_accuracy: 0.6010 - val_loss: 1.3076 - val_categorical_accuracy: 0.4974\n",
      "Epoch 9/100\n",
      "579/579 [==============================] - 0s 327us/step - loss: 1.0908 - categorical_accuracy: 0.5993 - val_loss: 1.2632 - val_categorical_accuracy: 0.5337\n",
      "Epoch 10/100\n",
      "579/579 [==============================] - 0s 372us/step - loss: 0.9701 - categorical_accuracy: 0.6770 - val_loss: 1.1487 - val_categorical_accuracy: 0.6114\n",
      "Epoch 11/100\n",
      "579/579 [==============================] - 0s 366us/step - loss: 0.8921 - categorical_accuracy: 0.7098 - val_loss: 1.1814 - val_categorical_accuracy: 0.6010\n",
      "Epoch 12/100\n",
      "579/579 [==============================] - 0s 337us/step - loss: 0.8421 - categorical_accuracy: 0.7427 - val_loss: 1.2543 - val_categorical_accuracy: 0.5285\n",
      "Epoch 13/100\n",
      "579/579 [==============================] - 0s 325us/step - loss: 0.7938 - categorical_accuracy: 0.7496 - val_loss: 1.1433 - val_categorical_accuracy: 0.6010\n",
      "Epoch 14/100\n",
      "579/579 [==============================] - 0s 334us/step - loss: 0.7062 - categorical_accuracy: 0.7979 - val_loss: 1.0019 - val_categorical_accuracy: 0.6321\n",
      "Epoch 15/100\n",
      "579/579 [==============================] - 0s 391us/step - loss: 0.6221 - categorical_accuracy: 0.8359 - val_loss: 0.8843 - val_categorical_accuracy: 0.6839\n",
      "Epoch 16/100\n",
      "579/579 [==============================] - 0s 389us/step - loss: 0.5778 - categorical_accuracy: 0.8515 - val_loss: 1.1387 - val_categorical_accuracy: 0.5699\n",
      "Epoch 17/100\n",
      "579/579 [==============================] - 0s 321us/step - loss: 0.5861 - categorical_accuracy: 0.8187 - val_loss: 0.8330 - val_categorical_accuracy: 0.7306\n",
      "Epoch 18/100\n",
      "579/579 [==============================] - 0s 335us/step - loss: 0.4939 - categorical_accuracy: 0.8687 - val_loss: 0.8789 - val_categorical_accuracy: 0.6684\n",
      "Epoch 19/100\n",
      "579/579 [==============================] - 0s 337us/step - loss: 0.4560 - categorical_accuracy: 0.8808 - val_loss: 0.7552 - val_categorical_accuracy: 0.7668\n",
      "Epoch 20/100\n",
      "579/579 [==============================] - 0s 363us/step - loss: 0.4588 - categorical_accuracy: 0.8774 - val_loss: 0.7900 - val_categorical_accuracy: 0.7306\n",
      "Epoch 21/100\n",
      "579/579 [==============================] - 0s 332us/step - loss: 0.5087 - categorical_accuracy: 0.8428 - val_loss: 0.8151 - val_categorical_accuracy: 0.7254\n",
      "Epoch 22/100\n",
      "579/579 [==============================] - 0s 327us/step - loss: 0.3866 - categorical_accuracy: 0.9102 - val_loss: 0.7686 - val_categorical_accuracy: 0.7668\n",
      "Epoch 23/100\n",
      "579/579 [==============================] - 0s 323us/step - loss: 0.3456 - categorical_accuracy: 0.9188 - val_loss: 0.7202 - val_categorical_accuracy: 0.7772\n",
      "Epoch 24/100\n",
      "579/579 [==============================] - 0s 449us/step - loss: 0.3385 - categorical_accuracy: 0.9171 - val_loss: 0.7427 - val_categorical_accuracy: 0.7772\n",
      "Epoch 25/100\n",
      "579/579 [==============================] - 0s 404us/step - loss: 0.3136 - categorical_accuracy: 0.9309 - val_loss: 0.8081 - val_categorical_accuracy: 0.7254\n",
      "Epoch 26/100\n",
      "579/579 [==============================] - 0s 351us/step - loss: 0.3087 - categorical_accuracy: 0.9240 - val_loss: 0.7131 - val_categorical_accuracy: 0.7824\n",
      "Epoch 27/100\n",
      "579/579 [==============================] - 0s 351us/step - loss: 0.2737 - categorical_accuracy: 0.9361 - val_loss: 0.7151 - val_categorical_accuracy: 0.7927\n",
      "Epoch 28/100\n",
      "579/579 [==============================] - 0s 349us/step - loss: 0.3000 - categorical_accuracy: 0.9275 - val_loss: 0.7690 - val_categorical_accuracy: 0.7720\n",
      "Epoch 29/100\n",
      "579/579 [==============================] - 0s 368us/step - loss: 0.2703 - categorical_accuracy: 0.9344 - val_loss: 0.7010 - val_categorical_accuracy: 0.7668\n",
      "Epoch 30/100\n",
      "579/579 [==============================] - 0s 368us/step - loss: 0.2473 - categorical_accuracy: 0.9396 - val_loss: 0.7410 - val_categorical_accuracy: 0.7565\n",
      "Epoch 31/100\n",
      "579/579 [==============================] - 0s 356us/step - loss: 0.2212 - categorical_accuracy: 0.9568 - val_loss: 0.7079 - val_categorical_accuracy: 0.8031\n",
      "Epoch 32/100\n",
      "579/579 [==============================] - 0s 346us/step - loss: 0.2363 - categorical_accuracy: 0.9534 - val_loss: 0.7028 - val_categorical_accuracy: 0.7927\n",
      "Epoch 33/100\n",
      "579/579 [==============================] - 0s 332us/step - loss: 0.2017 - categorical_accuracy: 0.9603 - val_loss: 0.7742 - val_categorical_accuracy: 0.7565\n",
      "Epoch 34/100\n",
      "579/579 [==============================] - 0s 380us/step - loss: 0.1914 - categorical_accuracy: 0.9603 - val_loss: 0.7457 - val_categorical_accuracy: 0.7720\n",
      "Epoch 35/100\n",
      "579/579 [==============================] - 0s 344us/step - loss: 0.1806 - categorical_accuracy: 0.9689 - val_loss: 0.7765 - val_categorical_accuracy: 0.7461\n",
      "Epoch 36/100\n",
      "579/579 [==============================] - 0s 327us/step - loss: 0.1855 - categorical_accuracy: 0.9585 - val_loss: 0.8202 - val_categorical_accuracy: 0.7358\n",
      "Epoch 37/100\n",
      "579/579 [==============================] - 0s 332us/step - loss: 0.1787 - categorical_accuracy: 0.9689 - val_loss: 0.7423 - val_categorical_accuracy: 0.7824\n",
      "Epoch 38/100\n",
      "579/579 [==============================] - 0s 337us/step - loss: 0.1653 - categorical_accuracy: 0.9689 - val_loss: 0.6918 - val_categorical_accuracy: 0.7876\n",
      "Epoch 39/100\n",
      "579/579 [==============================] - 0s 372us/step - loss: 0.1506 - categorical_accuracy: 0.9741 - val_loss: 0.7468 - val_categorical_accuracy: 0.7720\n",
      "Epoch 40/100\n",
      "579/579 [==============================] - 0s 380us/step - loss: 0.1392 - categorical_accuracy: 0.9724 - val_loss: 0.7424 - val_categorical_accuracy: 0.7824\n",
      "Epoch 41/100\n",
      "579/579 [==============================] - 0s 327us/step - loss: 0.1301 - categorical_accuracy: 0.9793 - val_loss: 0.7511 - val_categorical_accuracy: 0.7876\n",
      "Epoch 42/100\n",
      "579/579 [==============================] - 0s 311us/step - loss: 0.1213 - categorical_accuracy: 0.9845 - val_loss: 0.7060 - val_categorical_accuracy: 0.7876\n",
      "Epoch 43/100\n",
      "579/579 [==============================] - 0s 320us/step - loss: 0.1123 - categorical_accuracy: 0.9862 - val_loss: 0.6807 - val_categorical_accuracy: 0.7720\n"
     ]
    },
    {
     "name": "stdout",
     "output_type": "stream",
     "text": [
      "Epoch 44/100\n",
      "579/579 [==============================] - 0s 346us/step - loss: 0.1060 - categorical_accuracy: 0.9896 - val_loss: 0.7384 - val_categorical_accuracy: 0.7720\n",
      "Epoch 45/100\n",
      "579/579 [==============================] - 0s 339us/step - loss: 0.0988 - categorical_accuracy: 0.9914 - val_loss: 0.7893 - val_categorical_accuracy: 0.7720\n",
      "Epoch 46/100\n",
      "579/579 [==============================] - 0s 334us/step - loss: 0.0998 - categorical_accuracy: 0.9948 - val_loss: 0.7486 - val_categorical_accuracy: 0.7824\n",
      "Epoch 47/100\n",
      "579/579 [==============================] - 0s 334us/step - loss: 0.0954 - categorical_accuracy: 0.9931 - val_loss: 0.7631 - val_categorical_accuracy: 0.7772\n",
      "Epoch 48/100\n",
      "579/579 [==============================] - 0s 335us/step - loss: 0.1016 - categorical_accuracy: 0.9896 - val_loss: 0.7093 - val_categorical_accuracy: 0.7772\n",
      "Epoch 49/100\n",
      "579/579 [==============================] - 0s 377us/step - loss: 0.0900 - categorical_accuracy: 0.9879 - val_loss: 0.7012 - val_categorical_accuracy: 0.8031\n",
      "Epoch 50/100\n",
      "579/579 [==============================] - 0s 366us/step - loss: 0.0792 - categorical_accuracy: 0.9948 - val_loss: 0.6854 - val_categorical_accuracy: 0.7876\n",
      "Epoch 51/100\n",
      "579/579 [==============================] - 0s 334us/step - loss: 0.0743 - categorical_accuracy: 0.9965 - val_loss: 0.7467 - val_categorical_accuracy: 0.7876\n",
      "Epoch 52/100\n",
      "579/579 [==============================] - 0s 316us/step - loss: 0.0770 - categorical_accuracy: 0.9931 - val_loss: 0.7399 - val_categorical_accuracy: 0.7772\n",
      "Epoch 53/100\n",
      "579/579 [==============================] - 0s 318us/step - loss: 0.0703 - categorical_accuracy: 0.9965 - val_loss: 0.7142 - val_categorical_accuracy: 0.7876\n",
      "Epoch 54/100\n",
      "579/579 [==============================] - 0s 354us/step - loss: 0.1047 - categorical_accuracy: 0.9810 - val_loss: 0.7667 - val_categorical_accuracy: 0.7720\n",
      "Epoch 55/100\n",
      "579/579 [==============================] - 0s 337us/step - loss: 0.0874 - categorical_accuracy: 0.9862 - val_loss: 0.7258 - val_categorical_accuracy: 0.7720\n",
      "Epoch 56/100\n",
      "579/579 [==============================] - 0s 328us/step - loss: 0.0761 - categorical_accuracy: 0.9931 - val_loss: 0.7047 - val_categorical_accuracy: 0.7979\n",
      "Epoch 57/100\n",
      "579/579 [==============================] - 0s 321us/step - loss: 0.0578 - categorical_accuracy: 1.0000 - val_loss: 0.7769 - val_categorical_accuracy: 0.7927\n",
      "Epoch 58/100\n",
      "579/579 [==============================] - 0s 332us/step - loss: 0.0584 - categorical_accuracy: 1.0000 - val_loss: 0.7738 - val_categorical_accuracy: 0.7927\n",
      "Epoch 59/100\n",
      "579/579 [==============================] - 0s 363us/step - loss: 0.0535 - categorical_accuracy: 0.9983 - val_loss: 0.7274 - val_categorical_accuracy: 0.7772\n",
      "Epoch 60/100\n",
      "579/579 [==============================] - 0s 330us/step - loss: 0.0552 - categorical_accuracy: 0.9983 - val_loss: 0.7238 - val_categorical_accuracy: 0.7927\n",
      "Epoch 61/100\n",
      "579/579 [==============================] - 0s 316us/step - loss: 0.0538 - categorical_accuracy: 1.0000 - val_loss: 0.7675 - val_categorical_accuracy: 0.7876\n",
      "Epoch 62/100\n",
      "579/579 [==============================] - 0s 311us/step - loss: 0.0469 - categorical_accuracy: 1.0000 - val_loss: 0.8009 - val_categorical_accuracy: 0.7720\n",
      "Epoch 63/100\n",
      "579/579 [==============================] - 0s 328us/step - loss: 0.0490 - categorical_accuracy: 1.0000 - val_loss: 0.7811 - val_categorical_accuracy: 0.7720\n",
      "Epoch 64/100\n",
      "579/579 [==============================] - 0s 353us/step - loss: 0.0476 - categorical_accuracy: 0.9965 - val_loss: 0.8289 - val_categorical_accuracy: 0.7720\n",
      "Epoch 65/100\n",
      "579/579 [==============================] - 0s 380us/step - loss: 0.0446 - categorical_accuracy: 0.9983 - val_loss: 0.7228 - val_categorical_accuracy: 0.7927\n",
      "Epoch 66/100\n",
      "579/579 [==============================] - 0s 316us/step - loss: 0.0379 - categorical_accuracy: 1.0000 - val_loss: 0.7500 - val_categorical_accuracy: 0.8031\n",
      "Epoch 67/100\n",
      "579/579 [==============================] - 0s 316us/step - loss: 0.0375 - categorical_accuracy: 1.0000 - val_loss: 0.8146 - val_categorical_accuracy: 0.7927\n",
      "Epoch 68/100\n",
      "579/579 [==============================] - 0s 325us/step - loss: 0.0344 - categorical_accuracy: 1.0000 - val_loss: 0.7433 - val_categorical_accuracy: 0.8031\n",
      "Epoch 69/100\n",
      "579/579 [==============================] - 0s 358us/step - loss: 0.0338 - categorical_accuracy: 1.0000 - val_loss: 0.7610 - val_categorical_accuracy: 0.7927\n",
      "Epoch 70/100\n",
      "579/579 [==============================] - 0s 389us/step - loss: 0.0346 - categorical_accuracy: 1.0000 - val_loss: 0.8089 - val_categorical_accuracy: 0.7772\n",
      "Epoch 71/100\n",
      "579/579 [==============================] - 0s 365us/step - loss: 0.0320 - categorical_accuracy: 1.0000 - val_loss: 0.7578 - val_categorical_accuracy: 0.7927\n",
      "Epoch 72/100\n",
      "579/579 [==============================] - 0s 334us/step - loss: 0.0299 - categorical_accuracy: 1.0000 - val_loss: 0.7812 - val_categorical_accuracy: 0.7876\n",
      "Epoch 73/100\n",
      "579/579 [==============================] - 0s 335us/step - loss: 0.0291 - categorical_accuracy: 1.0000 - val_loss: 0.8173 - val_categorical_accuracy: 0.7927\n",
      "516/516 [==============================] - 0s 140us/step\n"
     ]
    },
    {
     "data": {
      "text/plain": [
       "[0.5944531139477279, 0.8333333134651184]"
      ]
     },
     "execution_count": 20,
     "metadata": {},
     "output_type": "execute_result"
    }
   ],
   "source": [
    "history_conv_max_1 = History()\n",
    "model = Sequential()\n",
    "model.add(Conv2D(16,(3,3),input_shape=X_train.shape[1:]))\n",
    "model.add(MaxPooling2D((2,2)))\n",
    "model.add(Flatten())\n",
    "model.add(Dense(n_classes,activation=\"softmax\"))\n",
    "model.summary()\n",
    "\n",
    "early_stopping = EarlyStopping(patience=30,monitor=\"val_loss\")\n",
    "model.compile(loss=\"categorical_crossentropy\",optimizer=\"adam\",metrics=[\"categorical_accuracy\"])\n",
    "model.fit(X_train, y_train, validation_split=0.25,epochs=100,callbacks=[early_stopping, history_conv_max_1])\n",
    "model.evaluate(X_test,y_test)"
   ]
  },
  {
   "cell_type": "code",
   "execution_count": 22,
   "metadata": {},
   "outputs": [
    {
     "data": {
      "image/png": "[encoded data removed]",
      "text/plain": [
       "<Figure size 432x288 with 1 Axes>"
      ]
     },
     "metadata": {
      "needs_background": "light"
     },
     "output_type": "display_data"
    }
   ],
   "source": [
    "plt.plot(history_dense_1.history['categorical_accuracy'], label = \"tarina dense Layer=1\")\n",
    "plt.plot(history_dense_1.history['val_categorical_accuracy'], label = \"test dense Layer=1\")\n",
    "\n",
    "# plt.plot(history_dense_2.history['categorical_accuracy'], label = \"tarina dense Layer=2\")\n",
    "# plt.plot(history_dense_2.history['val_categorical_accuracy'], label = \"test dense Layer=2\")\n",
    "\n",
    "plt.plot(history_conv_1.history['categorical_accuracy'], label = \"tarina Conv Layer=1\")\n",
    "plt.plot(history_conv_1.history['val_categorical_accuracy'], label = \"test Conv Layer=1\")\n",
    "\n",
    "plt.plot(history_conv_max_1.history['categorical_accuracy'], label = \"tarina Conv Max Layer=1\")\n",
    "plt.plot(history_conv_max_1.history['val_categorical_accuracy'], label = \"test Conv Max Layer=1\")\n",
    "\n",
    "plt.legend()\n",
    "plt.show()"
   ]
  },
  {
   "cell_type": "markdown",
   "metadata": {},
   "source": [
    "# Zad\n",
    "Zbuduj sieć konwolucyjną z jedną warstwą \n",
    "* Conv2D (,padding=\"same\")\n",
    "* MaxPooling2D"
   ]
  },
  {
   "cell_type": "code",
   "execution_count": null,
   "metadata": {},
   "outputs": [],
   "source": []
  },
  {
   "cell_type": "code",
   "execution_count": null,
   "metadata": {},
   "outputs": [],
   "source": []
  },
  {
   "cell_type": "markdown",
   "metadata": {},
   "source": [
    "# Zad\n",
    "Zbuduj sieć konwolucyjną z jedną warstwą \n",
    "* Conv2D (,padding=\"same\")\n",
    "* MaxPooling2D\n",
    "* Conv2D (,padding=\"same\")\n",
    "* MaxPooling2D"
   ]
  },
  {
   "cell_type": "code",
   "execution_count": 23,
   "metadata": {},
   "outputs": [
    {
     "name": "stdout",
     "output_type": "stream",
     "text": [
      "Model: \"sequential_4\"\n",
      "_________________________________________________________________\n",
      "Layer (type)                 Output Shape              Param #   \n",
      "=================================================================\n",
      "conv2d_3 (Conv2D)            (None, 50, 37, 32)        320       \n",
      "_________________________________________________________________\n",
      "max_pooling2d_2 (MaxPooling2 (None, 25, 18, 32)        0         \n",
      "_________________________________________________________________\n",
      "conv2d_4 (Conv2D)            (None, 25, 18, 16)        2064      \n",
      "_________________________________________________________________\n",
      "max_pooling2d_3 (MaxPooling2 (None, 12, 9, 16)         0         \n",
      "_________________________________________________________________\n",
      "flatten_4 (Flatten)          (None, 1728)              0         \n",
      "_________________________________________________________________\n",
      "dense_4 (Dense)              (None, 7)                 12103     \n",
      "=================================================================\n",
      "Total params: 14,487\n",
      "Trainable params: 14,487\n",
      "Non-trainable params: 0\n",
      "_________________________________________________________________\n",
      "Train on 579 samples, validate on 193 samples\n",
      "Epoch 1/100\n",
      "579/579 [==============================] - 1s 1ms/step - loss: 1.7253 - categorical_accuracy: 0.3990 - val_loss: 1.7267 - val_categorical_accuracy: 0.3782\n",
      "Epoch 2/100\n",
      "579/579 [==============================] - 0s 852us/step - loss: 1.6648 - categorical_accuracy: 0.4231 - val_loss: 1.7396 - val_categorical_accuracy: 0.3782\n",
      "Epoch 3/100\n",
      "579/579 [==============================] - 1s 907us/step - loss: 1.6430 - categorical_accuracy: 0.4231 - val_loss: 1.6805 - val_categorical_accuracy: 0.3782\n",
      "Epoch 4/100\n",
      "579/579 [==============================] - 1s 866us/step - loss: 1.6253 - categorical_accuracy: 0.4249 - val_loss: 1.6845 - val_categorical_accuracy: 0.3782\n",
      "Epoch 5/100\n",
      "579/579 [==============================] - 1s 938us/step - loss: 1.5723 - categorical_accuracy: 0.4249 - val_loss: 1.6441 - val_categorical_accuracy: 0.3886\n",
      "Epoch 6/100\n",
      "579/579 [==============================] - 1s 869us/step - loss: 1.5175 - categorical_accuracy: 0.4611 - val_loss: 1.6006 - val_categorical_accuracy: 0.3990\n",
      "Epoch 7/100\n",
      "579/579 [==============================] - 1s 959us/step - loss: 1.4518 - categorical_accuracy: 0.4974 - val_loss: 1.5191 - val_categorical_accuracy: 0.3990\n",
      "Epoch 8/100\n",
      "579/579 [==============================] - 1s 892us/step - loss: 1.3622 - categorical_accuracy: 0.5026 - val_loss: 1.4460 - val_categorical_accuracy: 0.4819\n",
      "Epoch 9/100\n",
      "579/579 [==============================] - 1s 977us/step - loss: 1.2354 - categorical_accuracy: 0.5717 - val_loss: 1.3507 - val_categorical_accuracy: 0.4974\n",
      "Epoch 10/100\n",
      "579/579 [==============================] - 0s 837us/step - loss: 1.0953 - categorical_accuracy: 0.6408 - val_loss: 1.1887 - val_categorical_accuracy: 0.5596\n",
      "Epoch 11/100\n",
      "579/579 [==============================] - 1s 869us/step - loss: 0.9738 - categorical_accuracy: 0.6839 - val_loss: 1.1078 - val_categorical_accuracy: 0.6062\n",
      "Epoch 12/100\n",
      "579/579 [==============================] - 0s 818us/step - loss: 0.8069 - categorical_accuracy: 0.7340 - val_loss: 0.9706 - val_categorical_accuracy: 0.6684\n",
      "Epoch 13/100\n",
      "579/579 [==============================] - 1s 888us/step - loss: 0.7366 - categorical_accuracy: 0.7547 - val_loss: 0.9664 - val_categorical_accuracy: 0.6736\n",
      "Epoch 14/100\n",
      "579/579 [==============================] - 0s 840us/step - loss: 0.5875 - categorical_accuracy: 0.8152 - val_loss: 0.8132 - val_categorical_accuracy: 0.7461\n",
      "Epoch 15/100\n",
      "579/579 [==============================] - 1s 970us/step - loss: 0.4797 - categorical_accuracy: 0.8653 - val_loss: 0.7760 - val_categorical_accuracy: 0.7098\n",
      "Epoch 16/100\n",
      "579/579 [==============================] - 0s 850us/step - loss: 0.4455 - categorical_accuracy: 0.8653 - val_loss: 0.7079 - val_categorical_accuracy: 0.7876\n",
      "Epoch 17/100\n",
      "579/579 [==============================] - 1s 913us/step - loss: 0.4369 - categorical_accuracy: 0.8808 - val_loss: 0.7918 - val_categorical_accuracy: 0.7513\n",
      "Epoch 18/100\n",
      "579/579 [==============================] - 0s 816us/step - loss: 0.3611 - categorical_accuracy: 0.8929 - val_loss: 0.7160 - val_categorical_accuracy: 0.7720\n",
      "Epoch 19/100\n",
      "579/579 [==============================] - 1s 894us/step - loss: 0.2960 - categorical_accuracy: 0.9275 - val_loss: 0.7235 - val_categorical_accuracy: 0.7513\n",
      "Epoch 20/100\n",
      "579/579 [==============================] - 1s 985us/step - loss: 0.2767 - categorical_accuracy: 0.9240 - val_loss: 0.7010 - val_categorical_accuracy: 0.7824\n",
      "Epoch 21/100\n",
      "579/579 [==============================] - 1s 951us/step - loss: 0.2387 - categorical_accuracy: 0.9344 - val_loss: 0.6713 - val_categorical_accuracy: 0.7927\n",
      "Epoch 22/100\n",
      "579/579 [==============================] - 0s 857us/step - loss: 0.2085 - categorical_accuracy: 0.9499 - val_loss: 0.6705 - val_categorical_accuracy: 0.7876\n",
      "Epoch 23/100\n",
      "579/579 [==============================] - 1s 940us/step - loss: 0.2114 - categorical_accuracy: 0.9378 - val_loss: 0.6972 - val_categorical_accuracy: 0.7927\n",
      "Epoch 24/100\n",
      "579/579 [==============================] - 1s 881us/step - loss: 0.1756 - categorical_accuracy: 0.9568 - val_loss: 0.6908 - val_categorical_accuracy: 0.8031\n",
      "Epoch 25/100\n",
      "579/579 [==============================] - 0s 835us/step - loss: 0.1636 - categorical_accuracy: 0.9655 - val_loss: 0.6553 - val_categorical_accuracy: 0.8031\n",
      "Epoch 26/100\n",
      "579/579 [==============================] - 1s 883us/step - loss: 0.1497 - categorical_accuracy: 0.9655 - val_loss: 0.6692 - val_categorical_accuracy: 0.7979\n",
      "Epoch 27/100\n",
      "579/579 [==============================] - 0s 818us/step - loss: 0.1246 - categorical_accuracy: 0.9793 - val_loss: 0.7096 - val_categorical_accuracy: 0.8135\n",
      "Epoch 28/100\n",
      "579/579 [==============================] - 1s 883us/step - loss: 0.1383 - categorical_accuracy: 0.9724 - val_loss: 0.6705 - val_categorical_accuracy: 0.8135\n",
      "Epoch 29/100\n",
      "579/579 [==============================] - 0s 816us/step - loss: 0.1139 - categorical_accuracy: 0.9775 - val_loss: 0.6978 - val_categorical_accuracy: 0.8135\n",
      "Epoch 30/100\n",
      "579/579 [==============================] - 1s 883us/step - loss: 0.0968 - categorical_accuracy: 0.9827 - val_loss: 0.6766 - val_categorical_accuracy: 0.8135\n",
      "Epoch 31/100\n",
      "579/579 [==============================] - 1s 873us/step - loss: 0.0844 - categorical_accuracy: 0.9827 - val_loss: 0.6917 - val_categorical_accuracy: 0.8238\n",
      "Epoch 32/100\n",
      "579/579 [==============================] - 0s 856us/step - loss: 0.0747 - categorical_accuracy: 0.9896 - val_loss: 0.6929 - val_categorical_accuracy: 0.8187\n",
      "Epoch 33/100\n",
      "579/579 [==============================] - 0s 824us/step - loss: 0.0668 - categorical_accuracy: 0.9931 - val_loss: 0.7309 - val_categorical_accuracy: 0.8238\n",
      "Epoch 34/100\n",
      "579/579 [==============================] - 0s 859us/step - loss: 0.0617 - categorical_accuracy: 0.9914 - val_loss: 0.6913 - val_categorical_accuracy: 0.8187\n",
      "Epoch 35/100\n",
      "579/579 [==============================] - 0s 842us/step - loss: 0.0521 - categorical_accuracy: 1.0000 - val_loss: 0.7231 - val_categorical_accuracy: 0.8290\n",
      "Epoch 36/100\n",
      "579/579 [==============================] - 1s 890us/step - loss: 0.0490 - categorical_accuracy: 0.9948 - val_loss: 0.6868 - val_categorical_accuracy: 0.8135\n",
      "Epoch 37/100\n",
      "579/579 [==============================] - 0s 824us/step - loss: 0.0472 - categorical_accuracy: 0.9965 - val_loss: 0.7797 - val_categorical_accuracy: 0.8187\n",
      "Epoch 38/100\n",
      "579/579 [==============================] - 1s 904us/step - loss: 0.0405 - categorical_accuracy: 1.0000 - val_loss: 0.7128 - val_categorical_accuracy: 0.8342\n",
      "Epoch 39/100\n",
      "579/579 [==============================] - 1s 890us/step - loss: 0.0345 - categorical_accuracy: 1.0000 - val_loss: 0.7365 - val_categorical_accuracy: 0.8394\n",
      "Epoch 40/100\n",
      "579/579 [==============================] - 1s 907us/step - loss: 0.0309 - categorical_accuracy: 1.0000 - val_loss: 0.7183 - val_categorical_accuracy: 0.8238\n",
      "Epoch 41/100\n",
      "579/579 [==============================] - 0s 849us/step - loss: 0.0321 - categorical_accuracy: 0.9983 - val_loss: 0.7864 - val_categorical_accuracy: 0.8238\n",
      "Epoch 42/100\n",
      "579/579 [==============================] - 1s 888us/step - loss: 0.0310 - categorical_accuracy: 1.0000 - val_loss: 0.7546 - val_categorical_accuracy: 0.8187\n",
      "Epoch 43/100\n",
      "579/579 [==============================] - 0s 843us/step - loss: 0.0251 - categorical_accuracy: 1.0000 - val_loss: 0.7427 - val_categorical_accuracy: 0.8187\n",
      "Epoch 44/100\n",
      "579/579 [==============================] - 1s 939us/step - loss: 0.0228 - categorical_accuracy: 1.0000 - val_loss: 0.7510 - val_categorical_accuracy: 0.8187\n",
      "Epoch 45/100\n",
      "579/579 [==============================] - 1s 864us/step - loss: 0.0217 - categorical_accuracy: 1.0000 - val_loss: 0.7798 - val_categorical_accuracy: 0.8135\n",
      "Epoch 46/100\n",
      "579/579 [==============================] - 1s 926us/step - loss: 0.0198 - categorical_accuracy: 1.0000 - val_loss: 0.7376 - val_categorical_accuracy: 0.8238\n",
      "Epoch 47/100\n",
      "579/579 [==============================] - 0s 852us/step - loss: 0.0202 - categorical_accuracy: 1.0000 - val_loss: 0.7846 - val_categorical_accuracy: 0.8238\n",
      "Epoch 48/100\n",
      "579/579 [==============================] - 1s 906us/step - loss: 0.0179 - categorical_accuracy: 1.0000 - val_loss: 0.7526 - val_categorical_accuracy: 0.8342\n",
      "Epoch 49/100\n",
      "579/579 [==============================] - 0s 804us/step - loss: 0.0159 - categorical_accuracy: 1.0000 - val_loss: 0.8115 - val_categorical_accuracy: 0.8290\n",
      "Epoch 50/100\n",
      "579/579 [==============================] - 1s 1ms/step - loss: 0.0156 - categorical_accuracy: 1.0000 - val_loss: 0.7788 - val_categorical_accuracy: 0.8342\n",
      "Epoch 51/100\n",
      "579/579 [==============================] - 0s 805us/step - loss: 0.0153 - categorical_accuracy: 1.0000 - val_loss: 0.8232 - val_categorical_accuracy: 0.8135\n",
      "Epoch 52/100\n",
      "579/579 [==============================] - 1s 864us/step - loss: 0.0131 - categorical_accuracy: 1.0000 - val_loss: 0.7867 - val_categorical_accuracy: 0.8342\n",
      "Epoch 53/100\n",
      "579/579 [==============================] - 0s 807us/step - loss: 0.0122 - categorical_accuracy: 1.0000 - val_loss: 0.8091 - val_categorical_accuracy: 0.8135\n",
      "Epoch 54/100\n",
      "579/579 [==============================] - 1s 909us/step - loss: 0.0147 - categorical_accuracy: 1.0000 - val_loss: 0.8070 - val_categorical_accuracy: 0.8238\n",
      "Epoch 55/100\n",
      "579/579 [==============================] - 0s 824us/step - loss: 0.0111 - categorical_accuracy: 1.0000 - val_loss: 0.8375 - val_categorical_accuracy: 0.8290\n",
      "516/516 [==============================] - 0s 246us/step\n"
     ]
    },
    {
     "data": {
      "text/plain": [
       "[0.6009861189121193, 0.8449612259864807]"
      ]
     },
     "execution_count": 23,
     "metadata": {},
     "output_type": "execute_result"
    }
   ],
   "source": [
    "history_conv_max_2 = History()\n",
    "model = Sequential()\n",
    "model.add(Conv2D(32,(3,3),input_shape=X_train.shape[1:],padding=\"same\"))\n",
    "model.add(MaxPooling2D((2,2)))\n",
    "\n",
    "model.add(Conv2D(16,(2,2),padding=\"same\"))\n",
    "model.add(MaxPooling2D((2,2)))\n",
    "\n",
    "model.add(Flatten())\n",
    "model.add(Dense(n_classes,activation=\"softmax\"))\n",
    "model.summary()\n",
    "\n",
    "early_stopping = EarlyStopping(patience=30,monitor=\"val_loss\")\n",
    "model.compile(loss=\"categorical_crossentropy\",optimizer=\"adam\",metrics=[\"categorical_accuracy\"])\n",
    "model.fit(X_train, y_train, validation_split=0.25,epochs=100,callbacks=[early_stopping, history_conv_max_2])\n",
    "model.evaluate(X_test,y_test)"
   ]
  },
  {
   "cell_type": "code",
   "execution_count": 25,
   "metadata": {},
   "outputs": [
    {
     "data": {
      "image/png": "[encoded data removed]",
      "text/plain": [
       "<Figure size 432x288 with 1 Axes>"
      ]
     },
     "metadata": {
      "needs_background": "light"
     },
     "output_type": "display_data"
    }
   ],
   "source": [
    "# plt.plot(history_dense_1.history['categorical_accuracy'], label = \"tarina dense Layer=1\")\n",
    "# plt.plot(history_dense_1.history['val_categorical_accuracy'], label = \"test dense Layer=1\")\n",
    "\n",
    "plt.plot(history_dense_2.history['categorical_accuracy'], label = \"tarina dense Layer=2\")\n",
    "plt.plot(history_dense_2.history['val_categorical_accuracy'], label = \"test dense Layer=2\")\n",
    "\n",
    "# plt.plot(history_conv_max_1.history['categorical_accuracy'], label = \"tarina Conv Layer=1\")\n",
    "# plt.plot(history_conv_max_1.history['val_categorical_accuracy'], label = \"test Conv Layer=1\")\n",
    "\n",
    "plt.plot(history_conv_max_2.history['categorical_accuracy'], label = \"tarina Conv Layer=2\")\n",
    "plt.plot(history_conv_max_2.history['val_categorical_accuracy'], label = \"test Conv Layer=2\")\n",
    "\n",
    "plt.legend()\n",
    "plt.show()"
   ]
  },
  {
   "cell_type": "markdown",
   "metadata": {},
   "source": [
    "# Zad.\n",
    "\n",
    "Dodaj: \n",
    "\n",
    "* BatchNormalization\n",
    "* Dropout\n",
    "\n",
    "```python\n",
    "model.add(layers.Conv2D(64, (3, 3), ...))\n",
    "model.add(layers.BatchNormalization())\n",
    "model.add(layers.Activation(\"relu\"))\n",
    "model.add(MaxPooling2D((2,2)))\n",
    "model.add(Dropout(0.2))\n",
    "```\n",
    "\n",
    "* Dropout can be used after convolutional layers (e.g. Conv2D) and after pooling layers (e.g. MaxPooling2D).\n",
    "* Often, dropout is only used after the pooling layers, but this is just a rough heuristic."
   ]
  },
  {
   "cell_type": "code",
   "execution_count": null,
   "metadata": {},
   "outputs": [],
   "source": []
  },
  {
   "cell_type": "code",
   "execution_count": null,
   "metadata": {},
   "outputs": [],
   "source": []
  },
  {
   "cell_type": "code",
   "execution_count": null,
   "metadata": {},
   "outputs": [],
   "source": []
  }
 ],
 "metadata": {
  "kernelspec": {
   "display_name": "Python 3 (ipykernel)",
   "language": "python",
   "name": "python3"
  },
  "language_info": {
   "codemirror_mode": {
    "name": "ipython",
    "version": 3
   },
   "file_extension": ".py",
   "mimetype": "text/x-python",
   "name": "python",
   "nbconvert_exporter": "python",
   "pygments_lexer": "ipython3",
   "version": "3.10.4"
  }
 },
 "nbformat": 4,
 "nbformat_minor": 2
}
