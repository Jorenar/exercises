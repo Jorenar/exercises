{
 "cells": [
  {
   "cell_type": "markdown",
   "metadata": {},
   "source": [
    "# Train test split\n"
   ]
  },
  {
   "cell_type": "code",
   "execution_count": 1,
   "metadata": {},
   "outputs": [],
   "source": [
    "import numpy as np\n",
    "import pandas as pd\n",
    "import scipy.stats as stats\n",
    "import sklearn.linear_model as lm\n",
    "from sklearn import datasets, linear_model\n",
    "import matplotlib.pyplot as plt\n",
    "\n",
    "from sklearn.preprocessing import PolynomialFeatures\n",
    "from sklearn.pipeline import make_pipeline\n",
    "\n",
    "from sklearn import  metrics"
   ]
  },
  {
   "cell_type": "markdown",
   "metadata": {},
   "source": [
    "Rozważmy następujący zbiór punktów:"
   ]
  },
  {
   "cell_type": "code",
   "execution_count": 2,
   "metadata": {},
   "outputs": [
    {
     "data": {
      "image/png": "[encoded data removed]",
      "text/plain": [
       "<Figure size 432x288 with 1 Axes>"
      ]
     },
     "metadata": {
      "needs_background": "light"
     },
     "output_type": "display_data"
    }
   ],
   "source": [
    "x = stats.uniform(0,3).rvs(100)\n",
    "f = lambda x: ((x*2-1)*(x**2-2)*(x-2)+3)\n",
    "y = f(x) + stats.norm(0,0.3).rvs(len(x))\n",
    "plt.plot(x, y, 'ok', ms=10);\n",
    "plt.show()"
   ]
  },
  {
   "cell_type": "markdown",
   "metadata": {},
   "source": [
    "# Przykład\n",
    "Podziel zbiór danych na część testową i treningową. \n",
    "Naucz model na części treningowej i ocen wyniki na części testowej."
   ]
  },
  {
   "cell_type": "code",
   "execution_count": 3,
   "metadata": {},
   "outputs": [
    {
     "name": "stdout",
     "output_type": "stream",
     "text": [
      "(60,) (60,)\n",
      "(40,) (40,)\n"
     ]
    }
   ],
   "source": [
    "from sklearn.model_selection import train_test_split\n",
    "X_train, X_test, y_train, y_test = train_test_split(x, y, test_size=0.4, random_state=0)\n",
    "\n",
    "print(X_train.shape, y_train.shape)\n",
    "print(X_test.shape, y_test.shape)"
   ]
  },
  {
   "cell_type": "code",
   "execution_count": 4,
   "metadata": {},
   "outputs": [],
   "source": [
    "X_train=np.vstack(X_train)\n",
    "X_test=np.vstack(X_test)"
   ]
  },
  {
   "cell_type": "code",
   "execution_count": 5,
   "metadata": {},
   "outputs": [
    {
     "data": {
      "text/plain": [
       "array([ 0.09910315,  1.87054424,  7.38056674,  7.0003952 , 10.94063607,\n",
       "       11.46333133,  8.98866925, -0.90493008,  1.08596347, -0.28615618,\n",
       "       -0.38414561, -0.89535091,  0.45494548, -1.01644184,  1.25970946,\n",
       "       -0.88858051,  0.71632331, -0.80441691,  9.98851501, -0.42684644,\n",
       "       12.21929664,  2.60948893,  2.6621384 , 25.01778052, -0.55952093,\n",
       "       19.00014416,  5.47554705,  1.6403462 ,  0.1916741 , -0.63920525,\n",
       "       13.325206  , -0.74078945, -0.89061402,  9.50540372, 27.94909538,\n",
       "       -1.03451968, -0.36654205, -0.90368726, -0.90951479,  4.90200593])"
      ]
     },
     "execution_count": 5,
     "metadata": {},
     "output_type": "execute_result"
    }
   ],
   "source": [
    "model2 = make_pipeline(PolynomialFeatures(2), linear_model.LinearRegression())\n",
    "model2.fit(X_train, y_train)\n",
    "model2.predict(X_test)"
   ]
  },
  {
   "cell_type": "code",
   "execution_count": 6,
   "metadata": {},
   "outputs": [
    {
     "name": "stdout",
     "output_type": "stream",
     "text": [
      "Explained variance score: 0.6679090580427911\n",
      "Explained variance score: 0.6679090580427911\n",
      "Median absolute error: 3.9633371146974516\n",
      "Mean squared error: 17.774909891422546\n",
      "Mean absolute errors: 3.7653112285770307\n"
     ]
    }
   ],
   "source": [
    "print(\"Explained variance score: {}\".format( metrics.explained_variance_score(y_test, model2.predict(X_test)) ))\n",
    "print(\"Explained variance score: {}\".format( metrics.explained_variance_score(y_test, model2.predict(X_test)) ))\n",
    "print(\"Median absolute error: {}\".format( metrics.median_absolute_error(y_test, model2.predict(X_test)) ))\n",
    "print(\"Mean squared error: {}\".format( metrics.mean_squared_error(y_test, model2.predict(X_test)) ))\n",
    "print(\"Mean absolute errors: {}\".format(metrics.mean_absolute_error(y_test, model2.predict(X_test)) ))"
   ]
  },
  {
   "cell_type": "markdown",
   "metadata": {},
   "source": [
    "# Zadanie\n",
    "Wylicz powyższe miary na zbiorze testowym dla wszystkich modeli nauczonych na trainie:\n",
    "\n",
    "- regrsji linowej\n",
    "- regrsji wielomianowej stopnia 2\n",
    "- regrsji wielomianowej stopnia 3\n",
    "- regrsji wielomianowej stopnia 4\n",
    "- regrsji wielomianowej stopnia 5\n",
    "- regrsji wielomianowej stopnia 25"
   ]
  },
  {
   "cell_type": "code",
   "execution_count": 8,
   "metadata": {},
   "outputs": [
    {
     "name": "stdout",
     "output_type": "stream",
     "text": [
      "Regresja stopnia 1\n",
      "[ 1.25683253 -0.42435979 11.67968488 11.50547717 13.15052069 13.34688987\n",
      " -4.26547723  3.10848729  7.88281679  6.32938974  6.1753417   5.03667947\n",
      "  0.84760248  4.41097548  8.03651663  3.05062313  0.57755054  5.31677084\n",
      " 12.78147353  6.1045926  13.62376877 -0.96182359  9.10878687 17.47032793\n",
      "  2.24362245 15.81945401 10.76141355  8.35407192  6.96601974  2.40248714\n",
      " 14.01496055  2.63046758  5.05321293 12.58811497 18.20490845  4.01615549\n",
      "  1.90702015  3.10396513  3.12535951 10.45921351]\n",
      "Mean squared error: 30.641730306203918\n",
      "\n",
      "Regresja stopnia 2\n",
      "[ 0.09910315  1.87054424  7.38056674  7.0003952  10.94063607 11.46333133\n",
      "  8.98866925 -0.90493008  1.08596347 -0.28615618 -0.38414561 -0.89535091\n",
      "  0.45494548 -1.01644184  1.25970946 -0.88858051  0.71632331 -0.80441691\n",
      "  9.98851501 -0.42684644 12.21929664  2.60948893  2.6621384  25.01778052\n",
      " -0.55952093 19.00014416  5.47554705  1.6403462   0.1916741  -0.63920525\n",
      " 13.325206   -0.74078945 -0.89061402  9.50540372 27.94909538 -1.03451968\n",
      " -0.36654205 -0.90368726 -0.90951479  4.90200593]\n",
      "Mean squared error: 17.774909891422546\n",
      "\n",
      "Regresja stopnia 3\n",
      "[ 4.68217941  4.09010684  3.84184131  3.5487539   7.23383254  7.82133046\n",
      " -3.91198174  4.1238176   1.40751521  2.05118703  2.14169171  2.88696995\n",
      "  4.65487481  3.31684687  1.37894249  4.15419081  4.59888982  2.69541965\n",
      "  6.21953391  2.18437774  8.70802136  3.5956386   1.41916745 29.27969532\n",
      "  4.50287897 18.40844676  2.52758285  1.34521322  1.72016937  4.44655433\n",
      " 10.08105499  4.35452943  2.87559909  5.73347369 35.24410474  3.58037102\n",
      "  4.59894689  4.12621358  4.1148453   2.21284721]\n",
      "Mean squared error: 0.889575120664871\n",
      "\n",
      "Regresja stopnia 4\n",
      "[ 3.98249851  3.19603123  3.92843448  3.70033089  6.79634564  7.32418676\n",
      " -1.06096184  4.08136035  2.44150027  2.9993112   3.06442273  3.53831155\n",
      "  3.85541884  3.76601945  2.40418639  4.08897115  3.7491213   3.42620139\n",
      "  5.90357166  3.09448099  8.13415667  2.79624015  2.30034076 29.64540676\n",
      "  4.12705397 17.753397    2.94719978  2.34270403  2.74160008  4.13005703\n",
      "  9.416748    4.12514938  3.53183625  5.48502478 36.52789271  3.88778909\n",
      "  4.10261327  4.08197728  4.0790257   2.73364142]\n",
      "Mean squared error: 0.11214681050690482\n",
      "\n",
      "Regresja stopnia 5\n",
      "[ 3.98260135  3.21138144  3.93981327  3.71231894  6.79853883  7.32473501\n",
      " -1.12834099  4.06752584  2.44300596  2.99013057  3.05431432  3.5230809\n",
      "  3.85954994  3.74968165  2.40675517  4.07540341  3.75591148  3.41189652\n",
      "  5.90865238  3.0839615   8.13229882  2.81419721  2.30942438 29.64530756\n",
      "  4.11848201 17.73689603  2.96048659  2.34739418  2.73662364  4.12032441\n",
      "  9.41141774  4.11389656  3.51665328  5.49148584 36.55249383  3.8715012\n",
      "  4.09674841  4.06816315  4.06511584  2.74685416]\n",
      "Mean squared error: 0.11300121289361287\n",
      "\n",
      "Regresja stopnia 25\n",
      "[ 3.91209286  3.35146166  4.02443702  3.78514882  6.79371503  7.29431357\n",
      " -0.46692496  3.99119909  2.49830684  3.11791554  3.17587539  3.56979327\n",
      "  3.83430137  3.75344701  2.44206048  3.995947    3.76731175  3.47880322\n",
      "  5.95059637  3.20212147  8.0694689   2.97297959  2.2133578  29.56542769\n",
      "  4.01013237 17.8640362   2.94535655  2.33895533  2.86712867  4.01463386\n",
      "  9.31888876  4.01506911  3.56454868  5.55403609 36.60274765  3.84989693\n",
      "  3.98994236  3.99158892  3.98971651  2.69201468]\n",
      "Mean squared error: 0.11106983599624068\n",
      "\n"
     ]
    }
   ],
   "source": [
    "for i in [1,2,3,4,5,25]:\n",
    "    model = make_pipeline(PolynomialFeatures(i), linear_model.LinearRegression())\n",
    "    model.fit(X_train, y_train)\n",
    "    print(f\"Regresja stopnia {i}\")\n",
    "    print(model.predict(X_test))\n",
    "    print(\"Mean squared error: {}\".format( metrics.mean_squared_error(y_test, model.predict(X_test)) ))\n",
    "    print()"
   ]
  },
  {
   "cell_type": "code",
   "execution_count": null,
   "metadata": {},
   "outputs": [],
   "source": []
  }
 ],
 "metadata": {
  "kernelspec": {
   "display_name": "Python 3 (ipykernel)",
   "language": "python",
   "name": "python3"
  },
  "language_info": {
   "codemirror_mode": {
    "name": "ipython",
    "version": 3
   },
   "file_extension": ".py",
   "mimetype": "text/x-python",
   "name": "python",
   "nbconvert_exporter": "python",
   "pygments_lexer": "ipython3",
   "version": "3.10.4"
  }
 },
 "nbformat": 4,
 "nbformat_minor": 2
}
