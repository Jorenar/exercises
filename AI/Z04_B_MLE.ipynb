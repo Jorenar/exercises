{
 "cells": [
  {
   "cell_type": "markdown",
   "metadata": {},
   "source": [
    "# Estymatory największej wiarygodności"
   ]
  },
  {
   "cell_type": "code",
   "execution_count": 1,
   "metadata": {},
   "outputs": [],
   "source": [
    "import numpy as np\n",
    "import matplotlib.pyplot as plt\n",
    "from scipy import stats\n",
    "import seaborn as sns\n",
    "from scipy import optimize\n",
    "import math"
   ]
  },
  {
   "cell_type": "markdown",
   "metadata": {},
   "source": [
    "# Zadanie 1\n",
    "Napisz program, który losuje próbkę z rozkładu jednostajnego i rysuje funkcję gęstości rozkładu normalnego z parametrami $\\mu=1$, $\\sigma=1$. "
   ]
  },
  {
   "cell_type": "code",
   "execution_count": 2,
   "metadata": {},
   "outputs": [],
   "source": [
    "N = 100000\n",
    "u=stats.uniform()\n",
    "data = u.rvs(size=N)\n",
    "mu= 0\n",
    "sigma = 1"
   ]
  },
  {
   "cell_type": "code",
   "execution_count": 3,
   "metadata": {},
   "outputs": [
    {
     "data": {
      "image/png": "[encoded data removed]",
      "text/plain": [
       "<Figure size 432x288 with 1 Axes>"
      ]
     },
     "metadata": {
      "needs_background": "light"
     },
     "output_type": "display_data"
    }
   ],
   "source": [
    "t = np.arange(-2, 2, 0.05)\n",
    "num_bins = 50\n",
    "fig, ax = plt.subplots(1, 1)\n",
    "#ax.hist(data, normed=True, histtype='stepfilled', alpha=0.5, label='histogram')\n",
    "#ax.legend(loc='best', frameon=False)\n",
    "ax.plot(t, stats.norm.pdf(t,mu, sigma), 'k-', lw=2, label='a=-1, b=1')\n",
    "ax.legend()\n",
    "plt.show()"
   ]
  },
  {
   "cell_type": "markdown",
   "metadata": {},
   "source": [
    "# Zadanie 2\n",
    "Napisz program, który losuje próbkę z rozkładu jednostajnego i rysuje funkcję gęstości rozkładu normalnego z parametrami \n",
    "\n",
    "<ul>\n",
    "<li>$\\mu=\\frac{1}{n}\\sum_{i=1}^n x_i$</li>\n",
    "<li>$\\sigma^2=\\frac{1}{n} \\sum_{i=1}^n(x_i - \\mu)^2$</li>\n",
    "</ul>"
   ]
  },
  {
   "cell_type": "code",
   "execution_count": 14,
   "metadata": {},
   "outputs": [
    {
     "name": "stdout",
     "output_type": "stream",
     "text": [
      "3.7950426877470336 2.103628356344459\n"
     ]
    }
   ],
   "source": [
    "mu = 1/len(data) * sum(data)\n",
    "sigma = math.sqrt(1/len(data) * sum((data-mu)**2))\n",
    "print(mu, sigma)"
   ]
  },
  {
   "cell_type": "markdown",
   "metadata": {},
   "source": [
    "# Zadanie 3\n",
    "Napisz program, który losuje próbkę z rozkładu jednostajnego i rysuje funkcję gęstości rozkładu normalnego z parametrami otrzymanymi za pomocą funkcji <tt>fit()</tt> ze <tt>scipy.stats</tt>"
   ]
  },
  {
   "cell_type": "code",
   "execution_count": 13,
   "metadata": {},
   "outputs": [
    {
     "name": "stdout",
     "output_type": "stream",
     "text": [
      "3.795042687747036 2.1036283563444593\n"
     ]
    }
   ],
   "source": [
    "mu, sigma = stats.norm.fit(data)\n",
    "print(mu, sigma)"
   ]
  },
  {
   "cell_type": "markdown",
   "metadata": {},
   "source": [
    "# Zadanie 4\n",
    "\n",
    "Wiemy, że funkcja wiarygodnosci ma postać:\n",
    "\n",
    "$$\n",
    "L(X,m,\\sigma)=\\prod_{i=1}^n f_{m,\\sigma} (x_i).\n",
    "$$\n",
    "\n",
    "\n",
    "Zaimplementuj logarytmiczną funkcję wiarygodności  dla rodziny rozkładów normalnych:\n",
    "\n",
    "$$\n",
    "l(X,m,\\sigma)=\\ln\\left( L(X,m,\\sigma) \\right)=\\ln\\left(\\prod_{i=1}^n f_{m,\\sigma} (x_i) \\right)=\\sum_{i=1}^n \\ln(f_{m,\\sigma} (x_i))\n",
    "$$"
   ]
  },
  {
   "cell_type": "code",
   "execution_count": 5,
   "metadata": {},
   "outputs": [],
   "source": [
    "# split normal distribution pdf\n",
    "def Gpdf(x, mu, sigma):\n",
    "    return 1/(sigma * (2*np.pi)**.5) *np.e ** (-(x-mu)**2/(2 * sigma**2))"
   ]
  },
  {
   "cell_type": "code",
   "execution_count": 35,
   "metadata": {},
   "outputs": [],
   "source": [
    "def mle(x):\n",
    "    mu, sigma = x\n",
    "    return -np.sum(np.log(Gpdf(data,mu, np.abs(sigma))))"
   ]
  },
  {
   "cell_type": "markdown",
   "metadata": {},
   "source": [
    "# Zadanie 5\n",
    "Policz MLE dla danych z rozkładu jednostajnego i parametrów:\n",
    "<ul>\n",
    "<li>$\\mu=0$, $\\sigma=1$</li>\n",
    "<li>$\\mu=0$, $\\sigma=2$</li>\n",
    "<li>$\\mu=1$, $\\sigma=1$</li>\n",
    "<li>$\\mu=0.5$, $\\sigma=0.2$</li>\n",
    "</ul>\n",
    "Dla których wartości wychodzi wynik największy i dlaczego?"
   ]
  },
  {
   "cell_type": "code",
   "execution_count": 36,
   "metadata": {},
   "outputs": [
    {
     "name": "stdout",
     "output_type": "stream",
     "text": [
      "5228.366017451564\n",
      "2006.5611510773965\n",
      "3561.074417451564\n",
      "inf\n"
     ]
    },
    {
     "name": "stderr",
     "output_type": "stream",
     "text": [
      "/tmp/ipykernel_290312/3655122714.py:3: RuntimeWarning: divide by zero encountered in log\n",
      "  return -np.sum(np.log(Gpdf(data,mu, np.abs(sigma))))\n"
     ]
    }
   ],
   "source": [
    "print(mle((0,1)))\n",
    "print(mle((0,2)))\n",
    "print(mle((1,1)))\n",
    "print(mle((0.5,0.2)))"
   ]
  },
  {
   "cell_type": "markdown",
   "metadata": {},
   "source": [
    "# Zadanie 6\n",
    "Zapoznaj się z funkcją <tt>optimize.fmin_cg</tt>\n",
    "https://docs.scipy.org/doc/scipy-0.19.0/reference/generated/scipy.optimize.fmin_cg.html\n",
    "i znajdż minimum funkcji\n",
    "\n",
    "$$\n",
    "f(x,y) = (x+1)^2+y^2\n",
    "$$"
   ]
  },
  {
   "cell_type": "code",
   "execution_count": 37,
   "metadata": {},
   "outputs": [
    {
     "name": "stdout",
     "output_type": "stream",
     "text": [
      "Optimization terminated successfully.\n",
      "         Current function value: 0.000000\n",
      "         Iterations: 1\n",
      "         Function evaluations: 9\n",
      "         Gradient evaluations: 3\n",
      "[-1.00000001e+00 -7.45058060e-09]\n"
     ]
    }
   ],
   "source": [
    "def f(x):\n",
    "    x1, x2 = x\n",
    "    return (x1+1)**2+(x2)**2\n",
    "x0 = np.asarray((0, 0))  # Initial guess.\n",
    "res1 = optimize.fmin_cg(f, x0)\n",
    "print(res1)"
   ]
  },
  {
   "cell_type": "markdown",
   "metadata": {},
   "source": [
    "# Zadanie 7\n",
    "Zminimalizuj funkcją wiarygodności z Zad. 5 (numerycznie).\n",
    "\n",
    "Czy wyniki są podobne do wyniików z poprzednich zadań?"
   ]
  },
  {
   "cell_type": "code",
   "execution_count": 59,
   "metadata": {},
   "outputs": [
    {
     "name": "stdout",
     "output_type": "stream",
     "text": [
      "Warning: Desired error not necessarily achieved due to precision loss.\n",
      "         Current function value: 1094.276701\n",
      "         Iterations: 12\n",
      "         Function evaluations: 180\n",
      "         Gradient evaluations: 55\n",
      "[3.79504269 2.10362832]\n"
     ]
    }
   ],
   "source": [
    "x0 = np.asarray((1, 1))  # Initial guess.\n",
    "res1 = optimize.fmin_cg(mle, x0)\n",
    "print(res1)"
   ]
  },
  {
   "cell_type": "markdown",
   "metadata": {},
   "source": [
    "# Zadanie 8 (dla chętnych)\n",
    "Wykonaj poprzednie zadanie wykorzystując pochodne http://faculty.washington.edu/ezivot/econ583/mleLectures.pdf."
   ]
  },
  {
   "cell_type": "code",
   "execution_count": null,
   "metadata": {},
   "outputs": [],
   "source": []
  },
  {
   "cell_type": "markdown",
   "metadata": {},
   "source": [
    "# Zadanie 9\n",
    "Napisz funkcję gęstości rozkładu Split Gaussian:\n",
    "\n",
    "$$\n",
    "SN(x;m,\\sigma^2,\\tau^2) = \\left\\{ \\begin{array}{ll}\n",
    "c \\cdot \\exp[-\\frac{1}{2\\sigma^2}(x-m)^2], & \\textrm{for $x\\leq m$},\\\\\n",
    "c \\cdot \\exp[-\\frac{1}{2\\tau^2\\sigma^2}(x-m)^2], & \\textrm{for $x>m$},\\\\\n",
    "\\end{array} \\right.\n",
    "$$\n",
    "\n",
    "gdzie $c=\\sqrt{\\frac{2}{\\pi}}\\sigma^{-1}(1+\\tau)^{-1}$.\n",
    "\n",
    "Narysuj gęstości dla parametrów:\n",
    "\n",
    "<ul>\n",
    "<li>$\\mu=0$, $\\sigma=1$, $\\tau=1$</li>\n",
    "<li>$\\mu=0$, $\\sigma=1$, $\\tau=1/2$</li>\n",
    "<li>$\\mu=1$, $\\sigma=1/2$, $\\tau=1$</li>\n",
    "</ul>"
   ]
  },
  {
   "cell_type": "code",
   "execution_count": 41,
   "metadata": {},
   "outputs": [],
   "source": [
    "def pdf(x, mu, sigma, tau):\n",
    "    c = np.sqrt(2 / np.pi) * (1 / sigma) * (1 / (1 + tau))\n",
    "    scale = np.where(x <= mu, sigma, sigma * tau)\n",
    "    return c * np.exp(- (x - mu) ** 2 / (2.0 * scale ** 2))"
   ]
  },
  {
   "cell_type": "code",
   "execution_count": 57,
   "metadata": {},
   "outputs": [
    {
     "data": {
      "image/png": "[encoded data removed]",
      "text/plain": [
       "<Figure size 432x288 with 1 Axes>"
      ]
     },
     "metadata": {
      "needs_background": "light"
     },
     "output_type": "display_data"
    }
   ],
   "source": [
    "t = np.arange(-2, 2, 0.05)\n",
    "\n",
    "fig, ax = plt.subplots(1, 1)\n",
    "\n",
    "mu, sigma, tau = 0, 1, 1\n",
    "ax.plot(t, pdf(t, mu, sigma, tau), 'g-', label='mu = 0, sigma = 1, tau = 1')\n",
    "\n",
    " \n",
    "mu, sigma, tau = 0, 1, 0.5\n",
    "ax.plot(t, pdf(t, mu, sigma, tau), 'r-', label='mu = 0, sigma = 1, tau = 0.5')\n",
    "\n",
    "mu, sigma, tau = 0, 0.5, 1\n",
    "ax.plot(t, pdf(t, mu, sigma, tau), 'b-', label='mu = 1, sigma = 0.5, tau = 1')\n",
    "\n",
    "ax.legend()\n",
    "plt.show()"
   ]
  },
  {
   "cell_type": "markdown",
   "metadata": {},
   "source": [
    "# Zadanie 10\n",
    "\n",
    "Wiemy, że funkcja wiarygodnosci ma postać:\n",
    "\n",
    "$$\n",
    "L(X,m,\\sigma,\\tau)=\\prod_{i=1}^n f_{m,\\sigma,\\tau} (x_i).\n",
    "$$\n",
    "\n",
    "Zaimplementuj logarytmiczną funkcję wiarygodności  dla rodziny rozkładów Split Normal:\n",
    "\n",
    "$$\n",
    "l(X,m,\\sigma,\\tau)=\\ln\\left( L(X,m,\\sigma,\\tau) \\right)=\\ln\\left(\\prod_{i=1}^n f_{m,\\sigma,\\tau} (x_i) \\right)=\\sum_{i=1}^n \\ln(f_{m,\\sigma,\\tau} (x_i))\n",
    "$$"
   ]
  },
  {
   "cell_type": "code",
   "execution_count": 60,
   "metadata": {
    "scrolled": false
   },
   "outputs": [
    {
     "name": "stdout",
     "output_type": "stream",
     "text": [
      "Warning: Desired error not necessarily achieved due to precision loss.\n",
      "         Current function value: 984.728630\n",
      "         Iterations: 82\n",
      "         Function evaluations: 880\n",
      "         Gradient evaluations: 217\n",
      "[ 1.44347907  0.15735162 20.53296859]\n"
     ]
    },
    {
     "data": {
      "image/png": "[encoded data removed]",
      "text/plain": [
       "<Figure size 432x288 with 1 Axes>"
      ]
     },
     "metadata": {
      "needs_background": "light"
     },
     "output_type": "display_data"
    }
   ],
   "source": [
    "import math\n",
    "def mle1(x):\n",
    "    mu, sigma, tau = x\n",
    "    return -np.sum(np.log(pdf(data, mu, np.abs(sigma),np.abs(tau))))\n",
    "\n",
    "x0 = np.asarray((1, 1, 1))  # Initial guess.\n",
    "res2 = optimize.fmin_cg(mle1, x0)\n",
    "print(res2)\n",
    "mu1,sigma1,tau1=res2\n",
    "t = np.arange(-2, 2, 0.05)\n",
    "num_bins = 50\n",
    "fig, ax = plt.subplots(1, 1)\n",
    "ax.hist(data, density = True,histtype='stepfilled', alpha=0.5, label='histogram')\n",
    "ax.legend(loc='best', frameon=False)\n",
    "ax.plot(t, stats.norm.pdf(t,mu, sigma), 'r-', lw=2, label='normal ')\n",
    "ax.plot(t, pdf(t,mu1, sigma1,tau1), 'k-', lw=2, label='split normal')\n",
    "ax.legend()\n",
    "plt.show()"
   ]
  },
  {
   "cell_type": "markdown",
   "metadata": {},
   "source": [
    "# Zadanie 11\n",
    "Zminimalizuj funkcją wiarygodności z Zad. 10 (numerycznie)."
   ]
  },
  {
   "cell_type": "code",
   "execution_count": 62,
   "metadata": {},
   "outputs": [
    {
     "name": "stdout",
     "output_type": "stream",
     "text": [
      "Warning: Desired error not necessarily achieved due to precision loss.\n",
      "         Current function value: 984.728630\n",
      "         Iterations: 82\n",
      "         Function evaluations: 880\n",
      "         Gradient evaluations: 217\n",
      "\n",
      "\n",
      "Result: [ 1.44347907  0.15735162 20.53296859]\n"
     ]
    }
   ],
   "source": [
    "x0 = np.asarray((1, 1, 1))  # Initial guess.\n",
    "res = optimize.fmin_cg(mle1, x0)\n",
    "print(\"\\n\\nResult:\", res)"
   ]
  },
  {
   "cell_type": "markdown",
   "metadata": {},
   "source": [
    "# Zadanie 12\n",
    "Zaimportuj dane <tt>datasets</tt> i wyestymuj rozkład normalny i Split Normal dla <tt>boston.data[:,7]</tt>.\n",
    "\n",
    "Rozpocznij procedurę minimalizacji od warunku początkowego:\n",
    "\n",
    "<ul>\n",
    "<li>mu=np.mean(data)</li>\n",
    "<li>sigma=np.std(data)</li>\n",
    "<li>tau=np.std(data)</li>\n",
    "</ul>\n",
    "\n",
    "Który rozkład lepiej pasuje do danych?"
   ]
  },
  {
   "cell_type": "code",
   "execution_count": 27,
   "metadata": {},
   "outputs": [],
   "source": [
    "import warnings\n",
    "warnings.filterwarnings(action='ignore', category=FutureWarning)"
   ]
  },
  {
   "cell_type": "code",
   "execution_count": 28,
   "metadata": {},
   "outputs": [],
   "source": [
    "from sklearn import datasets\n",
    "boston = datasets.load_boston()\n",
    "data=boston.data[:,7]"
   ]
  },
  {
   "cell_type": "code",
   "execution_count": 29,
   "metadata": {},
   "outputs": [
    {
     "name": "stdout",
     "output_type": "stream",
     "text": [
      "Warning: Desired error not necessarily achieved due to precision loss.\n",
      "         Current function value: 984.728630\n",
      "         Iterations: 82\n",
      "         Function evaluations: 880\n",
      "         Gradient evaluations: 217\n",
      "[ 1.44347907  0.15735162 20.53296859]\n"
     ]
    },
    {
     "data": {
      "image/png": "[encoded data removed]",
      "text/plain": [
       "<Figure size 432x288 with 1 Axes>"
      ]
     },
     "metadata": {
      "needs_background": "light"
     },
     "output_type": "display_data"
    }
   ],
   "source": [
    "import math\n",
    "def mle1(x):\n",
    "    mu,sigma, tau= x\n",
    "    return -np.sum(np.log(pdf(data, mu, np.abs(sigma),np.abs(tau))))\n",
    "\n",
    "x0 = np.asarray((1, 1,1))  # Initial guess.\n",
    "res2 = optimize.fmin_cg(mle1, x0)\n",
    "print(res2)\n",
    "mu1,sigma1,tau1=res2\n",
    "t = np.arange(-2, 2, 0.05)\n",
    "num_bins = 50\n",
    "fig, ax = plt.subplots(1, 1)\n",
    "ax.hist(data, density = True,histtype='stepfilled', alpha=0.5, label='histogram')\n",
    "ax.legend(loc='best', frameon=False)\n",
    "ax.plot(t, stats.norm.pdf(t,mu, sigma), 'r-', lw=2, label='normal ')\n",
    "ax.plot(t, pdf(t,mu1, sigma1,tau1), 'k-', lw=2, label='split normal')\n",
    "ax.legend()\n",
    "plt.show()"
   ]
  }
 ],
 "metadata": {
  "kernelspec": {
   "display_name": "Python 3 (ipykernel)",
   "language": "python",
   "name": "python3"
  },
  "language_info": {
   "codemirror_mode": {
    "name": "ipython",
    "version": 3
   },
   "file_extension": ".py",
   "mimetype": "text/x-python",
   "name": "python",
   "nbconvert_exporter": "python",
   "pygments_lexer": "ipython3",
   "version": "3.10.4"
  }
 },
 "nbformat": 4,
 "nbformat_minor": 2
}
