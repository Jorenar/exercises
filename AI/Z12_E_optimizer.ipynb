{
 "cells": [
  {
   "cell_type": "code",
   "execution_count": 1,
   "metadata": {
    "colab": {
     "base_uri": "https://localhost:8080/"
    },
    "id": "4IEjtHDfb-fy",
    "outputId": "43d178d3-a1e6-4e24-9059-4d2968ac86ee"
   },
   "outputs": [
    {
     "name": "stderr",
     "output_type": "stream",
     "text": [
      "2022-05-27 22:58:57.867868: W tensorflow/stream_executor/platform/default/dso_loader.cc:64] Could not load dynamic library 'libcudart.so.11.0'; dlerror: libcudart.so.11.0: cannot open shared object file: No such file or directory\n",
      "2022-05-27 22:58:57.867891: I tensorflow/stream_executor/cuda/cudart_stub.cc:29] Ignore above cudart dlerror if you do not have a GPU set up on your machine.\n"
     ]
    },
    {
     "name": "stdout",
     "output_type": "stream",
     "text": [
      "2.9.1\n",
      "2.9.0\n"
     ]
    }
   ],
   "source": [
    "import numpy as np\n",
    "import tensorflow as tf\n",
    "import tensorflow as tf\n",
    "from tensorflow import keras\n",
    "print(tf.__version__)\n",
    "\n",
    "print(keras.__version__)\n",
    "from numpy.random import seed\n",
    "seed(123)"
   ]
  },
  {
   "cell_type": "markdown",
   "metadata": {
    "id": "MYrsYzfwb-f3"
   },
   "source": [
    "# Zad\n",
    "Porównaj wyniki działań różnych optymalizacji\n",
    "* \n",
    "```python\n",
    "sgd = keras.optimizers.SGD(lr=0.01, decay=1e-6, momentum=0.9, nesterov=False)\n",
    "```\n",
    "* \n",
    "```python\n",
    "sgd = keras.optimizers.SGD(lr=0.01, decay=1e-6, momentum=0.9, nesterov=True)\n",
    "```\n",
    "* \n",
    "```python\n",
    "RMSprop = keras.optimizers.RMSprop(learning_rate=0.001, rho=0.9)\n",
    "```\n",
    "* \n",
    "```python\n",
    "Adagrad = keras.optimizers.Adagrad(learning_rate=0.01)\n",
    "```\n",
    "* \n",
    "```python\n",
    "Adadelta = keras.optimizers.Adadelta(learning_rate=1.0, rho=0.95)\n",
    "```\n",
    "* \n",
    "```python\n",
    "Adam = keras.optimizers.Adam(learning_rate=0.001, beta_1=0.9, beta_2=0.999, amsgrad=False)\n",
    "```\n",
    "* \n",
    "```python\n",
    "Adam = keras.optimizers.Adam(learning_rate=0.0001, beta_1=0.9, beta_2=0.999, amsgrad=False)\n",
    "```\n",
    "\n",
    "https://keras.io/optimizers/"
   ]
  },
  {
   "cell_type": "code",
   "execution_count": 3,
   "metadata": {
    "colab": {
     "base_uri": "https://localhost:8080/",
     "height": 392
    },
    "id": "45byQ4xab-f5",
    "outputId": "7aff85f0-bb29-4f2d-e5e5-19c1c6d92cfe"
   },
   "outputs": [
    {
     "name": "stderr",
     "output_type": "stream",
     "text": [
      "/tmp/ipykernel_1167890/4098396877.py:6: ParserWarning: Falling back to the 'python' engine because the 'c' engine does not support regex separators (separators > 1 char and different from '\\s+' are interpreted as regex); you can avoid this warning by specifying engine='python'.\n",
      "  train_set = pd.read_csv('data/adult/adult.data', sep=\", \",header = None)\n",
      "/tmp/ipykernel_1167890/4098396877.py:7: ParserWarning: Falling back to the 'python' engine because the 'c' engine does not support regex separators (separators > 1 char and different from '\\s+' are interpreted as regex); you can avoid this warning by specifying engine='python'.\n",
      "  test_set = pd.read_csv('data/adult/adult.test', sep=\", \",skiprows = 1, header = None) # Make sure to skip a row for the test set\n"
     ]
    },
    {
     "data": {
      "text/html": [
       "<div>\n",
       "<style scoped>\n",
       "    .dataframe tbody tr th:only-of-type {\n",
       "        vertical-align: middle;\n",
       "    }\n",
       "\n",
       "    .dataframe tbody tr th {\n",
       "        vertical-align: top;\n",
       "    }\n",
       "\n",
       "    .dataframe thead th {\n",
       "        text-align: right;\n",
       "    }\n",
       "</style>\n",
       "<table border=\"1\" class=\"dataframe\">\n",
       "  <thead>\n",
       "    <tr style=\"text-align: right;\">\n",
       "      <th></th>\n",
       "      <th>age</th>\n",
       "      <th>workclass</th>\n",
       "      <th>fnlwgt</th>\n",
       "      <th>education</th>\n",
       "      <th>education_num</th>\n",
       "      <th>marital_status</th>\n",
       "      <th>occupation</th>\n",
       "      <th>relationship</th>\n",
       "      <th>race</th>\n",
       "      <th>sex</th>\n",
       "      <th>capital_gain</th>\n",
       "      <th>capital_loss</th>\n",
       "      <th>hours_per_week</th>\n",
       "      <th>native_country</th>\n",
       "      <th>wage_class</th>\n",
       "    </tr>\n",
       "  </thead>\n",
       "  <tbody>\n",
       "    <tr>\n",
       "      <th>0</th>\n",
       "      <td>39</td>\n",
       "      <td>State-gov</td>\n",
       "      <td>77516</td>\n",
       "      <td>Bachelors</td>\n",
       "      <td>13</td>\n",
       "      <td>Never-married</td>\n",
       "      <td>Adm-clerical</td>\n",
       "      <td>Not-in-family</td>\n",
       "      <td>White</td>\n",
       "      <td>Male</td>\n",
       "      <td>2174</td>\n",
       "      <td>0</td>\n",
       "      <td>40</td>\n",
       "      <td>United-States</td>\n",
       "      <td>&lt;=50K</td>\n",
       "    </tr>\n",
       "    <tr>\n",
       "      <th>1</th>\n",
       "      <td>50</td>\n",
       "      <td>Self-emp-not-inc</td>\n",
       "      <td>83311</td>\n",
       "      <td>Bachelors</td>\n",
       "      <td>13</td>\n",
       "      <td>Married-civ-spouse</td>\n",
       "      <td>Exec-managerial</td>\n",
       "      <td>Husband</td>\n",
       "      <td>White</td>\n",
       "      <td>Male</td>\n",
       "      <td>0</td>\n",
       "      <td>0</td>\n",
       "      <td>13</td>\n",
       "      <td>United-States</td>\n",
       "      <td>&lt;=50K</td>\n",
       "    </tr>\n",
       "    <tr>\n",
       "      <th>2</th>\n",
       "      <td>38</td>\n",
       "      <td>Private</td>\n",
       "      <td>215646</td>\n",
       "      <td>HS-grad</td>\n",
       "      <td>9</td>\n",
       "      <td>Divorced</td>\n",
       "      <td>Handlers-cleaners</td>\n",
       "      <td>Not-in-family</td>\n",
       "      <td>White</td>\n",
       "      <td>Male</td>\n",
       "      <td>0</td>\n",
       "      <td>0</td>\n",
       "      <td>40</td>\n",
       "      <td>United-States</td>\n",
       "      <td>&lt;=50K</td>\n",
       "    </tr>\n",
       "    <tr>\n",
       "      <th>3</th>\n",
       "      <td>53</td>\n",
       "      <td>Private</td>\n",
       "      <td>234721</td>\n",
       "      <td>11th</td>\n",
       "      <td>7</td>\n",
       "      <td>Married-civ-spouse</td>\n",
       "      <td>Handlers-cleaners</td>\n",
       "      <td>Husband</td>\n",
       "      <td>Black</td>\n",
       "      <td>Male</td>\n",
       "      <td>0</td>\n",
       "      <td>0</td>\n",
       "      <td>40</td>\n",
       "      <td>United-States</td>\n",
       "      <td>&lt;=50K</td>\n",
       "    </tr>\n",
       "    <tr>\n",
       "      <th>4</th>\n",
       "      <td>28</td>\n",
       "      <td>Private</td>\n",
       "      <td>338409</td>\n",
       "      <td>Bachelors</td>\n",
       "      <td>13</td>\n",
       "      <td>Married-civ-spouse</td>\n",
       "      <td>Prof-specialty</td>\n",
       "      <td>Wife</td>\n",
       "      <td>Black</td>\n",
       "      <td>Female</td>\n",
       "      <td>0</td>\n",
       "      <td>0</td>\n",
       "      <td>40</td>\n",
       "      <td>Cuba</td>\n",
       "      <td>&lt;=50K</td>\n",
       "    </tr>\n",
       "  </tbody>\n",
       "</table>\n",
       "</div>"
      ],
      "text/plain": [
       "   age         workclass  fnlwgt  education  education_num  \\\n",
       "0   39         State-gov   77516  Bachelors             13   \n",
       "1   50  Self-emp-not-inc   83311  Bachelors             13   \n",
       "2   38           Private  215646    HS-grad              9   \n",
       "3   53           Private  234721       11th              7   \n",
       "4   28           Private  338409  Bachelors             13   \n",
       "\n",
       "       marital_status         occupation   relationship   race     sex  \\\n",
       "0       Never-married       Adm-clerical  Not-in-family  White    Male   \n",
       "1  Married-civ-spouse    Exec-managerial        Husband  White    Male   \n",
       "2            Divorced  Handlers-cleaners  Not-in-family  White    Male   \n",
       "3  Married-civ-spouse  Handlers-cleaners        Husband  Black    Male   \n",
       "4  Married-civ-spouse     Prof-specialty           Wife  Black  Female   \n",
       "\n",
       "   capital_gain  capital_loss  hours_per_week native_country wage_class  \n",
       "0          2174             0              40  United-States      <=50K  \n",
       "1             0             0              13  United-States      <=50K  \n",
       "2             0             0              40  United-States      <=50K  \n",
       "3             0             0              40  United-States      <=50K  \n",
       "4             0             0              40           Cuba      <=50K  "
      ]
     },
     "execution_count": 3,
     "metadata": {},
     "output_type": "execute_result"
    }
   ],
   "source": [
    "# Wczytaj dane treningowe i testowe\n",
    "import numpy as np\n",
    "import matplotlib.pyplot as plt\n",
    "import pandas as pd\n",
    "\n",
    "train_set = pd.read_csv('data/adult/adult.data', sep=\", \",header = None)\n",
    "test_set = pd.read_csv('data/adult/adult.test', sep=\", \",skiprows = 1, header = None) # Make sure to skip a row for the test set\n",
    "\n",
    "col_labels = ['age', 'workclass', 'fnlwgt', 'education', 'education_num', 'marital_status', 'occupation', \n",
    "              'relationship', 'race', 'sex', 'capital_gain', 'capital_loss', 'hours_per_week', 'native_country',\n",
    "             'wage_class']\n",
    "train_set.columns = col_labels\n",
    "test_set.columns = col_labels\n",
    "\n",
    "train = train_set.replace('?', np.nan).dropna()\n",
    "test = test_set.replace('?', np.nan).dropna()\n",
    "\n",
    "train_set.head()\n"
   ]
  },
  {
   "cell_type": "code",
   "execution_count": 4,
   "metadata": {
    "colab": {
     "base_uri": "https://localhost:8080/"
    },
    "id": "VNBX7ffwb-f7",
    "outputId": "90af75ee-8c72-461d-a6ef-340ed22dfeb3"
   },
   "outputs": [
    {
     "name": "stdout",
     "output_type": "stream",
     "text": [
      "(30162, 41)\n",
      "(15060, 41)\n"
     ]
    }
   ],
   "source": [
    "dataset = pd.concat([train,test])\n",
    "\n",
    "dataset['wage_class'] = dataset.wage_class.replace({'<=50K.': 0,'<=50K':0, '>50K.':1, '>50K':1})\n",
    "\n",
    "dataset.drop([\"fnlwgt\"],axis=1,inplace=True)\n",
    "\n",
    "dataset.drop([\"education\"],axis=1,inplace=True)\n",
    "\n",
    "x = dataset.groupby('native_country')[\"wage_class\"].mean()\n",
    "\n",
    "d = dict(pd.cut(x[x.index!=\" United-States\"],5,labels=range(5)))\n",
    "\n",
    "dataset['native_country'] = dataset['native_country'].replace(d)\n",
    "\n",
    "dataset = pd.get_dummies(dataset,drop_first=True)\n",
    "\n",
    "train = dataset.iloc[:train.shape[0]]\n",
    "test = dataset.iloc[train.shape[0]:]\n",
    "\n",
    "X_train = train.drop(\"wage_class\",axis=1)\n",
    "y_train = train.wage_class\n",
    "\n",
    "X_test = test.drop(\"wage_class\",axis=1)\n",
    "y_test = test.wage_class\n",
    "\n",
    "from sklearn.preprocessing import StandardScaler\n",
    "sc = StandardScaler()\n",
    "X_train = sc.fit_transform(X_train)\n",
    "X_test = sc.transform(X_test)\n",
    "\n",
    "print(X_train.shape)\n",
    "print(X_test.shape)"
   ]
  },
  {
   "cell_type": "markdown",
   "metadata": {
    "id": "Y9Gkz3Jbb-f7"
   },
   "source": [
    "# SGD"
   ]
  },
  {
   "cell_type": "code",
   "execution_count": 5,
   "metadata": {
    "colab": {
     "base_uri": "https://localhost:8080/"
    },
    "id": "hnxdeQdzb-f8",
    "outputId": "df0eaabf-2154-4837-c78f-bcebed80aaa7"
   },
   "outputs": [
    {
     "name": "stdout",
     "output_type": "stream",
     "text": [
      "Model: \"sequential\"\n",
      "_________________________________________________________________\n",
      " Layer (type)                Output Shape              Param #   \n",
      "=================================================================\n",
      " dense (Dense)               (None, 100)               4200      \n",
      "                                                                 \n",
      " dense_1 (Dense)             (None, 50)                5050      \n",
      "                                                                 \n",
      " dense_2 (Dense)             (None, 10)                510       \n",
      "                                                                 \n",
      " dense_3 (Dense)             (None, 1)                 11        \n",
      "                                                                 \n",
      "=================================================================\n",
      "Total params: 9,771\n",
      "Trainable params: 9,771\n",
      "Non-trainable params: 0\n",
      "_________________________________________________________________\n"
     ]
    }
   ],
   "source": [
    "from keras.models import Sequential\n",
    "from keras.layers import Dense\n",
    "\n",
    "from keras.callbacks import History\n",
    "\n",
    "history_sgd = History()\n",
    "model = Sequential()\n",
    "model.add(Dense(100,activation=\"sigmoid\",input_shape=(X_train.shape[1],)))\n",
    "model.add(Dense(50,activation=\"sigmoid\"))\n",
    "model.add(Dense(10,activation=\"sigmoid\"))\n",
    "model.add(Dense(1,activation=\"sigmoid\"))\n",
    "model.summary()"
   ]
  },
  {
   "cell_type": "code",
   "execution_count": 6,
   "metadata": {
    "colab": {
     "base_uri": "https://localhost:8080/"
    },
    "id": "DWlpOe5Mb-f9",
    "outputId": "d82b7a02-508b-47a1-bdbf-5761950862b0"
   },
   "outputs": [
    {
     "name": "stderr",
     "output_type": "stream",
     "text": [
      "/usr/local/lib/python3.7/dist-packages/keras/optimizer_v2/gradient_descent.py:102: UserWarning: The `lr` argument is deprecated, use `learning_rate` instead.\n",
      "  super(SGD, self).__init__(name, **kwargs)\n"
     ]
    }
   ],
   "source": [
    "sgd = keras.optimizers.SGD(lr=0.01, decay=1e-6, momentum=0.9, nesterov=True)\n",
    "model.compile(loss=\"binary_crossentropy\",optimizer=sgd, metrics=[\"accuracy\"])"
   ]
  },
  {
   "cell_type": "code",
   "execution_count": 7,
   "metadata": {
    "colab": {
     "base_uri": "https://localhost:8080/"
    },
    "id": "x_Ll3BtHb-f9",
    "outputId": "20112760-4140-4426-e9a8-21866262afb2"
   },
   "outputs": [
    {
     "name": "stdout",
     "output_type": "stream",
     "text": [
      "Epoch 1/100\n",
      "498/498 [==============================] - 5s 7ms/step - loss: 0.5531 - accuracy: 0.7531 - val_loss: 0.5351 - val_accuracy: 0.7543\n",
      "Epoch 2/100\n",
      "498/498 [==============================] - 1s 3ms/step - loss: 0.4690 - accuracy: 0.7669 - val_loss: 0.3799 - val_accuracy: 0.8282\n",
      "Epoch 3/100\n",
      "498/498 [==============================] - 1s 3ms/step - loss: 0.3593 - accuracy: 0.8331 - val_loss: 0.3461 - val_accuracy: 0.8399\n",
      "Epoch 4/100\n",
      "498/498 [==============================] - 1s 3ms/step - loss: 0.3461 - accuracy: 0.8376 - val_loss: 0.3400 - val_accuracy: 0.8420\n",
      "Epoch 5/100\n",
      "498/498 [==============================] - 1s 3ms/step - loss: 0.3410 - accuracy: 0.8391 - val_loss: 0.3376 - val_accuracy: 0.8428\n",
      "Epoch 6/100\n",
      "498/498 [==============================] - 1s 3ms/step - loss: 0.3382 - accuracy: 0.8428 - val_loss: 0.3385 - val_accuracy: 0.8394\n",
      "Epoch 7/100\n",
      "498/498 [==============================] - 1s 3ms/step - loss: 0.3356 - accuracy: 0.8414 - val_loss: 0.3355 - val_accuracy: 0.8414\n",
      "Epoch 8/100\n",
      "498/498 [==============================] - 1s 3ms/step - loss: 0.3342 - accuracy: 0.8452 - val_loss: 0.3309 - val_accuracy: 0.8457\n",
      "Epoch 9/100\n",
      "498/498 [==============================] - 1s 3ms/step - loss: 0.3321 - accuracy: 0.8451 - val_loss: 0.3303 - val_accuracy: 0.8456\n",
      "Epoch 10/100\n",
      "498/498 [==============================] - 2s 3ms/step - loss: 0.3321 - accuracy: 0.8449 - val_loss: 0.3319 - val_accuracy: 0.8458\n",
      "Epoch 11/100\n",
      "498/498 [==============================] - 1s 3ms/step - loss: 0.3309 - accuracy: 0.8449 - val_loss: 0.3296 - val_accuracy: 0.8456\n",
      "Epoch 12/100\n",
      "498/498 [==============================] - 1s 3ms/step - loss: 0.3304 - accuracy: 0.8446 - val_loss: 0.3330 - val_accuracy: 0.8459\n",
      "Epoch 13/100\n",
      "498/498 [==============================] - 1s 3ms/step - loss: 0.3287 - accuracy: 0.8468 - val_loss: 0.3288 - val_accuracy: 0.8458\n",
      "Epoch 14/100\n",
      "498/498 [==============================] - 1s 3ms/step - loss: 0.3291 - accuracy: 0.8451 - val_loss: 0.3327 - val_accuracy: 0.8425\n",
      "Epoch 15/100\n",
      "498/498 [==============================] - 3s 6ms/step - loss: 0.3285 - accuracy: 0.8459 - val_loss: 0.3277 - val_accuracy: 0.8468\n",
      "Epoch 16/100\n",
      "498/498 [==============================] - 2s 5ms/step - loss: 0.3280 - accuracy: 0.8466 - val_loss: 0.3349 - val_accuracy: 0.8435\n",
      "Epoch 17/100\n",
      "498/498 [==============================] - 2s 4ms/step - loss: 0.3271 - accuracy: 0.8461 - val_loss: 0.3278 - val_accuracy: 0.8463\n",
      "Epoch 18/100\n",
      "498/498 [==============================] - 1s 3ms/step - loss: 0.3268 - accuracy: 0.8477 - val_loss: 0.3294 - val_accuracy: 0.8447\n",
      "Epoch 19/100\n",
      "498/498 [==============================] - 3s 6ms/step - loss: 0.3261 - accuracy: 0.8481 - val_loss: 0.3256 - val_accuracy: 0.8479\n",
      "Epoch 20/100\n",
      "498/498 [==============================] - 3s 6ms/step - loss: 0.3251 - accuracy: 0.8479 - val_loss: 0.3260 - val_accuracy: 0.8472\n",
      "Epoch 21/100\n",
      "498/498 [==============================] - 3s 6ms/step - loss: 0.3243 - accuracy: 0.8471 - val_loss: 0.3256 - val_accuracy: 0.8464\n",
      "Epoch 22/100\n",
      "498/498 [==============================] - 3s 7ms/step - loss: 0.3241 - accuracy: 0.8495 - val_loss: 0.3309 - val_accuracy: 0.8442\n",
      "Epoch 23/100\n",
      "498/498 [==============================] - 3s 5ms/step - loss: 0.3242 - accuracy: 0.8501 - val_loss: 0.3267 - val_accuracy: 0.8477\n",
      "Epoch 24/100\n",
      "498/498 [==============================] - 3s 7ms/step - loss: 0.3235 - accuracy: 0.8474 - val_loss: 0.3256 - val_accuracy: 0.8465\n",
      "Epoch 25/100\n",
      "498/498 [==============================] - 3s 6ms/step - loss: 0.3227 - accuracy: 0.8495 - val_loss: 0.3343 - val_accuracy: 0.8403\n",
      "Epoch 26/100\n",
      "498/498 [==============================] - 1s 3ms/step - loss: 0.3228 - accuracy: 0.8492 - val_loss: 0.3250 - val_accuracy: 0.8471\n",
      "Epoch 27/100\n",
      "498/498 [==============================] - 1s 3ms/step - loss: 0.3215 - accuracy: 0.8486 - val_loss: 0.3236 - val_accuracy: 0.8475\n",
      "Epoch 28/100\n",
      "498/498 [==============================] - 1s 3ms/step - loss: 0.3211 - accuracy: 0.8489 - val_loss: 0.3241 - val_accuracy: 0.8473\n",
      "Epoch 29/100\n",
      "498/498 [==============================] - 1s 3ms/step - loss: 0.3208 - accuracy: 0.8492 - val_loss: 0.3237 - val_accuracy: 0.8473\n",
      "Epoch 30/100\n",
      "498/498 [==============================] - 1s 3ms/step - loss: 0.3198 - accuracy: 0.8505 - val_loss: 0.3229 - val_accuracy: 0.8479\n",
      "Epoch 31/100\n",
      "498/498 [==============================] - 1s 3ms/step - loss: 0.3188 - accuracy: 0.8510 - val_loss: 0.3248 - val_accuracy: 0.8479\n",
      "Epoch 32/100\n",
      "498/498 [==============================] - 1s 3ms/step - loss: 0.3188 - accuracy: 0.8492 - val_loss: 0.3223 - val_accuracy: 0.8487\n",
      "Epoch 33/100\n",
      "498/498 [==============================] - 2s 4ms/step - loss: 0.3183 - accuracy: 0.8517 - val_loss: 0.3226 - val_accuracy: 0.8483\n",
      "Epoch 34/100\n",
      "498/498 [==============================] - 3s 5ms/step - loss: 0.3181 - accuracy: 0.8517 - val_loss: 0.3246 - val_accuracy: 0.8481\n",
      "Epoch 35/100\n",
      "498/498 [==============================] - 1s 3ms/step - loss: 0.3170 - accuracy: 0.8511 - val_loss: 0.3225 - val_accuracy: 0.8483\n",
      "Epoch 36/100\n",
      "498/498 [==============================] - 1s 3ms/step - loss: 0.3170 - accuracy: 0.8523 - val_loss: 0.3269 - val_accuracy: 0.8474\n",
      "Epoch 37/100\n",
      "498/498 [==============================] - 1s 3ms/step - loss: 0.3159 - accuracy: 0.8517 - val_loss: 0.3278 - val_accuracy: 0.8481\n",
      "Epoch 38/100\n",
      "498/498 [==============================] - 1s 3ms/step - loss: 0.3153 - accuracy: 0.8524 - val_loss: 0.3266 - val_accuracy: 0.8475\n",
      "Epoch 39/100\n",
      "498/498 [==============================] - 1s 3ms/step - loss: 0.3152 - accuracy: 0.8513 - val_loss: 0.3293 - val_accuracy: 0.8465\n",
      "Epoch 40/100\n",
      "498/498 [==============================] - 1s 3ms/step - loss: 0.3146 - accuracy: 0.8532 - val_loss: 0.3245 - val_accuracy: 0.8478\n",
      "Epoch 41/100\n",
      "498/498 [==============================] - 1s 3ms/step - loss: 0.3144 - accuracy: 0.8525 - val_loss: 0.3229 - val_accuracy: 0.8491\n",
      "Epoch 42/100\n",
      "498/498 [==============================] - 1s 3ms/step - loss: 0.3138 - accuracy: 0.8523 - val_loss: 0.3213 - val_accuracy: 0.8502\n",
      "Epoch 43/100\n",
      "498/498 [==============================] - 1s 3ms/step - loss: 0.3132 - accuracy: 0.8527 - val_loss: 0.3207 - val_accuracy: 0.8494\n",
      "Epoch 44/100\n",
      "498/498 [==============================] - 1s 3ms/step - loss: 0.3128 - accuracy: 0.8520 - val_loss: 0.3337 - val_accuracy: 0.8430\n",
      "Epoch 45/100\n",
      "498/498 [==============================] - 1s 3ms/step - loss: 0.3135 - accuracy: 0.8542 - val_loss: 0.3294 - val_accuracy: 0.8465\n",
      "Epoch 46/100\n",
      "498/498 [==============================] - 1s 3ms/step - loss: 0.3126 - accuracy: 0.8559 - val_loss: 0.3232 - val_accuracy: 0.8495\n",
      "Epoch 47/100\n",
      "498/498 [==============================] - 1s 3ms/step - loss: 0.3124 - accuracy: 0.8541 - val_loss: 0.3224 - val_accuracy: 0.8488\n",
      "Epoch 48/100\n",
      "498/498 [==============================] - 1s 3ms/step - loss: 0.3124 - accuracy: 0.8522 - val_loss: 0.3293 - val_accuracy: 0.8473\n",
      "Epoch 49/100\n",
      "498/498 [==============================] - 1s 3ms/step - loss: 0.3122 - accuracy: 0.8552 - val_loss: 0.3215 - val_accuracy: 0.8499\n",
      "Epoch 50/100\n",
      "498/498 [==============================] - 1s 3ms/step - loss: 0.3111 - accuracy: 0.8541 - val_loss: 0.3236 - val_accuracy: 0.8502\n",
      "Epoch 51/100\n",
      "498/498 [==============================] - 1s 3ms/step - loss: 0.3112 - accuracy: 0.8542 - val_loss: 0.3236 - val_accuracy: 0.8481\n",
      "Epoch 52/100\n",
      "498/498 [==============================] - 1s 3ms/step - loss: 0.3112 - accuracy: 0.8540 - val_loss: 0.3217 - val_accuracy: 0.8501\n",
      "Epoch 53/100\n",
      "498/498 [==============================] - 1s 3ms/step - loss: 0.3100 - accuracy: 0.8561 - val_loss: 0.3216 - val_accuracy: 0.8501\n",
      "Epoch 54/100\n",
      "498/498 [==============================] - 2s 5ms/step - loss: 0.3092 - accuracy: 0.8559 - val_loss: 0.3232 - val_accuracy: 0.8497\n",
      "Epoch 55/100\n",
      "498/498 [==============================] - 1s 3ms/step - loss: 0.3102 - accuracy: 0.8551 - val_loss: 0.3218 - val_accuracy: 0.8510\n",
      "Epoch 56/100\n",
      "498/498 [==============================] - 1s 2ms/step - loss: 0.3093 - accuracy: 0.8539 - val_loss: 0.3214 - val_accuracy: 0.8493\n",
      "Epoch 57/100\n",
      "498/498 [==============================] - 1s 3ms/step - loss: 0.3096 - accuracy: 0.8540 - val_loss: 0.3211 - val_accuracy: 0.8502\n",
      "Epoch 58/100\n",
      "498/498 [==============================] - 3s 5ms/step - loss: 0.3079 - accuracy: 0.8554 - val_loss: 0.3282 - val_accuracy: 0.8474\n",
      "Epoch 59/100\n",
      "498/498 [==============================] - 3s 6ms/step - loss: 0.3078 - accuracy: 0.8558 - val_loss: 0.3250 - val_accuracy: 0.8482\n",
      "Epoch 60/100\n",
      "498/498 [==============================] - 3s 5ms/step - loss: 0.3082 - accuracy: 0.8549 - val_loss: 0.3223 - val_accuracy: 0.8497\n",
      "Epoch 61/100\n",
      "498/498 [==============================] - 3s 7ms/step - loss: 0.3074 - accuracy: 0.8570 - val_loss: 0.3230 - val_accuracy: 0.8487\n",
      "Epoch 62/100\n",
      "498/498 [==============================] - 3s 7ms/step - loss: 0.3071 - accuracy: 0.8558 - val_loss: 0.3246 - val_accuracy: 0.8479\n",
      "Epoch 63/100\n",
      "498/498 [==============================] - 3s 6ms/step - loss: 0.3070 - accuracy: 0.8577 - val_loss: 0.3234 - val_accuracy: 0.8480\n",
      "Epoch 64/100\n",
      "498/498 [==============================] - 1s 3ms/step - loss: 0.3063 - accuracy: 0.8574 - val_loss: 0.3223 - val_accuracy: 0.8510\n",
      "Epoch 65/100\n",
      "498/498 [==============================] - 1s 3ms/step - loss: 0.3060 - accuracy: 0.8577 - val_loss: 0.3259 - val_accuracy: 0.8467\n",
      "Epoch 66/100\n",
      "498/498 [==============================] - 1s 3ms/step - loss: 0.3063 - accuracy: 0.8571 - val_loss: 0.3238 - val_accuracy: 0.8495\n",
      "Epoch 67/100\n",
      "498/498 [==============================] - 1s 3ms/step - loss: 0.3055 - accuracy: 0.8583 - val_loss: 0.3227 - val_accuracy: 0.8502\n",
      "Epoch 68/100\n",
      "498/498 [==============================] - 2s 3ms/step - loss: 0.3056 - accuracy: 0.8570 - val_loss: 0.3334 - val_accuracy: 0.8414\n",
      "Epoch 69/100\n",
      "498/498 [==============================] - 2s 4ms/step - loss: 0.3054 - accuracy: 0.8579 - val_loss: 0.3242 - val_accuracy: 0.8504\n",
      "Epoch 70/100\n",
      "498/498 [==============================] - 2s 5ms/step - loss: 0.3047 - accuracy: 0.8574 - val_loss: 0.3303 - val_accuracy: 0.8429\n",
      "Epoch 71/100\n",
      "498/498 [==============================] - 2s 4ms/step - loss: 0.3045 - accuracy: 0.8567 - val_loss: 0.3237 - val_accuracy: 0.8497\n",
      "Epoch 72/100\n",
      "498/498 [==============================] - 3s 6ms/step - loss: 0.3034 - accuracy: 0.8577 - val_loss: 0.3262 - val_accuracy: 0.8487\n",
      "Epoch 73/100\n",
      "498/498 [==============================] - 2s 3ms/step - loss: 0.3042 - accuracy: 0.8577 - val_loss: 0.3244 - val_accuracy: 0.8483\n",
      "Epoch 74/100\n",
      "498/498 [==============================] - 1s 3ms/step - loss: 0.3027 - accuracy: 0.8564 - val_loss: 0.3316 - val_accuracy: 0.8449\n",
      "Epoch 75/100\n",
      "498/498 [==============================] - 1s 3ms/step - loss: 0.3036 - accuracy: 0.8586 - val_loss: 0.3237 - val_accuracy: 0.8501\n",
      "Epoch 76/100\n",
      "498/498 [==============================] - 1s 3ms/step - loss: 0.3019 - accuracy: 0.8591 - val_loss: 0.3266 - val_accuracy: 0.8465\n",
      "Epoch 77/100\n",
      "498/498 [==============================] - 3s 7ms/step - loss: 0.3027 - accuracy: 0.8581 - val_loss: 0.3236 - val_accuracy: 0.8503\n",
      "Epoch 78/100\n",
      "498/498 [==============================] - 2s 4ms/step - loss: 0.3016 - accuracy: 0.8591 - val_loss: 0.3270 - val_accuracy: 0.8495\n",
      "Epoch 79/100\n",
      "498/498 [==============================] - 2s 4ms/step - loss: 0.3015 - accuracy: 0.8586 - val_loss: 0.3255 - val_accuracy: 0.8503\n",
      "Epoch 80/100\n",
      "498/498 [==============================] - 3s 6ms/step - loss: 0.3014 - accuracy: 0.8584 - val_loss: 0.3266 - val_accuracy: 0.8485\n",
      "Epoch 81/100\n",
      "498/498 [==============================] - 2s 4ms/step - loss: 0.3019 - accuracy: 0.8591 - val_loss: 0.3265 - val_accuracy: 0.8461\n",
      "Epoch 82/100\n",
      "498/498 [==============================] - 1s 3ms/step - loss: 0.3006 - accuracy: 0.8591 - val_loss: 0.3254 - val_accuracy: 0.8503\n",
      "Epoch 83/100\n",
      "498/498 [==============================] - 1s 3ms/step - loss: 0.3009 - accuracy: 0.8593 - val_loss: 0.3312 - val_accuracy: 0.8481\n",
      "Epoch 84/100\n",
      "498/498 [==============================] - 1s 3ms/step - loss: 0.2996 - accuracy: 0.8606 - val_loss: 0.3253 - val_accuracy: 0.8495\n",
      "Epoch 85/100\n",
      "498/498 [==============================] - 1s 3ms/step - loss: 0.2997 - accuracy: 0.8594 - val_loss: 0.3263 - val_accuracy: 0.8501\n",
      "Epoch 86/100\n",
      "498/498 [==============================] - 1s 3ms/step - loss: 0.2998 - accuracy: 0.8597 - val_loss: 0.3286 - val_accuracy: 0.8481\n",
      "Epoch 87/100\n",
      "498/498 [==============================] - 1s 3ms/step - loss: 0.2992 - accuracy: 0.8593 - val_loss: 0.3282 - val_accuracy: 0.8467\n",
      "Epoch 88/100\n",
      "498/498 [==============================] - 1s 3ms/step - loss: 0.2987 - accuracy: 0.8581 - val_loss: 0.3269 - val_accuracy: 0.8477\n",
      "Epoch 89/100\n",
      "498/498 [==============================] - 1s 3ms/step - loss: 0.2986 - accuracy: 0.8599 - val_loss: 0.3286 - val_accuracy: 0.8477\n",
      "Epoch 90/100\n",
      "498/498 [==============================] - 1s 3ms/step - loss: 0.2981 - accuracy: 0.8609 - val_loss: 0.3300 - val_accuracy: 0.8473\n",
      "Epoch 91/100\n",
      "498/498 [==============================] - 1s 3ms/step - loss: 0.2980 - accuracy: 0.8590 - val_loss: 0.3272 - val_accuracy: 0.8495\n",
      "Epoch 92/100\n",
      "498/498 [==============================] - 1s 3ms/step - loss: 0.2969 - accuracy: 0.8598 - val_loss: 0.3296 - val_accuracy: 0.8484\n",
      "Epoch 93/100\n",
      "498/498 [==============================] - 1s 3ms/step - loss: 0.2971 - accuracy: 0.8585 - val_loss: 0.3284 - val_accuracy: 0.8487\n",
      "Epoch 94/100\n",
      "498/498 [==============================] - 1s 3ms/step - loss: 0.2972 - accuracy: 0.8612 - val_loss: 0.3299 - val_accuracy: 0.8469\n",
      "Epoch 95/100\n",
      "498/498 [==============================] - 1s 3ms/step - loss: 0.2965 - accuracy: 0.8615 - val_loss: 0.3290 - val_accuracy: 0.8487\n",
      "Epoch 96/100\n",
      "498/498 [==============================] - 1s 3ms/step - loss: 0.2954 - accuracy: 0.8600 - val_loss: 0.3307 - val_accuracy: 0.8456\n",
      "Epoch 97/100\n",
      "498/498 [==============================] - 1s 3ms/step - loss: 0.2959 - accuracy: 0.8603 - val_loss: 0.3315 - val_accuracy: 0.8459\n",
      "Epoch 98/100\n",
      "498/498 [==============================] - 1s 3ms/step - loss: 0.2953 - accuracy: 0.8611 - val_loss: 0.3289 - val_accuracy: 0.8502\n",
      "Epoch 99/100\n",
      "498/498 [==============================] - 1s 3ms/step - loss: 0.2943 - accuracy: 0.8622 - val_loss: 0.3297 - val_accuracy: 0.8504\n",
      "Epoch 100/100\n",
      "498/498 [==============================] - 1s 3ms/step - loss: 0.2950 - accuracy: 0.8606 - val_loss: 0.3301 - val_accuracy: 0.8475\n"
     ]
    },
    {
     "data": {
      "text/plain": [
       "<keras.callbacks.History at 0x7f27eb050f10>"
      ]
     },
     "execution_count": 7,
     "metadata": {},
     "output_type": "execute_result"
    }
   ],
   "source": [
    "model.fit(X_train, y_train, validation_data= (X_test, y_test), batch_size=32,epochs=100, callbacks=[history_sgd])"
   ]
  },
  {
   "cell_type": "code",
   "execution_count": 8,
   "metadata": {
    "colab": {
     "base_uri": "https://localhost:8080/"
    },
    "id": "WF4EHmNgb-f-",
    "outputId": "33b0effc-5243-4979-83f2-b641e317bcbf"
   },
   "outputs": [
    {
     "data": {
      "text/plain": [
       "dict_keys(['loss', 'accuracy', 'val_loss', 'val_accuracy'])"
      ]
     },
     "execution_count": 8,
     "metadata": {},
     "output_type": "execute_result"
    }
   ],
   "source": [
    "history_sgd.history.keys()"
   ]
  },
  {
   "cell_type": "code",
   "execution_count": 9,
   "metadata": {
    "colab": {
     "base_uri": "https://localhost:8080/",
     "height": 265
    },
    "id": "MKnshd-3b-f_",
    "outputId": "f63e59a6-0a25-4cd3-d0c5-b7533f9cf9ee"
   },
   "outputs": [
    {
     "data": {
      "image/png": "[encoded data removed]",
      "text/plain": [
       "<Figure size 432x288 with 1 Axes>"
      ]
     },
     "metadata": {
      "needs_background": "light"
     },
     "output_type": "display_data"
    }
   ],
   "source": [
    "import matplotlib.pyplot as pl\n",
    "plt.plot(history_sgd.history['accuracy'], label = \"tarina\")\n",
    "plt.plot(history_sgd.history['val_accuracy'], label = \"test\")\n",
    "plt.legend()\n",
    "plt.show()"
   ]
  },
  {
   "cell_type": "code",
   "execution_count": 10,
   "metadata": {
    "colab": {
     "base_uri": "https://localhost:8080/",
     "height": 265
    },
    "id": "LUCyXY1_b-f_",
    "outputId": "e7cbb789-897f-4ace-b7c1-2482c3f4259c"
   },
   "outputs": [
    {
     "data": {
      "image/png": "[encoded data removed]",
      "text/plain": [
       "<Figure size 432x288 with 1 Axes>"
      ]
     },
     "metadata": {
      "needs_background": "light"
     },
     "output_type": "display_data"
    }
   ],
   "source": [
    "import matplotlib.pyplot as pl\n",
    "plt.plot(history_sgd.history['loss'], label = \"tarina\")\n",
    "plt.plot(history_sgd.history['val_loss'], label = \"test\")\n",
    "plt.legend()\n",
    "plt.show()"
   ]
  },
  {
   "cell_type": "markdown",
   "metadata": {
    "id": "aGJ_YBskb-gA"
   },
   "source": [
    "# RMSprop"
   ]
  },
  {
   "cell_type": "code",
   "execution_count": 13,
   "metadata": {
    "colab": {
     "base_uri": "https://localhost:8080/"
    },
    "id": "PuoUDuMgb-gA",
    "outputId": "ea562c13-f201-48c1-9eed-93cd96963716"
   },
   "outputs": [
    {
     "name": "stdout",
     "output_type": "stream",
     "text": [
      "Model: \"sequential_2\"\n",
      "_________________________________________________________________\n",
      " Layer (type)                Output Shape              Param #   \n",
      "=================================================================\n",
      " dense_8 (Dense)             (None, 100)               4200      \n",
      "                                                                 \n",
      " dense_9 (Dense)             (None, 50)                5050      \n",
      "                                                                 \n",
      " dense_10 (Dense)            (None, 10)                510       \n",
      "                                                                 \n",
      " dense_11 (Dense)            (None, 1)                 11        \n",
      "                                                                 \n",
      "=================================================================\n",
      "Total params: 9,771\n",
      "Trainable params: 9,771\n",
      "Non-trainable params: 0\n",
      "_________________________________________________________________\n"
     ]
    }
   ],
   "source": [
    "history_RMSprop = History()\n",
    "model = Sequential()\n",
    "model.add(Dense(100,activation=\"sigmoid\",input_shape=(X_train.shape[1],)))\n",
    "model.add(Dense(50,activation=\"sigmoid\"))\n",
    "model.add(Dense(10,activation=\"sigmoid\"))\n",
    "model.add(Dense(1,activation=\"sigmoid\"))\n",
    "model.summary()\n",
    "RMSprop = keras.optimizers.RMSprop(learning_rate=0.001, rho=0.9)\n",
    "model.compile(loss=\"binary_crossentropy\",optimizer=RMSprop, metrics=[\"accuracy\"])"
   ]
  },
  {
   "cell_type": "code",
   "execution_count": 14,
   "metadata": {
    "colab": {
     "base_uri": "https://localhost:8080/"
    },
    "id": "IcYOHQCkcuHF",
    "outputId": "3a6eaebb-504a-43fa-f3b6-397e8b5c79c8"
   },
   "outputs": [
    {
     "name": "stdout",
     "output_type": "stream",
     "text": [
      "Epoch 1/100\n",
      "498/498 [==============================] - 2s 3ms/step - loss: 0.4004 - accuracy: 0.8138 - val_loss: 0.3512 - val_accuracy: 0.8382\n",
      "Epoch 2/100\n",
      "498/498 [==============================] - 1s 3ms/step - loss: 0.3486 - accuracy: 0.8386 - val_loss: 0.3430 - val_accuracy: 0.8412\n",
      "Epoch 3/100\n",
      "498/498 [==============================] - 1s 3ms/step - loss: 0.3417 - accuracy: 0.8420 - val_loss: 0.3377 - val_accuracy: 0.8451\n",
      "Epoch 4/100\n",
      "498/498 [==============================] - 1s 3ms/step - loss: 0.3387 - accuracy: 0.8431 - val_loss: 0.3365 - val_accuracy: 0.8465\n",
      "Epoch 5/100\n",
      "498/498 [==============================] - 2s 3ms/step - loss: 0.3357 - accuracy: 0.8454 - val_loss: 0.3346 - val_accuracy: 0.8471\n",
      "Epoch 6/100\n",
      "498/498 [==============================] - 2s 5ms/step - loss: 0.3334 - accuracy: 0.8456 - val_loss: 0.3344 - val_accuracy: 0.8459\n",
      "Epoch 7/100\n",
      "498/498 [==============================] - 2s 4ms/step - loss: 0.3320 - accuracy: 0.8460 - val_loss: 0.3313 - val_accuracy: 0.8483\n",
      "Epoch 8/100\n",
      "498/498 [==============================] - 2s 3ms/step - loss: 0.3306 - accuracy: 0.8471 - val_loss: 0.3313 - val_accuracy: 0.8477\n",
      "Epoch 9/100\n",
      "498/498 [==============================] - 1s 3ms/step - loss: 0.3303 - accuracy: 0.8466 - val_loss: 0.3299 - val_accuracy: 0.8484\n",
      "Epoch 10/100\n",
      "498/498 [==============================] - 2s 4ms/step - loss: 0.3294 - accuracy: 0.8483 - val_loss: 0.3291 - val_accuracy: 0.8485\n",
      "Epoch 11/100\n",
      "498/498 [==============================] - 1s 3ms/step - loss: 0.3287 - accuracy: 0.8498 - val_loss: 0.3292 - val_accuracy: 0.8490\n",
      "Epoch 12/100\n",
      "498/498 [==============================] - 1s 3ms/step - loss: 0.3283 - accuracy: 0.8481 - val_loss: 0.3312 - val_accuracy: 0.8468\n",
      "Epoch 13/100\n",
      "498/498 [==============================] - 1s 3ms/step - loss: 0.3275 - accuracy: 0.8481 - val_loss: 0.3301 - val_accuracy: 0.8454\n",
      "Epoch 14/100\n",
      "498/498 [==============================] - 1s 3ms/step - loss: 0.3266 - accuracy: 0.8497 - val_loss: 0.3336 - val_accuracy: 0.8461\n",
      "Epoch 15/100\n",
      "498/498 [==============================] - 1s 3ms/step - loss: 0.3256 - accuracy: 0.8497 - val_loss: 0.3285 - val_accuracy: 0.8475\n",
      "Epoch 16/100\n",
      "498/498 [==============================] - 1s 3ms/step - loss: 0.3245 - accuracy: 0.8503 - val_loss: 0.3281 - val_accuracy: 0.8489\n",
      "Epoch 17/100\n",
      "498/498 [==============================] - 1s 3ms/step - loss: 0.3236 - accuracy: 0.8509 - val_loss: 0.3289 - val_accuracy: 0.8488\n",
      "Epoch 18/100\n",
      "498/498 [==============================] - 2s 4ms/step - loss: 0.3230 - accuracy: 0.8511 - val_loss: 0.3280 - val_accuracy: 0.8484\n",
      "Epoch 19/100\n",
      "498/498 [==============================] - 3s 6ms/step - loss: 0.3223 - accuracy: 0.8525 - val_loss: 0.3269 - val_accuracy: 0.8485\n",
      "Epoch 20/100\n",
      "498/498 [==============================] - 3s 6ms/step - loss: 0.3212 - accuracy: 0.8522 - val_loss: 0.3369 - val_accuracy: 0.8421\n",
      "Epoch 21/100\n",
      "498/498 [==============================] - 2s 5ms/step - loss: 0.3206 - accuracy: 0.8528 - val_loss: 0.3312 - val_accuracy: 0.8485\n",
      "Epoch 22/100\n",
      "498/498 [==============================] - 3s 5ms/step - loss: 0.3195 - accuracy: 0.8549 - val_loss: 0.3286 - val_accuracy: 0.8476\n",
      "Epoch 23/100\n",
      "498/498 [==============================] - 1s 3ms/step - loss: 0.3190 - accuracy: 0.8535 - val_loss: 0.3320 - val_accuracy: 0.8470\n",
      "Epoch 24/100\n",
      "498/498 [==============================] - 2s 4ms/step - loss: 0.3186 - accuracy: 0.8539 - val_loss: 0.3263 - val_accuracy: 0.8501\n",
      "Epoch 25/100\n",
      "498/498 [==============================] - 4s 8ms/step - loss: 0.3182 - accuracy: 0.8532 - val_loss: 0.3270 - val_accuracy: 0.8504\n",
      "Epoch 26/100\n",
      "498/498 [==============================] - 3s 5ms/step - loss: 0.3177 - accuracy: 0.8531 - val_loss: 0.3268 - val_accuracy: 0.8495\n",
      "Epoch 27/100\n",
      "498/498 [==============================] - 3s 6ms/step - loss: 0.3170 - accuracy: 0.8547 - val_loss: 0.3279 - val_accuracy: 0.8477\n",
      "Epoch 28/100\n",
      "498/498 [==============================] - 2s 4ms/step - loss: 0.3157 - accuracy: 0.8566 - val_loss: 0.3271 - val_accuracy: 0.8494\n",
      "Epoch 29/100\n",
      "498/498 [==============================] - 2s 4ms/step - loss: 0.3160 - accuracy: 0.8547 - val_loss: 0.3272 - val_accuracy: 0.8500\n",
      "Epoch 30/100\n",
      "498/498 [==============================] - 3s 6ms/step - loss: 0.3155 - accuracy: 0.8552 - val_loss: 0.3279 - val_accuracy: 0.8485\n",
      "Epoch 31/100\n",
      "498/498 [==============================] - 2s 3ms/step - loss: 0.3144 - accuracy: 0.8566 - val_loss: 0.3294 - val_accuracy: 0.8495\n",
      "Epoch 32/100\n",
      "498/498 [==============================] - 2s 4ms/step - loss: 0.3140 - accuracy: 0.8555 - val_loss: 0.3257 - val_accuracy: 0.8499\n",
      "Epoch 33/100\n",
      "498/498 [==============================] - 2s 5ms/step - loss: 0.3144 - accuracy: 0.8573 - val_loss: 0.3263 - val_accuracy: 0.8497\n",
      "Epoch 34/100\n",
      "498/498 [==============================] - 3s 6ms/step - loss: 0.3130 - accuracy: 0.8576 - val_loss: 0.3286 - val_accuracy: 0.8476\n",
      "Epoch 35/100\n",
      "498/498 [==============================] - 3s 6ms/step - loss: 0.3130 - accuracy: 0.8568 - val_loss: 0.3314 - val_accuracy: 0.8485\n",
      "Epoch 36/100\n",
      "498/498 [==============================] - 2s 4ms/step - loss: 0.3129 - accuracy: 0.8557 - val_loss: 0.3326 - val_accuracy: 0.8481\n",
      "Epoch 37/100\n",
      "498/498 [==============================] - 2s 4ms/step - loss: 0.3122 - accuracy: 0.8571 - val_loss: 0.3288 - val_accuracy: 0.8500\n",
      "Epoch 38/100\n",
      "498/498 [==============================] - 2s 4ms/step - loss: 0.3116 - accuracy: 0.8567 - val_loss: 0.3297 - val_accuracy: 0.8497\n",
      "Epoch 39/100\n",
      "498/498 [==============================] - 2s 4ms/step - loss: 0.3109 - accuracy: 0.8572 - val_loss: 0.3299 - val_accuracy: 0.8499\n",
      "Epoch 40/100\n",
      "498/498 [==============================] - 3s 5ms/step - loss: 0.3110 - accuracy: 0.8576 - val_loss: 0.3277 - val_accuracy: 0.8493\n",
      "Epoch 41/100\n",
      "498/498 [==============================] - 3s 5ms/step - loss: 0.3108 - accuracy: 0.8567 - val_loss: 0.3310 - val_accuracy: 0.8480\n",
      "Epoch 42/100\n",
      "498/498 [==============================] - 1s 3ms/step - loss: 0.3098 - accuracy: 0.8586 - val_loss: 0.3296 - val_accuracy: 0.8501\n",
      "Epoch 43/100\n",
      "498/498 [==============================] - 1s 3ms/step - loss: 0.3090 - accuracy: 0.8570 - val_loss: 0.3378 - val_accuracy: 0.8448\n",
      "Epoch 44/100\n",
      "498/498 [==============================] - 1s 3ms/step - loss: 0.3087 - accuracy: 0.8593 - val_loss: 0.3275 - val_accuracy: 0.8501\n",
      "Epoch 45/100\n",
      "498/498 [==============================] - 1s 3ms/step - loss: 0.3081 - accuracy: 0.8576 - val_loss: 0.3361 - val_accuracy: 0.8442\n",
      "Epoch 46/100\n",
      "498/498 [==============================] - 1s 3ms/step - loss: 0.3079 - accuracy: 0.8575 - val_loss: 0.3323 - val_accuracy: 0.8491\n",
      "Epoch 47/100\n",
      "498/498 [==============================] - 1s 3ms/step - loss: 0.3072 - accuracy: 0.8598 - val_loss: 0.3330 - val_accuracy: 0.8483\n",
      "Epoch 48/100\n",
      "498/498 [==============================] - 1s 3ms/step - loss: 0.3070 - accuracy: 0.8594 - val_loss: 0.3346 - val_accuracy: 0.8454\n",
      "Epoch 49/100\n",
      "498/498 [==============================] - 1s 3ms/step - loss: 0.3069 - accuracy: 0.8582 - val_loss: 0.3359 - val_accuracy: 0.8439\n",
      "Epoch 50/100\n",
      "498/498 [==============================] - 1s 3ms/step - loss: 0.3063 - accuracy: 0.8602 - val_loss: 0.3329 - val_accuracy: 0.8498\n",
      "Epoch 51/100\n",
      "498/498 [==============================] - 1s 3ms/step - loss: 0.3064 - accuracy: 0.8586 - val_loss: 0.3298 - val_accuracy: 0.8488\n",
      "Epoch 52/100\n",
      "498/498 [==============================] - 2s 4ms/step - loss: 0.3050 - accuracy: 0.8613 - val_loss: 0.3295 - val_accuracy: 0.8493\n",
      "Epoch 53/100\n",
      "498/498 [==============================] - 2s 4ms/step - loss: 0.3051 - accuracy: 0.8600 - val_loss: 0.3350 - val_accuracy: 0.8463\n",
      "Epoch 54/100\n",
      "498/498 [==============================] - 2s 4ms/step - loss: 0.3038 - accuracy: 0.8610 - val_loss: 0.3314 - val_accuracy: 0.8484\n",
      "Epoch 55/100\n",
      "498/498 [==============================] - 3s 5ms/step - loss: 0.3039 - accuracy: 0.8599 - val_loss: 0.3324 - val_accuracy: 0.8489\n",
      "Epoch 56/100\n",
      "498/498 [==============================] - 3s 5ms/step - loss: 0.3031 - accuracy: 0.8616 - val_loss: 0.3322 - val_accuracy: 0.8475\n",
      "Epoch 57/100\n",
      "498/498 [==============================] - 2s 5ms/step - loss: 0.3027 - accuracy: 0.8616 - val_loss: 0.3408 - val_accuracy: 0.8439\n",
      "Epoch 58/100\n",
      "498/498 [==============================] - 3s 5ms/step - loss: 0.3021 - accuracy: 0.8616 - val_loss: 0.3332 - val_accuracy: 0.8497\n",
      "Epoch 59/100\n",
      "498/498 [==============================] - 2s 3ms/step - loss: 0.3005 - accuracy: 0.8623 - val_loss: 0.3338 - val_accuracy: 0.8485\n",
      "Epoch 60/100\n",
      "498/498 [==============================] - 2s 4ms/step - loss: 0.3002 - accuracy: 0.8620 - val_loss: 0.3351 - val_accuracy: 0.8481\n",
      "Epoch 61/100\n",
      "498/498 [==============================] - 2s 4ms/step - loss: 0.3000 - accuracy: 0.8624 - val_loss: 0.3420 - val_accuracy: 0.8410\n",
      "Epoch 62/100\n",
      "498/498 [==============================] - 2s 3ms/step - loss: 0.2993 - accuracy: 0.8622 - val_loss: 0.3306 - val_accuracy: 0.8501\n",
      "Epoch 63/100\n",
      "498/498 [==============================] - 2s 5ms/step - loss: 0.2992 - accuracy: 0.8633 - val_loss: 0.3350 - val_accuracy: 0.8446\n",
      "Epoch 64/100\n",
      "498/498 [==============================] - 2s 5ms/step - loss: 0.2974 - accuracy: 0.8631 - val_loss: 0.3313 - val_accuracy: 0.8499\n",
      "Epoch 65/100\n",
      "498/498 [==============================] - 3s 5ms/step - loss: 0.2984 - accuracy: 0.8635 - val_loss: 0.3327 - val_accuracy: 0.8510\n",
      "Epoch 66/100\n",
      "498/498 [==============================] - 1s 3ms/step - loss: 0.2969 - accuracy: 0.8640 - val_loss: 0.3309 - val_accuracy: 0.8493\n",
      "Epoch 67/100\n",
      "498/498 [==============================] - 1s 3ms/step - loss: 0.2970 - accuracy: 0.8636 - val_loss: 0.3323 - val_accuracy: 0.8508\n",
      "Epoch 68/100\n",
      "498/498 [==============================] - 2s 4ms/step - loss: 0.2962 - accuracy: 0.8651 - val_loss: 0.3348 - val_accuracy: 0.8479\n",
      "Epoch 69/100\n",
      "498/498 [==============================] - 3s 5ms/step - loss: 0.2955 - accuracy: 0.8666 - val_loss: 0.3341 - val_accuracy: 0.8519\n",
      "Epoch 70/100\n",
      "498/498 [==============================] - 2s 4ms/step - loss: 0.2955 - accuracy: 0.8641 - val_loss: 0.3370 - val_accuracy: 0.8495\n",
      "Epoch 71/100\n",
      "498/498 [==============================] - 3s 5ms/step - loss: 0.2945 - accuracy: 0.8647 - val_loss: 0.3402 - val_accuracy: 0.8487\n",
      "Epoch 72/100\n",
      "498/498 [==============================] - 3s 5ms/step - loss: 0.2942 - accuracy: 0.8663 - val_loss: 0.3325 - val_accuracy: 0.8495\n",
      "Epoch 73/100\n",
      "498/498 [==============================] - 3s 5ms/step - loss: 0.2937 - accuracy: 0.8655 - val_loss: 0.3364 - val_accuracy: 0.8485\n",
      "Epoch 74/100\n",
      "498/498 [==============================] - 5s 9ms/step - loss: 0.2935 - accuracy: 0.8663 - val_loss: 0.3399 - val_accuracy: 0.8499\n",
      "Epoch 75/100\n",
      "498/498 [==============================] - 2s 4ms/step - loss: 0.2927 - accuracy: 0.8674 - val_loss: 0.3345 - val_accuracy: 0.8495\n",
      "Epoch 76/100\n",
      "498/498 [==============================] - 3s 6ms/step - loss: 0.2913 - accuracy: 0.8674 - val_loss: 0.3418 - val_accuracy: 0.8501\n",
      "Epoch 77/100\n",
      "498/498 [==============================] - 3s 5ms/step - loss: 0.2920 - accuracy: 0.8677 - val_loss: 0.3392 - val_accuracy: 0.8483\n",
      "Epoch 78/100\n",
      "498/498 [==============================] - 2s 4ms/step - loss: 0.2916 - accuracy: 0.8674 - val_loss: 0.3374 - val_accuracy: 0.8473\n",
      "Epoch 79/100\n",
      "498/498 [==============================] - 3s 6ms/step - loss: 0.2905 - accuracy: 0.8676 - val_loss: 0.3413 - val_accuracy: 0.8448\n",
      "Epoch 80/100\n",
      "498/498 [==============================] - 3s 6ms/step - loss: 0.2893 - accuracy: 0.8690 - val_loss: 0.3435 - val_accuracy: 0.8428\n",
      "Epoch 81/100\n",
      "498/498 [==============================] - 2s 4ms/step - loss: 0.2895 - accuracy: 0.8661 - val_loss: 0.3373 - val_accuracy: 0.8482\n",
      "Epoch 82/100\n",
      "498/498 [==============================] - 2s 5ms/step - loss: 0.2885 - accuracy: 0.8670 - val_loss: 0.3433 - val_accuracy: 0.8412\n",
      "Epoch 83/100\n",
      "498/498 [==============================] - 4s 7ms/step - loss: 0.2883 - accuracy: 0.8684 - val_loss: 0.3486 - val_accuracy: 0.8366\n",
      "Epoch 84/100\n",
      "498/498 [==============================] - 2s 4ms/step - loss: 0.2884 - accuracy: 0.8666 - val_loss: 0.3372 - val_accuracy: 0.8469\n",
      "Epoch 85/100\n",
      "498/498 [==============================] - 3s 5ms/step - loss: 0.2883 - accuracy: 0.8670 - val_loss: 0.3388 - val_accuracy: 0.8489\n",
      "Epoch 86/100\n",
      "498/498 [==============================] - 3s 5ms/step - loss: 0.2870 - accuracy: 0.8689 - val_loss: 0.3383 - val_accuracy: 0.8488\n",
      "Epoch 87/100\n",
      "498/498 [==============================] - 2s 4ms/step - loss: 0.2870 - accuracy: 0.8704 - val_loss: 0.3434 - val_accuracy: 0.8471\n",
      "Epoch 88/100\n",
      "498/498 [==============================] - 2s 4ms/step - loss: 0.2873 - accuracy: 0.8673 - val_loss: 0.3370 - val_accuracy: 0.8493\n",
      "Epoch 89/100\n",
      "498/498 [==============================] - 3s 5ms/step - loss: 0.2849 - accuracy: 0.8712 - val_loss: 0.3432 - val_accuracy: 0.8487\n",
      "Epoch 90/100\n",
      "498/498 [==============================] - 2s 5ms/step - loss: 0.2852 - accuracy: 0.8694 - val_loss: 0.3412 - val_accuracy: 0.8493\n",
      "Epoch 91/100\n",
      "498/498 [==============================] - 2s 4ms/step - loss: 0.2854 - accuracy: 0.8692 - val_loss: 0.3448 - val_accuracy: 0.8490\n",
      "Epoch 92/100\n",
      "498/498 [==============================] - 2s 3ms/step - loss: 0.2841 - accuracy: 0.8697 - val_loss: 0.3498 - val_accuracy: 0.8417\n",
      "Epoch 93/100\n",
      "498/498 [==============================] - 2s 4ms/step - loss: 0.2842 - accuracy: 0.8698 - val_loss: 0.3461 - val_accuracy: 0.8443\n",
      "Epoch 94/100\n",
      "498/498 [==============================] - 3s 6ms/step - loss: 0.2834 - accuracy: 0.8690 - val_loss: 0.3458 - val_accuracy: 0.8445\n",
      "Epoch 95/100\n",
      "498/498 [==============================] - 2s 4ms/step - loss: 0.2828 - accuracy: 0.8694 - val_loss: 0.3490 - val_accuracy: 0.8484\n",
      "Epoch 96/100\n",
      "498/498 [==============================] - 1s 3ms/step - loss: 0.2830 - accuracy: 0.8714 - val_loss: 0.3429 - val_accuracy: 0.8461\n",
      "Epoch 97/100\n",
      "498/498 [==============================] - 2s 3ms/step - loss: 0.2819 - accuracy: 0.8687 - val_loss: 0.3409 - val_accuracy: 0.8475\n",
      "Epoch 98/100\n",
      "498/498 [==============================] - 1s 3ms/step - loss: 0.2824 - accuracy: 0.8706 - val_loss: 0.3447 - val_accuracy: 0.8456\n",
      "Epoch 99/100\n",
      "498/498 [==============================] - 1s 3ms/step - loss: 0.2825 - accuracy: 0.8689 - val_loss: 0.3428 - val_accuracy: 0.8465\n",
      "Epoch 100/100\n",
      "498/498 [==============================] - 2s 5ms/step - loss: 0.2815 - accuracy: 0.8721 - val_loss: 0.3402 - val_accuracy: 0.8481\n"
     ]
    },
    {
     "data": {
      "text/plain": [
       "<keras.callbacks.History at 0x7f27df104ad0>"
      ]
     },
     "execution_count": 14,
     "metadata": {},
     "output_type": "execute_result"
    }
   ],
   "source": [
    "model.fit(X_train, y_train, validation_data= (X_test, y_test), batch_size=32,epochs=100, callbacks=[history_RMSprop])"
   ]
  },
  {
   "cell_type": "code",
   "execution_count": 15,
   "metadata": {
    "colab": {
     "base_uri": "https://localhost:8080/",
     "height": 513
    },
    "id": "IJnOGfgCb-gB",
    "outputId": "4069c59f-368b-4734-d7ee-7c351c1117dc"
   },
   "outputs": [
    {
     "data": {
      "image/png": "[encoded data removed]",
      "text/plain": [
       "<Figure size 432x288 with 1 Axes>"
      ]
     },
     "metadata": {
      "needs_background": "light"
     },
     "output_type": "display_data"
    },
    {
     "data": {
      "image/png": "[encoded data removed]",
      "text/plain": [
       "<Figure size 432x288 with 1 Axes>"
      ]
     },
     "metadata": {
      "needs_background": "light"
     },
     "output_type": "display_data"
    }
   ],
   "source": [
    "plt.plot(history_RMSprop.history['accuracy'], label = \"tarina\")\n",
    "plt.plot(history_RMSprop.history['val_accuracy'], label = \"test\")\n",
    "plt.legend()\n",
    "plt.show()\n",
    "plt.plot(history_RMSprop.history['loss'], label = \"tarina\")\n",
    "plt.plot(history_RMSprop.history['val_loss'], label = \"test\")\n",
    "plt.legend()\n",
    "plt.show()"
   ]
  },
  {
   "cell_type": "markdown",
   "metadata": {
    "id": "SqPossD4b-gB"
   },
   "source": [
    "# Adagrad"
   ]
  },
  {
   "cell_type": "code",
   "execution_count": 18,
   "metadata": {
    "colab": {
     "base_uri": "https://localhost:8080/"
    },
    "id": "Cpglba68b-gB",
    "outputId": "0f9e672e-431d-40e6-d848-afcace28bc0b"
   },
   "outputs": [
    {
     "name": "stdout",
     "output_type": "stream",
     "text": [
      "Model: \"sequential_4\"\n",
      "_________________________________________________________________\n",
      " Layer (type)                Output Shape              Param #   \n",
      "=================================================================\n",
      " dense_16 (Dense)            (None, 100)               4200      \n",
      "                                                                 \n",
      " dense_17 (Dense)            (None, 50)                5050      \n",
      "                                                                 \n",
      " dense_18 (Dense)            (None, 10)                510       \n",
      "                                                                 \n",
      " dense_19 (Dense)            (None, 1)                 11        \n",
      "                                                                 \n",
      "=================================================================\n",
      "Total params: 9,771\n",
      "Trainable params: 9,771\n",
      "Non-trainable params: 0\n",
      "_________________________________________________________________\n"
     ]
    }
   ],
   "source": [
    "history_Adagrad = History()\n",
    "model = Sequential()\n",
    "model.add(Dense(100,activation=\"sigmoid\",input_shape=(X_train.shape[1],)))\n",
    "model.add(Dense(50,activation=\"sigmoid\"))\n",
    "model.add(Dense(10,activation=\"sigmoid\"))\n",
    "model.add(Dense(1,activation=\"sigmoid\"))\n",
    "model.summary()\n",
    "Adagrad = keras.optimizers.Adagrad(learning_rate=0.01)\n",
    "model.compile(loss=\"binary_crossentropy\",optimizer=Adagrad, metrics=[\"accuracy\"])"
   ]
  },
  {
   "cell_type": "code",
   "execution_count": 19,
   "metadata": {
    "colab": {
     "base_uri": "https://localhost:8080/"
    },
    "id": "hcZw_y8LdFzP",
    "outputId": "18e44ea2-e985-44d6-a81b-834e1434f124"
   },
   "outputs": [
    {
     "name": "stdout",
     "output_type": "stream",
     "text": [
      "Epoch 1/100\n",
      "498/498 [==============================] - 2s 3ms/step - loss: 0.6030 - accuracy: 0.7036 - val_loss: 0.5553 - val_accuracy: 0.7543\n",
      "Epoch 2/100\n",
      "498/498 [==============================] - 1s 3ms/step - loss: 0.5555 - accuracy: 0.7531 - val_loss: 0.5531 - val_accuracy: 0.7543\n",
      "Epoch 3/100\n",
      "498/498 [==============================] - 1s 3ms/step - loss: 0.5531 - accuracy: 0.7531 - val_loss: 0.5502 - val_accuracy: 0.7543\n",
      "Epoch 4/100\n",
      "498/498 [==============================] - 1s 3ms/step - loss: 0.5497 - accuracy: 0.7531 - val_loss: 0.5462 - val_accuracy: 0.7543\n",
      "Epoch 5/100\n",
      "498/498 [==============================] - 1s 3ms/step - loss: 0.5445 - accuracy: 0.7531 - val_loss: 0.5396 - val_accuracy: 0.7543\n",
      "Epoch 6/100\n",
      "498/498 [==============================] - 1s 3ms/step - loss: 0.5358 - accuracy: 0.7531 - val_loss: 0.5286 - val_accuracy: 0.7543\n",
      "Epoch 7/100\n",
      "498/498 [==============================] - 1s 3ms/step - loss: 0.5211 - accuracy: 0.7531 - val_loss: 0.5098 - val_accuracy: 0.7543\n",
      "Epoch 8/100\n",
      "498/498 [==============================] - 1s 3ms/step - loss: 0.4971 - accuracy: 0.7531 - val_loss: 0.4803 - val_accuracy: 0.7552\n",
      "Epoch 9/100\n",
      "498/498 [==============================] - 1s 3ms/step - loss: 0.4636 - accuracy: 0.7625 - val_loss: 0.4445 - val_accuracy: 0.7752\n",
      "Epoch 10/100\n",
      "498/498 [==============================] - 1s 3ms/step - loss: 0.4293 - accuracy: 0.7998 - val_loss: 0.4132 - val_accuracy: 0.8199\n",
      "Epoch 11/100\n",
      "498/498 [==============================] - 1s 3ms/step - loss: 0.4029 - accuracy: 0.8246 - val_loss: 0.3913 - val_accuracy: 0.8276\n",
      "Epoch 12/100\n",
      "498/498 [==============================] - 1s 3ms/step - loss: 0.3857 - accuracy: 0.8302 - val_loss: 0.3776 - val_accuracy: 0.8337\n",
      "Epoch 13/100\n",
      "498/498 [==============================] - 1s 3ms/step - loss: 0.3747 - accuracy: 0.8332 - val_loss: 0.3688 - val_accuracy: 0.8355\n",
      "Epoch 14/100\n",
      "498/498 [==============================] - 1s 3ms/step - loss: 0.3678 - accuracy: 0.8339 - val_loss: 0.3629 - val_accuracy: 0.8376\n",
      "Epoch 15/100\n",
      "498/498 [==============================] - 1s 3ms/step - loss: 0.3629 - accuracy: 0.8352 - val_loss: 0.3590 - val_accuracy: 0.8371\n",
      "Epoch 16/100\n",
      "498/498 [==============================] - 1s 3ms/step - loss: 0.3593 - accuracy: 0.8350 - val_loss: 0.3558 - val_accuracy: 0.8386\n",
      "Epoch 17/100\n",
      "498/498 [==============================] - 1s 3ms/step - loss: 0.3566 - accuracy: 0.8366 - val_loss: 0.3533 - val_accuracy: 0.8373\n",
      "Epoch 18/100\n",
      "498/498 [==============================] - 1s 3ms/step - loss: 0.3542 - accuracy: 0.8376 - val_loss: 0.3521 - val_accuracy: 0.8378\n",
      "Epoch 19/100\n",
      "498/498 [==============================] - 1s 3ms/step - loss: 0.3525 - accuracy: 0.8372 - val_loss: 0.3498 - val_accuracy: 0.8386\n",
      "Epoch 20/100\n",
      "498/498 [==============================] - 1s 3ms/step - loss: 0.3508 - accuracy: 0.8375 - val_loss: 0.3483 - val_accuracy: 0.8390\n",
      "Epoch 21/100\n",
      "498/498 [==============================] - 1s 3ms/step - loss: 0.3493 - accuracy: 0.8383 - val_loss: 0.3471 - val_accuracy: 0.8396\n",
      "Epoch 22/100\n",
      "498/498 [==============================] - 1s 3ms/step - loss: 0.3481 - accuracy: 0.8393 - val_loss: 0.3461 - val_accuracy: 0.8414\n",
      "Epoch 23/100\n",
      "498/498 [==============================] - 1s 3ms/step - loss: 0.3469 - accuracy: 0.8401 - val_loss: 0.3450 - val_accuracy: 0.8410\n",
      "Epoch 24/100\n",
      "498/498 [==============================] - 1s 3ms/step - loss: 0.3460 - accuracy: 0.8406 - val_loss: 0.3444 - val_accuracy: 0.8420\n",
      "Epoch 25/100\n",
      "498/498 [==============================] - 1s 3ms/step - loss: 0.3450 - accuracy: 0.8410 - val_loss: 0.3434 - val_accuracy: 0.8424\n",
      "Epoch 26/100\n",
      "498/498 [==============================] - 1s 3ms/step - loss: 0.3441 - accuracy: 0.8415 - val_loss: 0.3431 - val_accuracy: 0.8422\n",
      "Epoch 27/100\n",
      "498/498 [==============================] - 1s 3ms/step - loss: 0.3433 - accuracy: 0.8413 - val_loss: 0.3420 - val_accuracy: 0.8430\n",
      "Epoch 28/100\n",
      "498/498 [==============================] - 1s 3ms/step - loss: 0.3422 - accuracy: 0.8408 - val_loss: 0.3414 - val_accuracy: 0.8441\n",
      "Epoch 29/100\n",
      "498/498 [==============================] - 1s 3ms/step - loss: 0.3419 - accuracy: 0.8409 - val_loss: 0.3407 - val_accuracy: 0.8442\n",
      "Epoch 30/100\n",
      "498/498 [==============================] - 1s 3ms/step - loss: 0.3413 - accuracy: 0.8424 - val_loss: 0.3402 - val_accuracy: 0.8448\n",
      "Epoch 31/100\n",
      "498/498 [==============================] - 1s 3ms/step - loss: 0.3405 - accuracy: 0.8426 - val_loss: 0.3397 - val_accuracy: 0.8444\n",
      "Epoch 32/100\n",
      "498/498 [==============================] - 1s 3ms/step - loss: 0.3399 - accuracy: 0.8420 - val_loss: 0.3393 - val_accuracy: 0.8443\n",
      "Epoch 33/100\n",
      "498/498 [==============================] - 1s 3ms/step - loss: 0.3395 - accuracy: 0.8429 - val_loss: 0.3387 - val_accuracy: 0.8451\n",
      "Epoch 34/100\n",
      "498/498 [==============================] - 1s 3ms/step - loss: 0.3390 - accuracy: 0.8422 - val_loss: 0.3384 - val_accuracy: 0.8445\n",
      "Epoch 35/100\n",
      "498/498 [==============================] - 1s 3ms/step - loss: 0.3386 - accuracy: 0.8427 - val_loss: 0.3379 - val_accuracy: 0.8452\n",
      "Epoch 36/100\n",
      "498/498 [==============================] - 1s 3ms/step - loss: 0.3380 - accuracy: 0.8424 - val_loss: 0.3376 - val_accuracy: 0.8446\n",
      "Epoch 37/100\n",
      "498/498 [==============================] - 1s 3ms/step - loss: 0.3376 - accuracy: 0.8422 - val_loss: 0.3371 - val_accuracy: 0.8456\n",
      "Epoch 38/100\n",
      "498/498 [==============================] - 1s 3ms/step - loss: 0.3372 - accuracy: 0.8428 - val_loss: 0.3369 - val_accuracy: 0.8454\n",
      "Epoch 39/100\n",
      "498/498 [==============================] - 1s 3ms/step - loss: 0.3365 - accuracy: 0.8434 - val_loss: 0.3369 - val_accuracy: 0.8443\n",
      "Epoch 40/100\n",
      "498/498 [==============================] - 1s 3ms/step - loss: 0.3364 - accuracy: 0.8425 - val_loss: 0.3366 - val_accuracy: 0.8444\n",
      "Epoch 41/100\n",
      "498/498 [==============================] - 1s 3ms/step - loss: 0.3361 - accuracy: 0.8440 - val_loss: 0.3363 - val_accuracy: 0.8445\n",
      "Epoch 42/100\n",
      "498/498 [==============================] - 1s 3ms/step - loss: 0.3358 - accuracy: 0.8442 - val_loss: 0.3355 - val_accuracy: 0.8463\n",
      "Epoch 43/100\n",
      "498/498 [==============================] - 1s 3ms/step - loss: 0.3354 - accuracy: 0.8436 - val_loss: 0.3353 - val_accuracy: 0.8462\n",
      "Epoch 44/100\n",
      "498/498 [==============================] - 1s 3ms/step - loss: 0.3349 - accuracy: 0.8440 - val_loss: 0.3351 - val_accuracy: 0.8458\n",
      "Epoch 45/100\n",
      "498/498 [==============================] - 1s 3ms/step - loss: 0.3346 - accuracy: 0.8442 - val_loss: 0.3353 - val_accuracy: 0.8448\n",
      "Epoch 46/100\n",
      "498/498 [==============================] - 1s 3ms/step - loss: 0.3346 - accuracy: 0.8450 - val_loss: 0.3345 - val_accuracy: 0.8462\n",
      "Epoch 47/100\n",
      "498/498 [==============================] - 1s 3ms/step - loss: 0.3342 - accuracy: 0.8446 - val_loss: 0.3343 - val_accuracy: 0.8461\n",
      "Epoch 48/100\n",
      "498/498 [==============================] - 1s 3ms/step - loss: 0.3340 - accuracy: 0.8449 - val_loss: 0.3347 - val_accuracy: 0.8453\n",
      "Epoch 49/100\n",
      "498/498 [==============================] - 1s 3ms/step - loss: 0.3338 - accuracy: 0.8448 - val_loss: 0.3339 - val_accuracy: 0.8461\n",
      "Epoch 50/100\n",
      "498/498 [==============================] - 1s 3ms/step - loss: 0.3333 - accuracy: 0.8452 - val_loss: 0.3338 - val_accuracy: 0.8455\n",
      "Epoch 51/100\n",
      "498/498 [==============================] - 1s 3ms/step - loss: 0.3333 - accuracy: 0.8441 - val_loss: 0.3335 - val_accuracy: 0.8459\n",
      "Epoch 52/100\n",
      "498/498 [==============================] - 1s 3ms/step - loss: 0.3330 - accuracy: 0.8454 - val_loss: 0.3335 - val_accuracy: 0.8459\n",
      "Epoch 53/100\n",
      "498/498 [==============================] - 1s 3ms/step - loss: 0.3329 - accuracy: 0.8456 - val_loss: 0.3340 - val_accuracy: 0.8450\n",
      "Epoch 54/100\n",
      "498/498 [==============================] - 1s 3ms/step - loss: 0.3328 - accuracy: 0.8447 - val_loss: 0.3331 - val_accuracy: 0.8456\n",
      "Epoch 55/100\n",
      "498/498 [==============================] - 1s 3ms/step - loss: 0.3326 - accuracy: 0.8457 - val_loss: 0.3329 - val_accuracy: 0.8461\n",
      "Epoch 56/100\n",
      "498/498 [==============================] - 1s 3ms/step - loss: 0.3320 - accuracy: 0.8447 - val_loss: 0.3328 - val_accuracy: 0.8452\n",
      "Epoch 57/100\n",
      "498/498 [==============================] - 1s 3ms/step - loss: 0.3321 - accuracy: 0.8461 - val_loss: 0.3326 - val_accuracy: 0.8462\n",
      "Epoch 58/100\n",
      "498/498 [==============================] - 1s 3ms/step - loss: 0.3319 - accuracy: 0.8470 - val_loss: 0.3326 - val_accuracy: 0.8451\n",
      "Epoch 59/100\n",
      "498/498 [==============================] - 1s 3ms/step - loss: 0.3318 - accuracy: 0.8447 - val_loss: 0.3323 - val_accuracy: 0.8461\n",
      "Epoch 60/100\n",
      "498/498 [==============================] - 1s 3ms/step - loss: 0.3316 - accuracy: 0.8468 - val_loss: 0.3322 - val_accuracy: 0.8459\n",
      "Epoch 61/100\n",
      "498/498 [==============================] - 2s 4ms/step - loss: 0.3315 - accuracy: 0.8461 - val_loss: 0.3323 - val_accuracy: 0.8459\n",
      "Epoch 62/100\n",
      "498/498 [==============================] - 3s 6ms/step - loss: 0.3314 - accuracy: 0.8459 - val_loss: 0.3320 - val_accuracy: 0.8464\n",
      "Epoch 63/100\n",
      "498/498 [==============================] - 1s 3ms/step - loss: 0.3310 - accuracy: 0.8464 - val_loss: 0.3319 - val_accuracy: 0.8461\n",
      "Epoch 64/100\n",
      "498/498 [==============================] - 1s 3ms/step - loss: 0.3311 - accuracy: 0.8463 - val_loss: 0.3318 - val_accuracy: 0.8459\n",
      "Epoch 65/100\n",
      "498/498 [==============================] - 1s 3ms/step - loss: 0.3309 - accuracy: 0.8466 - val_loss: 0.3319 - val_accuracy: 0.8456\n",
      "Epoch 66/100\n",
      "498/498 [==============================] - 1s 3ms/step - loss: 0.3308 - accuracy: 0.8464 - val_loss: 0.3317 - val_accuracy: 0.8463\n",
      "Epoch 67/100\n",
      "498/498 [==============================] - 1s 3ms/step - loss: 0.3307 - accuracy: 0.8464 - val_loss: 0.3318 - val_accuracy: 0.8464\n",
      "Epoch 68/100\n",
      "498/498 [==============================] - 1s 3ms/step - loss: 0.3306 - accuracy: 0.8465 - val_loss: 0.3315 - val_accuracy: 0.8463\n",
      "Epoch 69/100\n",
      "498/498 [==============================] - 1s 3ms/step - loss: 0.3304 - accuracy: 0.8470 - val_loss: 0.3314 - val_accuracy: 0.8462\n",
      "Epoch 70/100\n",
      "498/498 [==============================] - 1s 3ms/step - loss: 0.3304 - accuracy: 0.8465 - val_loss: 0.3312 - val_accuracy: 0.8463\n",
      "Epoch 71/100\n",
      "498/498 [==============================] - 1s 3ms/step - loss: 0.3302 - accuracy: 0.8473 - val_loss: 0.3312 - val_accuracy: 0.8464\n",
      "Epoch 72/100\n",
      "498/498 [==============================] - 1s 3ms/step - loss: 0.3301 - accuracy: 0.8471 - val_loss: 0.3315 - val_accuracy: 0.8462\n",
      "Epoch 73/100\n",
      "498/498 [==============================] - 1s 3ms/step - loss: 0.3300 - accuracy: 0.8467 - val_loss: 0.3312 - val_accuracy: 0.8462\n",
      "Epoch 74/100\n",
      "498/498 [==============================] - 1s 3ms/step - loss: 0.3299 - accuracy: 0.8472 - val_loss: 0.3310 - val_accuracy: 0.8461\n",
      "Epoch 75/100\n",
      "498/498 [==============================] - 1s 3ms/step - loss: 0.3298 - accuracy: 0.8473 - val_loss: 0.3309 - val_accuracy: 0.8465\n",
      "Epoch 76/100\n",
      "498/498 [==============================] - 1s 3ms/step - loss: 0.3298 - accuracy: 0.8466 - val_loss: 0.3310 - val_accuracy: 0.8465\n",
      "Epoch 77/100\n",
      "498/498 [==============================] - 1s 3ms/step - loss: 0.3295 - accuracy: 0.8473 - val_loss: 0.3308 - val_accuracy: 0.8465\n",
      "Epoch 78/100\n",
      "498/498 [==============================] - 1s 3ms/step - loss: 0.3294 - accuracy: 0.8466 - val_loss: 0.3306 - val_accuracy: 0.8465\n",
      "Epoch 79/100\n",
      "498/498 [==============================] - 1s 3ms/step - loss: 0.3293 - accuracy: 0.8474 - val_loss: 0.3308 - val_accuracy: 0.8461\n",
      "Epoch 80/100\n",
      "498/498 [==============================] - 1s 3ms/step - loss: 0.3294 - accuracy: 0.8469 - val_loss: 0.3305 - val_accuracy: 0.8464\n",
      "Epoch 81/100\n",
      "498/498 [==============================] - 1s 3ms/step - loss: 0.3292 - accuracy: 0.8476 - val_loss: 0.3305 - val_accuracy: 0.8467\n",
      "Epoch 82/100\n",
      "498/498 [==============================] - 1s 3ms/step - loss: 0.3291 - accuracy: 0.8476 - val_loss: 0.3306 - val_accuracy: 0.8463\n",
      "Epoch 83/100\n",
      "498/498 [==============================] - 1s 3ms/step - loss: 0.3291 - accuracy: 0.8479 - val_loss: 0.3303 - val_accuracy: 0.8465\n",
      "Epoch 84/100\n",
      "498/498 [==============================] - 1s 3ms/step - loss: 0.3290 - accuracy: 0.8471 - val_loss: 0.3303 - val_accuracy: 0.8469\n",
      "Epoch 85/100\n",
      "498/498 [==============================] - 1s 3ms/step - loss: 0.3288 - accuracy: 0.8471 - val_loss: 0.3303 - val_accuracy: 0.8466\n",
      "Epoch 86/100\n",
      "498/498 [==============================] - 1s 3ms/step - loss: 0.3288 - accuracy: 0.8480 - val_loss: 0.3308 - val_accuracy: 0.8461\n",
      "Epoch 87/100\n",
      "498/498 [==============================] - 1s 3ms/step - loss: 0.3287 - accuracy: 0.8474 - val_loss: 0.3302 - val_accuracy: 0.8465\n",
      "Epoch 88/100\n",
      "498/498 [==============================] - 1s 3ms/step - loss: 0.3286 - accuracy: 0.8486 - val_loss: 0.3300 - val_accuracy: 0.8469\n",
      "Epoch 89/100\n",
      "498/498 [==============================] - 1s 3ms/step - loss: 0.3287 - accuracy: 0.8469 - val_loss: 0.3300 - val_accuracy: 0.8473\n",
      "Epoch 90/100\n",
      "498/498 [==============================] - 1s 3ms/step - loss: 0.3285 - accuracy: 0.8481 - val_loss: 0.3300 - val_accuracy: 0.8474\n",
      "Epoch 91/100\n",
      "498/498 [==============================] - 1s 3ms/step - loss: 0.3283 - accuracy: 0.8478 - val_loss: 0.3299 - val_accuracy: 0.8472\n",
      "Epoch 92/100\n",
      "498/498 [==============================] - 1s 3ms/step - loss: 0.3283 - accuracy: 0.8481 - val_loss: 0.3303 - val_accuracy: 0.8468\n",
      "Epoch 93/100\n",
      "498/498 [==============================] - 1s 3ms/step - loss: 0.3283 - accuracy: 0.8474 - val_loss: 0.3298 - val_accuracy: 0.8471\n",
      "Epoch 94/100\n",
      "498/498 [==============================] - 1s 3ms/step - loss: 0.3281 - accuracy: 0.8479 - val_loss: 0.3298 - val_accuracy: 0.8463\n",
      "Epoch 95/100\n",
      "498/498 [==============================] - 1s 3ms/step - loss: 0.3281 - accuracy: 0.8484 - val_loss: 0.3298 - val_accuracy: 0.8463\n",
      "Epoch 96/100\n",
      "498/498 [==============================] - 1s 3ms/step - loss: 0.3280 - accuracy: 0.8482 - val_loss: 0.3297 - val_accuracy: 0.8473\n",
      "Epoch 97/100\n",
      "498/498 [==============================] - 1s 3ms/step - loss: 0.3280 - accuracy: 0.8473 - val_loss: 0.3296 - val_accuracy: 0.8473\n",
      "Epoch 98/100\n",
      "498/498 [==============================] - 1s 3ms/step - loss: 0.3278 - accuracy: 0.8486 - val_loss: 0.3299 - val_accuracy: 0.8465\n",
      "Epoch 99/100\n",
      "498/498 [==============================] - 1s 3ms/step - loss: 0.3279 - accuracy: 0.8479 - val_loss: 0.3296 - val_accuracy: 0.8466\n",
      "Epoch 100/100\n",
      "498/498 [==============================] - 1s 3ms/step - loss: 0.3278 - accuracy: 0.8477 - val_loss: 0.3295 - val_accuracy: 0.8471\n"
     ]
    },
    {
     "data": {
      "text/plain": [
       "<keras.callbacks.History at 0x7f27e17c2890>"
      ]
     },
     "execution_count": 19,
     "metadata": {},
     "output_type": "execute_result"
    }
   ],
   "source": [
    "model.fit(X_train, y_train, validation_data= (X_test, y_test), batch_size=32,epochs=100, callbacks=[history_Adagrad])"
   ]
  },
  {
   "cell_type": "code",
   "execution_count": 20,
   "metadata": {
    "colab": {
     "base_uri": "https://localhost:8080/",
     "height": 513
    },
    "id": "pgmqR_p7b-gB",
    "outputId": "4e1a3bfd-b4bc-4dd2-b260-12a9b2e7b9b7"
   },
   "outputs": [
    {
     "data": {
      "image/png": "[encoded data removed]",
      "text/plain": [
       "<Figure size 432x288 with 1 Axes>"
      ]
     },
     "metadata": {
      "needs_background": "light"
     },
     "output_type": "display_data"
    },
    {
     "data": {
      "image/png": "[encoded data removed]",
      "text/plain": [
       "<Figure size 432x288 with 1 Axes>"
      ]
     },
     "metadata": {
      "needs_background": "light"
     },
     "output_type": "display_data"
    }
   ],
   "source": [
    "plt.plot(history_Adagrad.history['accuracy'], label = \"tarina\")\n",
    "plt.plot(history_Adagrad.history['val_accuracy'], label = \"test\")\n",
    "plt.legend()\n",
    "plt.show()\n",
    "plt.plot(history_Adagrad.history['loss'], label = \"tarina\")\n",
    "plt.plot(history_Adagrad.history['val_loss'], label = \"test\")\n",
    "plt.legend()\n",
    "plt.show()"
   ]
  },
  {
   "cell_type": "markdown",
   "metadata": {
    "id": "dQBsATcEb-gC"
   },
   "source": [
    "# Adadelta"
   ]
  },
  {
   "cell_type": "code",
   "execution_count": 30,
   "metadata": {
    "colab": {
     "base_uri": "https://localhost:8080/"
    },
    "id": "x92t7W0Gb-gC",
    "outputId": "0fb71ba1-370f-407a-a5e4-f8a6ed9857e9"
   },
   "outputs": [
    {
     "name": "stdout",
     "output_type": "stream",
     "text": [
      "Model: \"sequential_8\"\n",
      "_________________________________________________________________\n",
      " Layer (type)                Output Shape              Param #   \n",
      "=================================================================\n",
      " dense_32 (Dense)            (None, 100)               4200      \n",
      "                                                                 \n",
      " dense_33 (Dense)            (None, 50)                5050      \n",
      "                                                                 \n",
      " dense_34 (Dense)            (None, 10)                510       \n",
      "                                                                 \n",
      " dense_35 (Dense)            (None, 1)                 11        \n",
      "                                                                 \n",
      "=================================================================\n",
      "Total params: 9,771\n",
      "Trainable params: 9,771\n",
      "Non-trainable params: 0\n",
      "_________________________________________________________________\n"
     ]
    }
   ],
   "source": [
    "history_Adadelta = History()\n",
    "model = Sequential()\n",
    "model.add(Dense(100,activation=\"sigmoid\",input_shape=(X_train.shape[1],)))\n",
    "model.add(Dense(50,activation=\"sigmoid\"))\n",
    "model.add(Dense(10,activation=\"sigmoid\"))\n",
    "model.add(Dense(1,activation=\"sigmoid\"))\n",
    "model.summary()\n",
    "Adadelta = keras.optimizers.Adadelta(learning_rate=1.0, rho=0.95)\n",
    "model.compile(loss=\"binary_crossentropy\",optimizer=Adadelta, metrics=[\"accuracy\"])"
   ]
  },
  {
   "cell_type": "code",
   "execution_count": 22,
   "metadata": {
    "colab": {
     "base_uri": "https://localhost:8080/"
    },
    "id": "aA_DtiKib-gC",
    "outputId": "5906fcf8-9f23-453d-a8c9-971620b709a3"
   },
   "outputs": [
    {
     "name": "stdout",
     "output_type": "stream",
     "text": [
      "Epoch 1/100\n",
      "498/498 [==============================] - 2s 3ms/step - loss: 0.4483 - accuracy: 0.7887 - val_loss: 0.3616 - val_accuracy: 0.8327\n",
      "Epoch 2/100\n",
      "498/498 [==============================] - 1s 3ms/step - loss: 0.3562 - accuracy: 0.8325 - val_loss: 0.3518 - val_accuracy: 0.8407\n",
      "Epoch 3/100\n",
      "498/498 [==============================] - 1s 3ms/step - loss: 0.3470 - accuracy: 0.8385 - val_loss: 0.3407 - val_accuracy: 0.8430\n",
      "Epoch 4/100\n",
      "498/498 [==============================] - 1s 3ms/step - loss: 0.3419 - accuracy: 0.8397 - val_loss: 0.3376 - val_accuracy: 0.8443\n",
      "Epoch 5/100\n",
      "498/498 [==============================] - 1s 3ms/step - loss: 0.3380 - accuracy: 0.8421 - val_loss: 0.3352 - val_accuracy: 0.8466\n",
      "Epoch 6/100\n",
      "498/498 [==============================] - 1s 3ms/step - loss: 0.3362 - accuracy: 0.8434 - val_loss: 0.3327 - val_accuracy: 0.8471\n",
      "Epoch 7/100\n",
      "498/498 [==============================] - 1s 3ms/step - loss: 0.3339 - accuracy: 0.8443 - val_loss: 0.3330 - val_accuracy: 0.8469\n",
      "Epoch 8/100\n",
      "498/498 [==============================] - 1s 3ms/step - loss: 0.3316 - accuracy: 0.8460 - val_loss: 0.3296 - val_accuracy: 0.8463\n",
      "Epoch 9/100\n",
      "498/498 [==============================] - 1s 3ms/step - loss: 0.3307 - accuracy: 0.8459 - val_loss: 0.3356 - val_accuracy: 0.8404\n",
      "Epoch 10/100\n",
      "498/498 [==============================] - 1s 3ms/step - loss: 0.3290 - accuracy: 0.8469 - val_loss: 0.3316 - val_accuracy: 0.8461\n",
      "Epoch 11/100\n",
      "498/498 [==============================] - 1s 3ms/step - loss: 0.3279 - accuracy: 0.8478 - val_loss: 0.3305 - val_accuracy: 0.8451\n",
      "Epoch 12/100\n",
      "498/498 [==============================] - 1s 3ms/step - loss: 0.3271 - accuracy: 0.8462 - val_loss: 0.3265 - val_accuracy: 0.8487\n",
      "Epoch 13/100\n",
      "498/498 [==============================] - 1s 3ms/step - loss: 0.3267 - accuracy: 0.8483 - val_loss: 0.3271 - val_accuracy: 0.8483\n",
      "Epoch 14/100\n",
      "498/498 [==============================] - 1s 3ms/step - loss: 0.3257 - accuracy: 0.8477 - val_loss: 0.3256 - val_accuracy: 0.8469\n",
      "Epoch 15/100\n",
      "498/498 [==============================] - 1s 3ms/step - loss: 0.3250 - accuracy: 0.8490 - val_loss: 0.3258 - val_accuracy: 0.8478\n",
      "Epoch 16/100\n",
      "498/498 [==============================] - 1s 3ms/step - loss: 0.3241 - accuracy: 0.8493 - val_loss: 0.3270 - val_accuracy: 0.8473\n",
      "Epoch 17/100\n",
      "498/498 [==============================] - 1s 3ms/step - loss: 0.3235 - accuracy: 0.8513 - val_loss: 0.3280 - val_accuracy: 0.8463\n",
      "Epoch 18/100\n",
      "498/498 [==============================] - 1s 3ms/step - loss: 0.3225 - accuracy: 0.8499 - val_loss: 0.3332 - val_accuracy: 0.8437\n",
      "Epoch 19/100\n",
      "498/498 [==============================] - 1s 3ms/step - loss: 0.3221 - accuracy: 0.8508 - val_loss: 0.3320 - val_accuracy: 0.8452\n",
      "Epoch 20/100\n",
      "498/498 [==============================] - 1s 3ms/step - loss: 0.3209 - accuracy: 0.8515 - val_loss: 0.3274 - val_accuracy: 0.8476\n",
      "Epoch 21/100\n",
      "498/498 [==============================] - 1s 3ms/step - loss: 0.3208 - accuracy: 0.8513 - val_loss: 0.3260 - val_accuracy: 0.8479\n",
      "Epoch 22/100\n",
      "498/498 [==============================] - 1s 3ms/step - loss: 0.3198 - accuracy: 0.8508 - val_loss: 0.3237 - val_accuracy: 0.8487\n",
      "Epoch 23/100\n",
      "498/498 [==============================] - 1s 3ms/step - loss: 0.3190 - accuracy: 0.8520 - val_loss: 0.3242 - val_accuracy: 0.8497\n",
      "Epoch 24/100\n",
      "498/498 [==============================] - 1s 3ms/step - loss: 0.3187 - accuracy: 0.8513 - val_loss: 0.3236 - val_accuracy: 0.8495\n",
      "Epoch 25/100\n",
      "498/498 [==============================] - 1s 3ms/step - loss: 0.3174 - accuracy: 0.8534 - val_loss: 0.3286 - val_accuracy: 0.8481\n",
      "Epoch 26/100\n",
      "498/498 [==============================] - 1s 3ms/step - loss: 0.3167 - accuracy: 0.8549 - val_loss: 0.3269 - val_accuracy: 0.8483\n",
      "Epoch 27/100\n",
      "498/498 [==============================] - 1s 3ms/step - loss: 0.3160 - accuracy: 0.8534 - val_loss: 0.3225 - val_accuracy: 0.8508\n",
      "Epoch 28/100\n",
      "498/498 [==============================] - 1s 3ms/step - loss: 0.3157 - accuracy: 0.8531 - val_loss: 0.3237 - val_accuracy: 0.8494\n",
      "Epoch 29/100\n",
      "498/498 [==============================] - 1s 3ms/step - loss: 0.3142 - accuracy: 0.8546 - val_loss: 0.3234 - val_accuracy: 0.8495\n",
      "Epoch 30/100\n",
      "498/498 [==============================] - 1s 3ms/step - loss: 0.3143 - accuracy: 0.8547 - val_loss: 0.3251 - val_accuracy: 0.8493\n",
      "Epoch 31/100\n",
      "498/498 [==============================] - 1s 3ms/step - loss: 0.3140 - accuracy: 0.8546 - val_loss: 0.3233 - val_accuracy: 0.8501\n",
      "Epoch 32/100\n",
      "498/498 [==============================] - 1s 3ms/step - loss: 0.3125 - accuracy: 0.8554 - val_loss: 0.3225 - val_accuracy: 0.8501\n",
      "Epoch 33/100\n",
      "498/498 [==============================] - 1s 3ms/step - loss: 0.3124 - accuracy: 0.8560 - val_loss: 0.3245 - val_accuracy: 0.8495\n",
      "Epoch 34/100\n",
      "498/498 [==============================] - 1s 3ms/step - loss: 0.3119 - accuracy: 0.8576 - val_loss: 0.3264 - val_accuracy: 0.8463\n",
      "Epoch 35/100\n",
      "498/498 [==============================] - 1s 3ms/step - loss: 0.3114 - accuracy: 0.8567 - val_loss: 0.3252 - val_accuracy: 0.8511\n",
      "Epoch 36/100\n",
      "498/498 [==============================] - 1s 3ms/step - loss: 0.3110 - accuracy: 0.8559 - val_loss: 0.3236 - val_accuracy: 0.8503\n",
      "Epoch 37/100\n",
      "498/498 [==============================] - 1s 3ms/step - loss: 0.3104 - accuracy: 0.8564 - val_loss: 0.3305 - val_accuracy: 0.8446\n",
      "Epoch 38/100\n",
      "498/498 [==============================] - 1s 3ms/step - loss: 0.3096 - accuracy: 0.8566 - val_loss: 0.3309 - val_accuracy: 0.8428\n",
      "Epoch 39/100\n",
      "498/498 [==============================] - 1s 3ms/step - loss: 0.3091 - accuracy: 0.8556 - val_loss: 0.3258 - val_accuracy: 0.8496\n",
      "Epoch 40/100\n",
      "498/498 [==============================] - 1s 3ms/step - loss: 0.3087 - accuracy: 0.8572 - val_loss: 0.3248 - val_accuracy: 0.8497\n",
      "Epoch 41/100\n",
      "498/498 [==============================] - 1s 3ms/step - loss: 0.3089 - accuracy: 0.8583 - val_loss: 0.3265 - val_accuracy: 0.8467\n",
      "Epoch 42/100\n",
      "498/498 [==============================] - 1s 3ms/step - loss: 0.3081 - accuracy: 0.8573 - val_loss: 0.3281 - val_accuracy: 0.8468\n",
      "Epoch 43/100\n",
      "498/498 [==============================] - 1s 3ms/step - loss: 0.3077 - accuracy: 0.8571 - val_loss: 0.3223 - val_accuracy: 0.8504\n",
      "Epoch 44/100\n",
      "498/498 [==============================] - 1s 3ms/step - loss: 0.3076 - accuracy: 0.8575 - val_loss: 0.3248 - val_accuracy: 0.8495\n",
      "Epoch 45/100\n",
      "498/498 [==============================] - 1s 3ms/step - loss: 0.3071 - accuracy: 0.8592 - val_loss: 0.3246 - val_accuracy: 0.8478\n",
      "Epoch 46/100\n",
      "498/498 [==============================] - 1s 3ms/step - loss: 0.3066 - accuracy: 0.8594 - val_loss: 0.3241 - val_accuracy: 0.8501\n",
      "Epoch 47/100\n",
      "498/498 [==============================] - 1s 3ms/step - loss: 0.3061 - accuracy: 0.8580 - val_loss: 0.3274 - val_accuracy: 0.8493\n",
      "Epoch 48/100\n",
      "498/498 [==============================] - 1s 3ms/step - loss: 0.3056 - accuracy: 0.8589 - val_loss: 0.3263 - val_accuracy: 0.8471\n",
      "Epoch 49/100\n",
      "498/498 [==============================] - 1s 3ms/step - loss: 0.3056 - accuracy: 0.8578 - val_loss: 0.3257 - val_accuracy: 0.8497\n",
      "Epoch 50/100\n",
      "498/498 [==============================] - 1s 3ms/step - loss: 0.3049 - accuracy: 0.8597 - val_loss: 0.3256 - val_accuracy: 0.8491\n",
      "Epoch 51/100\n",
      "498/498 [==============================] - 1s 3ms/step - loss: 0.3042 - accuracy: 0.8594 - val_loss: 0.3288 - val_accuracy: 0.8477\n",
      "Epoch 52/100\n",
      "498/498 [==============================] - 1s 3ms/step - loss: 0.3039 - accuracy: 0.8569 - val_loss: 0.3273 - val_accuracy: 0.8496\n",
      "Epoch 53/100\n",
      "498/498 [==============================] - 1s 3ms/step - loss: 0.3034 - accuracy: 0.8594 - val_loss: 0.3257 - val_accuracy: 0.8491\n",
      "Epoch 54/100\n",
      "498/498 [==============================] - 1s 3ms/step - loss: 0.3029 - accuracy: 0.8581 - val_loss: 0.3274 - val_accuracy: 0.8491\n",
      "Epoch 55/100\n",
      "498/498 [==============================] - 1s 3ms/step - loss: 0.3020 - accuracy: 0.8582 - val_loss: 0.3272 - val_accuracy: 0.8493\n",
      "Epoch 56/100\n",
      "498/498 [==============================] - 1s 3ms/step - loss: 0.3020 - accuracy: 0.8590 - val_loss: 0.3291 - val_accuracy: 0.8488\n",
      "Epoch 57/100\n",
      "498/498 [==============================] - 1s 3ms/step - loss: 0.3016 - accuracy: 0.8602 - val_loss: 0.3267 - val_accuracy: 0.8492\n",
      "Epoch 58/100\n",
      "498/498 [==============================] - 1s 3ms/step - loss: 0.3003 - accuracy: 0.8608 - val_loss: 0.3299 - val_accuracy: 0.8481\n",
      "Epoch 59/100\n",
      "498/498 [==============================] - 1s 3ms/step - loss: 0.3009 - accuracy: 0.8595 - val_loss: 0.3328 - val_accuracy: 0.8443\n",
      "Epoch 60/100\n",
      "498/498 [==============================] - 1s 3ms/step - loss: 0.2999 - accuracy: 0.8598 - val_loss: 0.3284 - val_accuracy: 0.8469\n",
      "Epoch 61/100\n",
      "498/498 [==============================] - 1s 3ms/step - loss: 0.2992 - accuracy: 0.8614 - val_loss: 0.3319 - val_accuracy: 0.8463\n",
      "Epoch 62/100\n",
      "498/498 [==============================] - 1s 3ms/step - loss: 0.2988 - accuracy: 0.8642 - val_loss: 0.3304 - val_accuracy: 0.8481\n",
      "Epoch 63/100\n",
      "498/498 [==============================] - 1s 3ms/step - loss: 0.2983 - accuracy: 0.8621 - val_loss: 0.3315 - val_accuracy: 0.8479\n",
      "Epoch 64/100\n",
      "498/498 [==============================] - 1s 3ms/step - loss: 0.2974 - accuracy: 0.8616 - val_loss: 0.3365 - val_accuracy: 0.8450\n",
      "Epoch 65/100\n",
      "498/498 [==============================] - 1s 3ms/step - loss: 0.2970 - accuracy: 0.8613 - val_loss: 0.3326 - val_accuracy: 0.8491\n",
      "Epoch 66/100\n",
      "498/498 [==============================] - 1s 3ms/step - loss: 0.2964 - accuracy: 0.8612 - val_loss: 0.3333 - val_accuracy: 0.8469\n",
      "Epoch 67/100\n",
      "498/498 [==============================] - 1s 3ms/step - loss: 0.2956 - accuracy: 0.8624 - val_loss: 0.3359 - val_accuracy: 0.8429\n",
      "Epoch 68/100\n",
      "498/498 [==============================] - 1s 3ms/step - loss: 0.2950 - accuracy: 0.8616 - val_loss: 0.3354 - val_accuracy: 0.8483\n",
      "Epoch 69/100\n",
      "498/498 [==============================] - 1s 3ms/step - loss: 0.2951 - accuracy: 0.8638 - val_loss: 0.3331 - val_accuracy: 0.8494\n",
      "Epoch 70/100\n",
      "498/498 [==============================] - 1s 3ms/step - loss: 0.2942 - accuracy: 0.8633 - val_loss: 0.3336 - val_accuracy: 0.8495\n",
      "Epoch 71/100\n",
      "498/498 [==============================] - 1s 3ms/step - loss: 0.2942 - accuracy: 0.8646 - val_loss: 0.3355 - val_accuracy: 0.8452\n",
      "Epoch 72/100\n",
      "498/498 [==============================] - 1s 3ms/step - loss: 0.2930 - accuracy: 0.8638 - val_loss: 0.3330 - val_accuracy: 0.8497\n",
      "Epoch 73/100\n",
      "498/498 [==============================] - 1s 3ms/step - loss: 0.2930 - accuracy: 0.8642 - val_loss: 0.3378 - val_accuracy: 0.8446\n",
      "Epoch 74/100\n",
      "498/498 [==============================] - 1s 3ms/step - loss: 0.2918 - accuracy: 0.8642 - val_loss: 0.3332 - val_accuracy: 0.8482\n",
      "Epoch 75/100\n",
      "498/498 [==============================] - 1s 3ms/step - loss: 0.2909 - accuracy: 0.8645 - val_loss: 0.3378 - val_accuracy: 0.8458\n",
      "Epoch 76/100\n",
      "498/498 [==============================] - 1s 3ms/step - loss: 0.2914 - accuracy: 0.8641 - val_loss: 0.3374 - val_accuracy: 0.8437\n",
      "Epoch 77/100\n",
      "498/498 [==============================] - 1s 3ms/step - loss: 0.2908 - accuracy: 0.8638 - val_loss: 0.3386 - val_accuracy: 0.8446\n",
      "Epoch 78/100\n",
      "498/498 [==============================] - 1s 3ms/step - loss: 0.2902 - accuracy: 0.8629 - val_loss: 0.3386 - val_accuracy: 0.8481\n",
      "Epoch 79/100\n",
      "498/498 [==============================] - 1s 3ms/step - loss: 0.2893 - accuracy: 0.8652 - val_loss: 0.3394 - val_accuracy: 0.8455\n",
      "Epoch 80/100\n",
      "498/498 [==============================] - 2s 3ms/step - loss: 0.2883 - accuracy: 0.8662 - val_loss: 0.3443 - val_accuracy: 0.8420\n",
      "Epoch 81/100\n",
      "498/498 [==============================] - 1s 3ms/step - loss: 0.2881 - accuracy: 0.8655 - val_loss: 0.3389 - val_accuracy: 0.8447\n",
      "Epoch 82/100\n",
      "498/498 [==============================] - 1s 3ms/step - loss: 0.2872 - accuracy: 0.8670 - val_loss: 0.3447 - val_accuracy: 0.8496\n",
      "Epoch 83/100\n",
      "498/498 [==============================] - 1s 3ms/step - loss: 0.2872 - accuracy: 0.8669 - val_loss: 0.3529 - val_accuracy: 0.8338\n",
      "Epoch 84/100\n",
      "498/498 [==============================] - 1s 3ms/step - loss: 0.2864 - accuracy: 0.8661 - val_loss: 0.3450 - val_accuracy: 0.8485\n",
      "Epoch 85/100\n",
      "498/498 [==============================] - 1s 3ms/step - loss: 0.2855 - accuracy: 0.8680 - val_loss: 0.3428 - val_accuracy: 0.8414\n",
      "Epoch 86/100\n",
      "498/498 [==============================] - 1s 3ms/step - loss: 0.2856 - accuracy: 0.8674 - val_loss: 0.3458 - val_accuracy: 0.8465\n",
      "Epoch 87/100\n",
      "498/498 [==============================] - 2s 3ms/step - loss: 0.2841 - accuracy: 0.8704 - val_loss: 0.3418 - val_accuracy: 0.8479\n",
      "Epoch 88/100\n",
      "498/498 [==============================] - 1s 3ms/step - loss: 0.2846 - accuracy: 0.8669 - val_loss: 0.3432 - val_accuracy: 0.8476\n",
      "Epoch 89/100\n",
      "498/498 [==============================] - 1s 3ms/step - loss: 0.2842 - accuracy: 0.8683 - val_loss: 0.3431 - val_accuracy: 0.8462\n",
      "Epoch 90/100\n",
      "498/498 [==============================] - 1s 3ms/step - loss: 0.2831 - accuracy: 0.8704 - val_loss: 0.3442 - val_accuracy: 0.8422\n",
      "Epoch 91/100\n",
      "498/498 [==============================] - 1s 3ms/step - loss: 0.2830 - accuracy: 0.8701 - val_loss: 0.3598 - val_accuracy: 0.8333\n",
      "Epoch 92/100\n",
      "498/498 [==============================] - 1s 3ms/step - loss: 0.2834 - accuracy: 0.8684 - val_loss: 0.3428 - val_accuracy: 0.8475\n",
      "Epoch 93/100\n",
      "498/498 [==============================] - 1s 3ms/step - loss: 0.2816 - accuracy: 0.8699 - val_loss: 0.3493 - val_accuracy: 0.8441\n",
      "Epoch 94/100\n",
      "498/498 [==============================] - 1s 3ms/step - loss: 0.2812 - accuracy: 0.8688 - val_loss: 0.3488 - val_accuracy: 0.8456\n",
      "Epoch 95/100\n",
      "498/498 [==============================] - 1s 3ms/step - loss: 0.2802 - accuracy: 0.8682 - val_loss: 0.3436 - val_accuracy: 0.8438\n",
      "Epoch 96/100\n",
      "498/498 [==============================] - 1s 3ms/step - loss: 0.2801 - accuracy: 0.8711 - val_loss: 0.3471 - val_accuracy: 0.8436\n",
      "Epoch 97/100\n",
      "498/498 [==============================] - 1s 3ms/step - loss: 0.2787 - accuracy: 0.8712 - val_loss: 0.3458 - val_accuracy: 0.8457\n",
      "Epoch 98/100\n",
      "498/498 [==============================] - 2s 3ms/step - loss: 0.2787 - accuracy: 0.8711 - val_loss: 0.3480 - val_accuracy: 0.8444\n",
      "Epoch 99/100\n",
      "498/498 [==============================] - 1s 3ms/step - loss: 0.2786 - accuracy: 0.8707 - val_loss: 0.3570 - val_accuracy: 0.8382\n",
      "Epoch 100/100\n",
      "498/498 [==============================] - 2s 3ms/step - loss: 0.2777 - accuracy: 0.8712 - val_loss: 0.3526 - val_accuracy: 0.8452\n"
     ]
    },
    {
     "data": {
      "text/plain": [
       "<keras.callbacks.History at 0x7f27e1548610>"
      ]
     },
     "execution_count": 22,
     "metadata": {},
     "output_type": "execute_result"
    }
   ],
   "source": [
    "model.fit(X_train, y_train, validation_data= (X_test, y_test), batch_size=32,epochs=100, callbacks=[history_Adadelta])"
   ]
  },
  {
   "cell_type": "code",
   "execution_count": 23,
   "metadata": {
    "colab": {
     "base_uri": "https://localhost:8080/",
     "height": 513
    },
    "id": "65Z-LvXGeBl9",
    "outputId": "bb9a40f3-9875-4d76-dbb9-d8606f7513f5"
   },
   "outputs": [
    {
     "data": {
      "image/png": "[encoded data removed]",
      "text/plain": [
       "<Figure size 432x288 with 1 Axes>"
      ]
     },
     "metadata": {
      "needs_background": "light"
     },
     "output_type": "display_data"
    },
    {
     "data": {
      "image/png": "[encoded data removed]",
      "text/plain": [
       "<Figure size 432x288 with 1 Axes>"
      ]
     },
     "metadata": {
      "needs_background": "light"
     },
     "output_type": "display_data"
    }
   ],
   "source": [
    "plt.plot(history_Adadelta.history['accuracy'], label = \"tarina\")\n",
    "plt.plot(history_Adadelta.history['val_accuracy'], label = \"test\")\n",
    "plt.legend()\n",
    "plt.show()\n",
    "plt.plot(history_Adadelta.history['loss'], label = \"tarina\")\n",
    "plt.plot(history_Adadelta.history['val_loss'], label = \"test\")\n",
    "plt.legend()\n",
    "plt.show()"
   ]
  },
  {
   "cell_type": "markdown",
   "metadata": {
    "id": "3Dcu2jzrb-gC"
   },
   "source": [
    "# Adam"
   ]
  },
  {
   "cell_type": "code",
   "execution_count": 24,
   "metadata": {
    "colab": {
     "base_uri": "https://localhost:8080/"
    },
    "id": "gTtp_fVcb-gD",
    "outputId": "858a180e-0442-4729-e980-b2850218ec2e"
   },
   "outputs": [
    {
     "name": "stdout",
     "output_type": "stream",
     "text": [
      "Model: \"sequential_6\"\n",
      "_________________________________________________________________\n",
      " Layer (type)                Output Shape              Param #   \n",
      "=================================================================\n",
      " dense_24 (Dense)            (None, 100)               4200      \n",
      "                                                                 \n",
      " dense_25 (Dense)            (None, 50)                5050      \n",
      "                                                                 \n",
      " dense_26 (Dense)            (None, 10)                510       \n",
      "                                                                 \n",
      " dense_27 (Dense)            (None, 1)                 11        \n",
      "                                                                 \n",
      "=================================================================\n",
      "Total params: 9,771\n",
      "Trainable params: 9,771\n",
      "Non-trainable params: 0\n",
      "_________________________________________________________________\n"
     ]
    }
   ],
   "source": [
    "history_Adam1 = History()\n",
    "model = Sequential()\n",
    "model.add(Dense(100,activation=\"sigmoid\",input_shape=(X_train.shape[1],)))\n",
    "model.add(Dense(50,activation=\"sigmoid\"))\n",
    "model.add(Dense(10,activation=\"sigmoid\"))\n",
    "model.add(Dense(1,activation=\"sigmoid\"))\n",
    "model.summary()\n",
    "Adam1 = keras.optimizers.Adam(learning_rate=0.001, beta_1=0.9, beta_2=0.999, amsgrad=False)\n",
    "model.compile(loss=\"binary_crossentropy\",optimizer=Adam1, metrics=[\"accuracy\"])"
   ]
  },
  {
   "cell_type": "code",
   "execution_count": 25,
   "metadata": {
    "colab": {
     "base_uri": "https://localhost:8080/"
    },
    "id": "WLc43S_Ud8xC",
    "outputId": "c9383b7e-db76-4f5e-c6d8-4acb852458dc"
   },
   "outputs": [
    {
     "name": "stdout",
     "output_type": "stream",
     "text": [
      "Epoch 1/100\n",
      "498/498 [==============================] - 2s 4ms/step - loss: 0.4576 - accuracy: 0.7969 - val_loss: 0.3740 - val_accuracy: 0.8380\n",
      "Epoch 2/100\n",
      "498/498 [==============================] - 2s 3ms/step - loss: 0.3615 - accuracy: 0.8381 - val_loss: 0.3521 - val_accuracy: 0.8377\n",
      "Epoch 3/100\n",
      "498/498 [==============================] - 2s 3ms/step - loss: 0.3447 - accuracy: 0.8425 - val_loss: 0.3475 - val_accuracy: 0.8436\n",
      "Epoch 4/100\n",
      "498/498 [==============================] - 2s 3ms/step - loss: 0.3379 - accuracy: 0.8441 - val_loss: 0.3342 - val_accuracy: 0.8467\n",
      "Epoch 5/100\n",
      "498/498 [==============================] - 2s 3ms/step - loss: 0.3330 - accuracy: 0.8454 - val_loss: 0.3299 - val_accuracy: 0.8483\n",
      "Epoch 6/100\n",
      "498/498 [==============================] - 2s 3ms/step - loss: 0.3299 - accuracy: 0.8483 - val_loss: 0.3297 - val_accuracy: 0.8477\n",
      "Epoch 7/100\n",
      "498/498 [==============================] - 2s 3ms/step - loss: 0.3273 - accuracy: 0.8488 - val_loss: 0.3277 - val_accuracy: 0.8475\n",
      "Epoch 8/100\n",
      "498/498 [==============================] - 1s 3ms/step - loss: 0.3251 - accuracy: 0.8505 - val_loss: 0.3269 - val_accuracy: 0.8483\n",
      "Epoch 9/100\n",
      "498/498 [==============================] - 2s 3ms/step - loss: 0.3240 - accuracy: 0.8496 - val_loss: 0.3269 - val_accuracy: 0.8465\n",
      "Epoch 10/100\n",
      "498/498 [==============================] - 2s 3ms/step - loss: 0.3229 - accuracy: 0.8500 - val_loss: 0.3252 - val_accuracy: 0.8472\n",
      "Epoch 11/100\n",
      "498/498 [==============================] - 2s 3ms/step - loss: 0.3221 - accuracy: 0.8512 - val_loss: 0.3247 - val_accuracy: 0.8487\n",
      "Epoch 12/100\n",
      "498/498 [==============================] - 2s 3ms/step - loss: 0.3206 - accuracy: 0.8514 - val_loss: 0.3239 - val_accuracy: 0.8480\n",
      "Epoch 13/100\n",
      "498/498 [==============================] - 2s 3ms/step - loss: 0.3194 - accuracy: 0.8525 - val_loss: 0.3257 - val_accuracy: 0.8491\n",
      "Epoch 14/100\n",
      "498/498 [==============================] - 2s 3ms/step - loss: 0.3186 - accuracy: 0.8504 - val_loss: 0.3236 - val_accuracy: 0.8484\n",
      "Epoch 15/100\n",
      "498/498 [==============================] - 2s 3ms/step - loss: 0.3171 - accuracy: 0.8520 - val_loss: 0.3310 - val_accuracy: 0.8471\n",
      "Epoch 16/100\n",
      "498/498 [==============================] - 2s 3ms/step - loss: 0.3160 - accuracy: 0.8535 - val_loss: 0.3253 - val_accuracy: 0.8473\n",
      "Epoch 17/100\n",
      "498/498 [==============================] - 2s 3ms/step - loss: 0.3152 - accuracy: 0.8543 - val_loss: 0.3223 - val_accuracy: 0.8497\n",
      "Epoch 18/100\n",
      "498/498 [==============================] - 2s 3ms/step - loss: 0.3143 - accuracy: 0.8560 - val_loss: 0.3254 - val_accuracy: 0.8495\n",
      "Epoch 19/100\n",
      "498/498 [==============================] - 2s 3ms/step - loss: 0.3137 - accuracy: 0.8537 - val_loss: 0.3224 - val_accuracy: 0.8498\n",
      "Epoch 20/100\n",
      "498/498 [==============================] - 2s 3ms/step - loss: 0.3118 - accuracy: 0.8555 - val_loss: 0.3244 - val_accuracy: 0.8487\n",
      "Epoch 21/100\n",
      "498/498 [==============================] - 2s 3ms/step - loss: 0.3111 - accuracy: 0.8547 - val_loss: 0.3247 - val_accuracy: 0.8480\n",
      "Epoch 22/100\n",
      "498/498 [==============================] - 2s 3ms/step - loss: 0.3100 - accuracy: 0.8569 - val_loss: 0.3221 - val_accuracy: 0.8487\n",
      "Epoch 23/100\n",
      "498/498 [==============================] - 1s 3ms/step - loss: 0.3090 - accuracy: 0.8568 - val_loss: 0.3235 - val_accuracy: 0.8486\n",
      "Epoch 24/100\n",
      "498/498 [==============================] - 2s 3ms/step - loss: 0.3082 - accuracy: 0.8562 - val_loss: 0.3225 - val_accuracy: 0.8501\n",
      "Epoch 25/100\n",
      "498/498 [==============================] - 1s 3ms/step - loss: 0.3073 - accuracy: 0.8545 - val_loss: 0.3244 - val_accuracy: 0.8495\n",
      "Epoch 26/100\n",
      "498/498 [==============================] - 1s 3ms/step - loss: 0.3067 - accuracy: 0.8565 - val_loss: 0.3234 - val_accuracy: 0.8498\n",
      "Epoch 27/100\n",
      "498/498 [==============================] - 1s 3ms/step - loss: 0.3060 - accuracy: 0.8579 - val_loss: 0.3260 - val_accuracy: 0.8486\n",
      "Epoch 28/100\n",
      "498/498 [==============================] - 2s 3ms/step - loss: 0.3044 - accuracy: 0.8569 - val_loss: 0.3252 - val_accuracy: 0.8489\n",
      "Epoch 29/100\n",
      "498/498 [==============================] - 2s 3ms/step - loss: 0.3029 - accuracy: 0.8579 - val_loss: 0.3247 - val_accuracy: 0.8495\n",
      "Epoch 30/100\n",
      "498/498 [==============================] - 2s 3ms/step - loss: 0.3031 - accuracy: 0.8579 - val_loss: 0.3247 - val_accuracy: 0.8486\n",
      "Epoch 31/100\n",
      "498/498 [==============================] - 2s 4ms/step - loss: 0.3017 - accuracy: 0.8587 - val_loss: 0.3273 - val_accuracy: 0.8489\n",
      "Epoch 32/100\n",
      "498/498 [==============================] - 2s 3ms/step - loss: 0.3009 - accuracy: 0.8576 - val_loss: 0.3298 - val_accuracy: 0.8464\n",
      "Epoch 33/100\n",
      "498/498 [==============================] - 1s 3ms/step - loss: 0.2994 - accuracy: 0.8598 - val_loss: 0.3284 - val_accuracy: 0.8507\n",
      "Epoch 34/100\n",
      "498/498 [==============================] - 2s 3ms/step - loss: 0.2992 - accuracy: 0.8613 - val_loss: 0.3268 - val_accuracy: 0.8492\n",
      "Epoch 35/100\n",
      "498/498 [==============================] - 2s 3ms/step - loss: 0.2972 - accuracy: 0.8600 - val_loss: 0.3333 - val_accuracy: 0.8433\n",
      "Epoch 36/100\n",
      "498/498 [==============================] - 2s 3ms/step - loss: 0.2963 - accuracy: 0.8614 - val_loss: 0.3358 - val_accuracy: 0.8466\n",
      "Epoch 37/100\n",
      "498/498 [==============================] - 2s 3ms/step - loss: 0.2957 - accuracy: 0.8606 - val_loss: 0.3308 - val_accuracy: 0.8481\n",
      "Epoch 38/100\n",
      "498/498 [==============================] - 2s 3ms/step - loss: 0.2947 - accuracy: 0.8634 - val_loss: 0.3295 - val_accuracy: 0.8494\n",
      "Epoch 39/100\n",
      "498/498 [==============================] - 1s 3ms/step - loss: 0.2930 - accuracy: 0.8632 - val_loss: 0.3309 - val_accuracy: 0.8483\n",
      "Epoch 40/100\n",
      "498/498 [==============================] - 2s 3ms/step - loss: 0.2926 - accuracy: 0.8628 - val_loss: 0.3329 - val_accuracy: 0.8480\n",
      "Epoch 41/100\n",
      "498/498 [==============================] - 1s 3ms/step - loss: 0.2917 - accuracy: 0.8623 - val_loss: 0.3320 - val_accuracy: 0.8473\n",
      "Epoch 42/100\n",
      "498/498 [==============================] - 2s 3ms/step - loss: 0.2898 - accuracy: 0.8629 - val_loss: 0.3333 - val_accuracy: 0.8462\n",
      "Epoch 43/100\n",
      "498/498 [==============================] - 2s 3ms/step - loss: 0.2896 - accuracy: 0.8635 - val_loss: 0.3346 - val_accuracy: 0.8457\n",
      "Epoch 44/100\n",
      "498/498 [==============================] - 2s 3ms/step - loss: 0.2878 - accuracy: 0.8632 - val_loss: 0.3346 - val_accuracy: 0.8472\n",
      "Epoch 45/100\n",
      "498/498 [==============================] - 1s 3ms/step - loss: 0.2868 - accuracy: 0.8649 - val_loss: 0.3382 - val_accuracy: 0.8474\n",
      "Epoch 46/100\n",
      "498/498 [==============================] - 1s 3ms/step - loss: 0.2859 - accuracy: 0.8663 - val_loss: 0.3390 - val_accuracy: 0.8476\n",
      "Epoch 47/100\n",
      "498/498 [==============================] - 1s 3ms/step - loss: 0.2852 - accuracy: 0.8662 - val_loss: 0.3381 - val_accuracy: 0.8473\n",
      "Epoch 48/100\n",
      "498/498 [==============================] - 2s 3ms/step - loss: 0.2839 - accuracy: 0.8665 - val_loss: 0.3386 - val_accuracy: 0.8452\n",
      "Epoch 49/100\n",
      "498/498 [==============================] - 2s 3ms/step - loss: 0.2834 - accuracy: 0.8661 - val_loss: 0.3497 - val_accuracy: 0.8400\n",
      "Epoch 50/100\n",
      "498/498 [==============================] - 2s 3ms/step - loss: 0.2824 - accuracy: 0.8661 - val_loss: 0.3414 - val_accuracy: 0.8459\n",
      "Epoch 51/100\n",
      "498/498 [==============================] - 2s 3ms/step - loss: 0.2809 - accuracy: 0.8665 - val_loss: 0.3432 - val_accuracy: 0.8463\n",
      "Epoch 52/100\n",
      "498/498 [==============================] - 2s 3ms/step - loss: 0.2798 - accuracy: 0.8677 - val_loss: 0.3461 - val_accuracy: 0.8455\n",
      "Epoch 53/100\n",
      "498/498 [==============================] - 1s 3ms/step - loss: 0.2788 - accuracy: 0.8673 - val_loss: 0.3481 - val_accuracy: 0.8464\n",
      "Epoch 54/100\n",
      "498/498 [==============================] - 2s 3ms/step - loss: 0.2779 - accuracy: 0.8685 - val_loss: 0.3476 - val_accuracy: 0.8436\n",
      "Epoch 55/100\n",
      "498/498 [==============================] - 2s 3ms/step - loss: 0.2767 - accuracy: 0.8677 - val_loss: 0.3488 - val_accuracy: 0.8457\n",
      "Epoch 56/100\n",
      "498/498 [==============================] - 2s 3ms/step - loss: 0.2763 - accuracy: 0.8696 - val_loss: 0.3505 - val_accuracy: 0.8451\n",
      "Epoch 57/100\n",
      "498/498 [==============================] - 2s 3ms/step - loss: 0.2756 - accuracy: 0.8669 - val_loss: 0.3467 - val_accuracy: 0.8446\n",
      "Epoch 58/100\n",
      "498/498 [==============================] - 2s 3ms/step - loss: 0.2737 - accuracy: 0.8717 - val_loss: 0.3497 - val_accuracy: 0.8458\n",
      "Epoch 59/100\n",
      "498/498 [==============================] - 2s 3ms/step - loss: 0.2731 - accuracy: 0.8690 - val_loss: 0.3489 - val_accuracy: 0.8444\n",
      "Epoch 60/100\n",
      "498/498 [==============================] - 1s 3ms/step - loss: 0.2714 - accuracy: 0.8697 - val_loss: 0.3569 - val_accuracy: 0.8450\n",
      "Epoch 61/100\n",
      "498/498 [==============================] - 1s 3ms/step - loss: 0.2707 - accuracy: 0.8718 - val_loss: 0.3550 - val_accuracy: 0.8452\n",
      "Epoch 62/100\n",
      "498/498 [==============================] - 2s 3ms/step - loss: 0.2705 - accuracy: 0.8702 - val_loss: 0.3629 - val_accuracy: 0.8448\n",
      "Epoch 63/100\n",
      "498/498 [==============================] - 2s 3ms/step - loss: 0.2686 - accuracy: 0.8726 - val_loss: 0.3595 - val_accuracy: 0.8433\n",
      "Epoch 64/100\n",
      "498/498 [==============================] - 2s 3ms/step - loss: 0.2678 - accuracy: 0.8720 - val_loss: 0.3668 - val_accuracy: 0.8444\n",
      "Epoch 65/100\n",
      "498/498 [==============================] - 2s 3ms/step - loss: 0.2665 - accuracy: 0.8718 - val_loss: 0.3639 - val_accuracy: 0.8421\n",
      "Epoch 66/100\n",
      "498/498 [==============================] - 2s 3ms/step - loss: 0.2656 - accuracy: 0.8722 - val_loss: 0.3656 - val_accuracy: 0.8430\n",
      "Epoch 67/100\n",
      "498/498 [==============================] - 2s 3ms/step - loss: 0.2646 - accuracy: 0.8731 - val_loss: 0.3706 - val_accuracy: 0.8445\n",
      "Epoch 68/100\n",
      "498/498 [==============================] - 2s 3ms/step - loss: 0.2640 - accuracy: 0.8730 - val_loss: 0.3750 - val_accuracy: 0.8350\n",
      "Epoch 69/100\n",
      "498/498 [==============================] - 2s 3ms/step - loss: 0.2632 - accuracy: 0.8731 - val_loss: 0.3673 - val_accuracy: 0.8420\n",
      "Epoch 70/100\n",
      "498/498 [==============================] - 2s 3ms/step - loss: 0.2625 - accuracy: 0.8756 - val_loss: 0.3684 - val_accuracy: 0.8434\n",
      "Epoch 71/100\n",
      "498/498 [==============================] - 2s 3ms/step - loss: 0.2608 - accuracy: 0.8748 - val_loss: 0.3743 - val_accuracy: 0.8424\n",
      "Epoch 72/100\n",
      "498/498 [==============================] - 2s 3ms/step - loss: 0.2607 - accuracy: 0.8766 - val_loss: 0.3772 - val_accuracy: 0.8435\n",
      "Epoch 73/100\n",
      "498/498 [==============================] - 2s 3ms/step - loss: 0.2590 - accuracy: 0.8773 - val_loss: 0.3778 - val_accuracy: 0.8396\n",
      "Epoch 74/100\n",
      "498/498 [==============================] - 2s 3ms/step - loss: 0.2590 - accuracy: 0.8743 - val_loss: 0.3776 - val_accuracy: 0.8426\n",
      "Epoch 75/100\n",
      "498/498 [==============================] - 2s 3ms/step - loss: 0.2576 - accuracy: 0.8758 - val_loss: 0.3840 - val_accuracy: 0.8430\n",
      "Epoch 76/100\n",
      "498/498 [==============================] - 2s 3ms/step - loss: 0.2578 - accuracy: 0.8750 - val_loss: 0.3843 - val_accuracy: 0.8391\n",
      "Epoch 77/100\n",
      "498/498 [==============================] - 2s 3ms/step - loss: 0.2563 - accuracy: 0.8766 - val_loss: 0.3787 - val_accuracy: 0.8404\n",
      "Epoch 78/100\n",
      "498/498 [==============================] - 2s 3ms/step - loss: 0.2552 - accuracy: 0.8776 - val_loss: 0.3892 - val_accuracy: 0.8420\n",
      "Epoch 79/100\n",
      "498/498 [==============================] - 2s 3ms/step - loss: 0.2554 - accuracy: 0.8777 - val_loss: 0.3822 - val_accuracy: 0.8442\n",
      "Epoch 80/100\n",
      "498/498 [==============================] - 2s 3ms/step - loss: 0.2544 - accuracy: 0.8779 - val_loss: 0.3851 - val_accuracy: 0.8423\n",
      "Epoch 81/100\n",
      "498/498 [==============================] - 2s 3ms/step - loss: 0.2526 - accuracy: 0.8790 - val_loss: 0.3829 - val_accuracy: 0.8410\n",
      "Epoch 82/100\n",
      "498/498 [==============================] - 2s 3ms/step - loss: 0.2527 - accuracy: 0.8794 - val_loss: 0.3869 - val_accuracy: 0.8414\n",
      "Epoch 83/100\n",
      "498/498 [==============================] - 2s 3ms/step - loss: 0.2512 - accuracy: 0.8795 - val_loss: 0.3998 - val_accuracy: 0.8435\n",
      "Epoch 84/100\n",
      "498/498 [==============================] - 1s 3ms/step - loss: 0.2515 - accuracy: 0.8797 - val_loss: 0.3931 - val_accuracy: 0.8428\n",
      "Epoch 85/100\n",
      "498/498 [==============================] - 2s 3ms/step - loss: 0.2507 - accuracy: 0.8795 - val_loss: 0.3916 - val_accuracy: 0.8380\n",
      "Epoch 86/100\n",
      "498/498 [==============================] - 1s 3ms/step - loss: 0.2496 - accuracy: 0.8809 - val_loss: 0.4014 - val_accuracy: 0.8432\n",
      "Epoch 87/100\n",
      "498/498 [==============================] - 2s 3ms/step - loss: 0.2494 - accuracy: 0.8779 - val_loss: 0.3944 - val_accuracy: 0.8392\n",
      "Epoch 88/100\n",
      "498/498 [==============================] - 2s 3ms/step - loss: 0.2477 - accuracy: 0.8813 - val_loss: 0.4047 - val_accuracy: 0.8419\n",
      "Epoch 89/100\n",
      "498/498 [==============================] - 2s 3ms/step - loss: 0.2467 - accuracy: 0.8810 - val_loss: 0.4046 - val_accuracy: 0.8377\n",
      "Epoch 90/100\n",
      "498/498 [==============================] - 2s 3ms/step - loss: 0.2463 - accuracy: 0.8810 - val_loss: 0.4117 - val_accuracy: 0.8361\n",
      "Epoch 91/100\n",
      "498/498 [==============================] - 2s 3ms/step - loss: 0.2459 - accuracy: 0.8820 - val_loss: 0.4074 - val_accuracy: 0.8386\n",
      "Epoch 92/100\n",
      "498/498 [==============================] - 2s 3ms/step - loss: 0.2448 - accuracy: 0.8813 - val_loss: 0.4052 - val_accuracy: 0.8413\n",
      "Epoch 93/100\n",
      "498/498 [==============================] - 2s 3ms/step - loss: 0.2435 - accuracy: 0.8812 - val_loss: 0.4144 - val_accuracy: 0.8413\n",
      "Epoch 94/100\n",
      "498/498 [==============================] - 2s 3ms/step - loss: 0.2438 - accuracy: 0.8819 - val_loss: 0.4295 - val_accuracy: 0.8274\n",
      "Epoch 95/100\n",
      "498/498 [==============================] - 2s 3ms/step - loss: 0.2432 - accuracy: 0.8819 - val_loss: 0.4132 - val_accuracy: 0.8404\n",
      "Epoch 96/100\n",
      "498/498 [==============================] - 2s 3ms/step - loss: 0.2424 - accuracy: 0.8822 - val_loss: 0.4137 - val_accuracy: 0.8384\n",
      "Epoch 97/100\n",
      "498/498 [==============================] - 2s 3ms/step - loss: 0.2409 - accuracy: 0.8829 - val_loss: 0.4183 - val_accuracy: 0.8321\n",
      "Epoch 98/100\n",
      "498/498 [==============================] - 2s 3ms/step - loss: 0.2414 - accuracy: 0.8831 - val_loss: 0.4172 - val_accuracy: 0.8377\n",
      "Epoch 99/100\n",
      "498/498 [==============================] - 2s 3ms/step - loss: 0.2392 - accuracy: 0.8848 - val_loss: 0.4301 - val_accuracy: 0.8396\n",
      "Epoch 100/100\n",
      "498/498 [==============================] - 2s 3ms/step - loss: 0.2402 - accuracy: 0.8840 - val_loss: 0.4242 - val_accuracy: 0.8410\n"
     ]
    },
    {
     "data": {
      "text/plain": [
       "<keras.callbacks.History at 0x7f27e1279650>"
      ]
     },
     "execution_count": 25,
     "metadata": {},
     "output_type": "execute_result"
    }
   ],
   "source": [
    "model.fit(X_train, y_train, validation_data= (X_test, y_test), batch_size=32,epochs=100, callbacks=[history_Adam1])"
   ]
  },
  {
   "cell_type": "code",
   "execution_count": 26,
   "metadata": {
    "colab": {
     "base_uri": "https://localhost:8080/",
     "height": 513
    },
    "id": "q6Ulbv7ieADF",
    "outputId": "2ed7c892-70be-4226-b88b-5b2b5c8e1266"
   },
   "outputs": [
    {
     "data": {
      "image/png": "[encoded data removed]",
      "text/plain": [
       "<Figure size 432x288 with 1 Axes>"
      ]
     },
     "metadata": {
      "needs_background": "light"
     },
     "output_type": "display_data"
    },
    {
     "data": {
      "image/png": "[encoded data removed]",
      "text/plain": [
       "<Figure size 432x288 with 1 Axes>"
      ]
     },
     "metadata": {
      "needs_background": "light"
     },
     "output_type": "display_data"
    }
   ],
   "source": [
    "plt.plot(history_Adam1.history['accuracy'], label = \"tarina\")\n",
    "plt.plot(history_Adam1.history['val_accuracy'], label = \"test\")\n",
    "plt.legend()\n",
    "plt.show()\n",
    "plt.plot(history_Adam1.history['loss'], label = \"tarina\")\n",
    "plt.plot(history_Adam1.history['val_loss'], label = \"test\")\n",
    "plt.legend()\n",
    "plt.show()"
   ]
  },
  {
   "cell_type": "markdown",
   "metadata": {
    "id": "uVdpeLSab-gD"
   },
   "source": [
    "# Adam"
   ]
  },
  {
   "cell_type": "code",
   "execution_count": 27,
   "metadata": {
    "colab": {
     "base_uri": "https://localhost:8080/"
    },
    "id": "vL3akNR1b-gD",
    "outputId": "d7f8ae54-efb9-4f22-b24c-de1fb371ad4d"
   },
   "outputs": [
    {
     "name": "stdout",
     "output_type": "stream",
     "text": [
      "Model: \"sequential_7\"\n",
      "_________________________________________________________________\n",
      " Layer (type)                Output Shape              Param #   \n",
      "=================================================================\n",
      " dense_28 (Dense)            (None, 100)               4200      \n",
      "                                                                 \n",
      " dense_29 (Dense)            (None, 50)                5050      \n",
      "                                                                 \n",
      " dense_30 (Dense)            (None, 10)                510       \n",
      "                                                                 \n",
      " dense_31 (Dense)            (None, 1)                 11        \n",
      "                                                                 \n",
      "=================================================================\n",
      "Total params: 9,771\n",
      "Trainable params: 9,771\n",
      "Non-trainable params: 0\n",
      "_________________________________________________________________\n"
     ]
    }
   ],
   "source": [
    "history_Adam2 = History()\n",
    "model = Sequential()\n",
    "model.add(Dense(100,activation=\"sigmoid\",input_shape=(X_train.shape[1],)))\n",
    "model.add(Dense(50,activation=\"sigmoid\"))\n",
    "model.add(Dense(10,activation=\"sigmoid\"))\n",
    "model.add(Dense(1,activation=\"sigmoid\"))\n",
    "model.summary()\n",
    "Adam2 = keras.optimizers.Adam(learning_rate=0.001, beta_1=0.9, beta_2=0.999, amsgrad=False)\n",
    "model.compile(loss=\"binary_crossentropy\",optimizer=Adam2, metrics=[\"accuracy\"])"
   ]
  },
  {
   "cell_type": "code",
   "execution_count": 28,
   "metadata": {
    "colab": {
     "base_uri": "https://localhost:8080/"
    },
    "id": "h628KUtSePRn",
    "outputId": "cf836186-ec96-4706-ecb7-b157b79b5232"
   },
   "outputs": [
    {
     "name": "stdout",
     "output_type": "stream",
     "text": [
      "Epoch 1/100\n",
      "498/498 [==============================] - 2s 3ms/step - loss: 0.4586 - accuracy: 0.7806 - val_loss: 0.3653 - val_accuracy: 0.8412\n",
      "Epoch 2/100\n",
      "498/498 [==============================] - 2s 3ms/step - loss: 0.3548 - accuracy: 0.8380 - val_loss: 0.3444 - val_accuracy: 0.8425\n",
      "Epoch 3/100\n",
      "498/498 [==============================] - 1s 3ms/step - loss: 0.3421 - accuracy: 0.8413 - val_loss: 0.3371 - val_accuracy: 0.8445\n",
      "Epoch 4/100\n",
      "498/498 [==============================] - 1s 3ms/step - loss: 0.3356 - accuracy: 0.8446 - val_loss: 0.3369 - val_accuracy: 0.8457\n",
      "Epoch 5/100\n",
      "498/498 [==============================] - 1s 3ms/step - loss: 0.3316 - accuracy: 0.8466 - val_loss: 0.3298 - val_accuracy: 0.8485\n",
      "Epoch 6/100\n",
      "498/498 [==============================] - 1s 3ms/step - loss: 0.3286 - accuracy: 0.8469 - val_loss: 0.3312 - val_accuracy: 0.8465\n",
      "Epoch 7/100\n",
      "498/498 [==============================] - 1s 3ms/step - loss: 0.3262 - accuracy: 0.8492 - val_loss: 0.3268 - val_accuracy: 0.8477\n",
      "Epoch 8/100\n",
      "498/498 [==============================] - 1s 3ms/step - loss: 0.3247 - accuracy: 0.8495 - val_loss: 0.3308 - val_accuracy: 0.8464\n",
      "Epoch 9/100\n",
      "498/498 [==============================] - 2s 3ms/step - loss: 0.3236 - accuracy: 0.8500 - val_loss: 0.3273 - val_accuracy: 0.8481\n",
      "Epoch 10/100\n",
      "498/498 [==============================] - 2s 3ms/step - loss: 0.3223 - accuracy: 0.8500 - val_loss: 0.3291 - val_accuracy: 0.8485\n",
      "Epoch 11/100\n",
      "498/498 [==============================] - 2s 3ms/step - loss: 0.3210 - accuracy: 0.8510 - val_loss: 0.3275 - val_accuracy: 0.8489\n",
      "Epoch 12/100\n",
      "498/498 [==============================] - 2s 3ms/step - loss: 0.3205 - accuracy: 0.8512 - val_loss: 0.3244 - val_accuracy: 0.8494\n",
      "Epoch 13/100\n",
      "498/498 [==============================] - 2s 3ms/step - loss: 0.3188 - accuracy: 0.8528 - val_loss: 0.3243 - val_accuracy: 0.8492\n",
      "Epoch 14/100\n",
      "498/498 [==============================] - 2s 3ms/step - loss: 0.3177 - accuracy: 0.8525 - val_loss: 0.3224 - val_accuracy: 0.8479\n",
      "Epoch 15/100\n",
      "498/498 [==============================] - 2s 3ms/step - loss: 0.3158 - accuracy: 0.8537 - val_loss: 0.3234 - val_accuracy: 0.8495\n",
      "Epoch 16/100\n",
      "498/498 [==============================] - 2s 3ms/step - loss: 0.3158 - accuracy: 0.8546 - val_loss: 0.3223 - val_accuracy: 0.8490\n",
      "Epoch 17/100\n",
      "498/498 [==============================] - 2s 3ms/step - loss: 0.3139 - accuracy: 0.8537 - val_loss: 0.3218 - val_accuracy: 0.8484\n",
      "Epoch 18/100\n",
      "498/498 [==============================] - 2s 3ms/step - loss: 0.3134 - accuracy: 0.8549 - val_loss: 0.3222 - val_accuracy: 0.8496\n",
      "Epoch 19/100\n",
      "498/498 [==============================] - 1s 3ms/step - loss: 0.3113 - accuracy: 0.8542 - val_loss: 0.3225 - val_accuracy: 0.8499\n",
      "Epoch 20/100\n",
      "498/498 [==============================] - 1s 3ms/step - loss: 0.3105 - accuracy: 0.8557 - val_loss: 0.3222 - val_accuracy: 0.8509\n",
      "Epoch 21/100\n",
      "498/498 [==============================] - 2s 3ms/step - loss: 0.3101 - accuracy: 0.8547 - val_loss: 0.3255 - val_accuracy: 0.8486\n",
      "Epoch 22/100\n",
      "498/498 [==============================] - 2s 3ms/step - loss: 0.3091 - accuracy: 0.8578 - val_loss: 0.3263 - val_accuracy: 0.8483\n",
      "Epoch 23/100\n",
      "498/498 [==============================] - 1s 3ms/step - loss: 0.3079 - accuracy: 0.8559 - val_loss: 0.3249 - val_accuracy: 0.8495\n",
      "Epoch 24/100\n",
      "498/498 [==============================] - 2s 3ms/step - loss: 0.3070 - accuracy: 0.8554 - val_loss: 0.3275 - val_accuracy: 0.8480\n",
      "Epoch 25/100\n",
      "498/498 [==============================] - 1s 3ms/step - loss: 0.3059 - accuracy: 0.8586 - val_loss: 0.3249 - val_accuracy: 0.8508\n",
      "Epoch 26/100\n",
      "498/498 [==============================] - 1s 3ms/step - loss: 0.3047 - accuracy: 0.8571 - val_loss: 0.3229 - val_accuracy: 0.8500\n",
      "Epoch 27/100\n",
      "498/498 [==============================] - 1s 3ms/step - loss: 0.3035 - accuracy: 0.8581 - val_loss: 0.3291 - val_accuracy: 0.8476\n",
      "Epoch 28/100\n",
      "498/498 [==============================] - 1s 3ms/step - loss: 0.3030 - accuracy: 0.8567 - val_loss: 0.3345 - val_accuracy: 0.8433\n",
      "Epoch 29/100\n",
      "498/498 [==============================] - 2s 3ms/step - loss: 0.3016 - accuracy: 0.8577 - val_loss: 0.3318 - val_accuracy: 0.8452\n",
      "Epoch 30/100\n",
      "498/498 [==============================] - 1s 3ms/step - loss: 0.3006 - accuracy: 0.8586 - val_loss: 0.3263 - val_accuracy: 0.8494\n",
      "Epoch 31/100\n",
      "498/498 [==============================] - 2s 3ms/step - loss: 0.2991 - accuracy: 0.8594 - val_loss: 0.3339 - val_accuracy: 0.8475\n",
      "Epoch 32/100\n",
      "498/498 [==============================] - 1s 3ms/step - loss: 0.2982 - accuracy: 0.8608 - val_loss: 0.3277 - val_accuracy: 0.8480\n",
      "Epoch 33/100\n",
      "498/498 [==============================] - 2s 3ms/step - loss: 0.2982 - accuracy: 0.8598 - val_loss: 0.3291 - val_accuracy: 0.8481\n",
      "Epoch 34/100\n",
      "498/498 [==============================] - 1s 3ms/step - loss: 0.2972 - accuracy: 0.8605 - val_loss: 0.3305 - val_accuracy: 0.8474\n",
      "Epoch 35/100\n",
      "498/498 [==============================] - 2s 3ms/step - loss: 0.2956 - accuracy: 0.8621 - val_loss: 0.3272 - val_accuracy: 0.8487\n",
      "Epoch 36/100\n",
      "498/498 [==============================] - 2s 3ms/step - loss: 0.2940 - accuracy: 0.8618 - val_loss: 0.3300 - val_accuracy: 0.8481\n",
      "Epoch 37/100\n",
      "498/498 [==============================] - 2s 3ms/step - loss: 0.2928 - accuracy: 0.8627 - val_loss: 0.3359 - val_accuracy: 0.8481\n",
      "Epoch 38/100\n",
      "498/498 [==============================] - 2s 3ms/step - loss: 0.2925 - accuracy: 0.8628 - val_loss: 0.3311 - val_accuracy: 0.8483\n",
      "Epoch 39/100\n",
      "498/498 [==============================] - 1s 3ms/step - loss: 0.2913 - accuracy: 0.8637 - val_loss: 0.3363 - val_accuracy: 0.8441\n",
      "Epoch 40/100\n",
      "498/498 [==============================] - 1s 3ms/step - loss: 0.2902 - accuracy: 0.8640 - val_loss: 0.3363 - val_accuracy: 0.8453\n",
      "Epoch 41/100\n",
      "498/498 [==============================] - 1s 3ms/step - loss: 0.2899 - accuracy: 0.8644 - val_loss: 0.3385 - val_accuracy: 0.8442\n",
      "Epoch 42/100\n",
      "498/498 [==============================] - 2s 3ms/step - loss: 0.2879 - accuracy: 0.8628 - val_loss: 0.3350 - val_accuracy: 0.8475\n",
      "Epoch 43/100\n",
      "498/498 [==============================] - 2s 3ms/step - loss: 0.2883 - accuracy: 0.8645 - val_loss: 0.3347 - val_accuracy: 0.8470\n",
      "Epoch 44/100\n",
      "498/498 [==============================] - 1s 3ms/step - loss: 0.2858 - accuracy: 0.8636 - val_loss: 0.3365 - val_accuracy: 0.8463\n",
      "Epoch 45/100\n",
      "498/498 [==============================] - 1s 3ms/step - loss: 0.2853 - accuracy: 0.8658 - val_loss: 0.3401 - val_accuracy: 0.8461\n",
      "Epoch 46/100\n",
      "498/498 [==============================] - 1s 3ms/step - loss: 0.2845 - accuracy: 0.8640 - val_loss: 0.3516 - val_accuracy: 0.8369\n",
      "Epoch 47/100\n",
      "498/498 [==============================] - 1s 3ms/step - loss: 0.2835 - accuracy: 0.8652 - val_loss: 0.3451 - val_accuracy: 0.8436\n",
      "Epoch 48/100\n",
      "498/498 [==============================] - 2s 3ms/step - loss: 0.2826 - accuracy: 0.8661 - val_loss: 0.3416 - val_accuracy: 0.8438\n",
      "Epoch 49/100\n",
      "498/498 [==============================] - 2s 3ms/step - loss: 0.2816 - accuracy: 0.8670 - val_loss: 0.3411 - val_accuracy: 0.8463\n",
      "Epoch 50/100\n",
      "498/498 [==============================] - 2s 3ms/step - loss: 0.2806 - accuracy: 0.8679 - val_loss: 0.3450 - val_accuracy: 0.8435\n",
      "Epoch 51/100\n",
      "498/498 [==============================] - 1s 3ms/step - loss: 0.2811 - accuracy: 0.8679 - val_loss: 0.3425 - val_accuracy: 0.8474\n",
      "Epoch 52/100\n",
      "498/498 [==============================] - 1s 3ms/step - loss: 0.2791 - accuracy: 0.8668 - val_loss: 0.3439 - val_accuracy: 0.8465\n",
      "Epoch 53/100\n",
      "498/498 [==============================] - 2s 3ms/step - loss: 0.2777 - accuracy: 0.8683 - val_loss: 0.3436 - val_accuracy: 0.8466\n",
      "Epoch 54/100\n",
      "498/498 [==============================] - 2s 3ms/step - loss: 0.2762 - accuracy: 0.8688 - val_loss: 0.3457 - val_accuracy: 0.8452\n",
      "Epoch 55/100\n",
      "498/498 [==============================] - 1s 3ms/step - loss: 0.2764 - accuracy: 0.8692 - val_loss: 0.3477 - val_accuracy: 0.8446\n",
      "Epoch 56/100\n",
      "498/498 [==============================] - 2s 3ms/step - loss: 0.2759 - accuracy: 0.8680 - val_loss: 0.3484 - val_accuracy: 0.8451\n",
      "Epoch 57/100\n",
      "498/498 [==============================] - 1s 3ms/step - loss: 0.2735 - accuracy: 0.8684 - val_loss: 0.3481 - val_accuracy: 0.8448\n",
      "Epoch 58/100\n",
      "498/498 [==============================] - 1s 3ms/step - loss: 0.2729 - accuracy: 0.8690 - val_loss: 0.3508 - val_accuracy: 0.8424\n",
      "Epoch 59/100\n",
      "498/498 [==============================] - 2s 3ms/step - loss: 0.2717 - accuracy: 0.8706 - val_loss: 0.3567 - val_accuracy: 0.8442\n",
      "Epoch 60/100\n",
      "498/498 [==============================] - 2s 3ms/step - loss: 0.2712 - accuracy: 0.8709 - val_loss: 0.3534 - val_accuracy: 0.8440\n",
      "Epoch 61/100\n",
      "498/498 [==============================] - 2s 3ms/step - loss: 0.2708 - accuracy: 0.8700 - val_loss: 0.3522 - val_accuracy: 0.8426\n",
      "Epoch 62/100\n",
      "498/498 [==============================] - 2s 3ms/step - loss: 0.2690 - accuracy: 0.8709 - val_loss: 0.3567 - val_accuracy: 0.8439\n",
      "Epoch 63/100\n",
      "498/498 [==============================] - 2s 3ms/step - loss: 0.2684 - accuracy: 0.8705 - val_loss: 0.3561 - val_accuracy: 0.8457\n",
      "Epoch 64/100\n",
      "498/498 [==============================] - 2s 3ms/step - loss: 0.2671 - accuracy: 0.8714 - val_loss: 0.3598 - val_accuracy: 0.8426\n",
      "Epoch 65/100\n",
      "498/498 [==============================] - 2s 3ms/step - loss: 0.2670 - accuracy: 0.8708 - val_loss: 0.3583 - val_accuracy: 0.8436\n",
      "Epoch 66/100\n",
      "498/498 [==============================] - 2s 3ms/step - loss: 0.2660 - accuracy: 0.8728 - val_loss: 0.3575 - val_accuracy: 0.8438\n",
      "Epoch 67/100\n",
      "498/498 [==============================] - 2s 3ms/step - loss: 0.2658 - accuracy: 0.8734 - val_loss: 0.3571 - val_accuracy: 0.8428\n",
      "Epoch 68/100\n",
      "498/498 [==============================] - 2s 3ms/step - loss: 0.2640 - accuracy: 0.8721 - val_loss: 0.3666 - val_accuracy: 0.8429\n",
      "Epoch 69/100\n",
      "498/498 [==============================] - 2s 3ms/step - loss: 0.2634 - accuracy: 0.8729 - val_loss: 0.3652 - val_accuracy: 0.8427\n",
      "Epoch 70/100\n",
      "498/498 [==============================] - 1s 3ms/step - loss: 0.2622 - accuracy: 0.8724 - val_loss: 0.3745 - val_accuracy: 0.8442\n",
      "Epoch 71/100\n",
      "498/498 [==============================] - 2s 3ms/step - loss: 0.2621 - accuracy: 0.8747 - val_loss: 0.3683 - val_accuracy: 0.8439\n",
      "Epoch 72/100\n",
      "498/498 [==============================] - 1s 3ms/step - loss: 0.2611 - accuracy: 0.8741 - val_loss: 0.3828 - val_accuracy: 0.8432\n",
      "Epoch 73/100\n",
      "498/498 [==============================] - 2s 3ms/step - loss: 0.2606 - accuracy: 0.8731 - val_loss: 0.3768 - val_accuracy: 0.8432\n",
      "Epoch 74/100\n",
      "498/498 [==============================] - 2s 3ms/step - loss: 0.2591 - accuracy: 0.8751 - val_loss: 0.3722 - val_accuracy: 0.8442\n",
      "Epoch 75/100\n",
      "498/498 [==============================] - 1s 3ms/step - loss: 0.2576 - accuracy: 0.8750 - val_loss: 0.3779 - val_accuracy: 0.8426\n",
      "Epoch 76/100\n",
      "498/498 [==============================] - 2s 3ms/step - loss: 0.2585 - accuracy: 0.8751 - val_loss: 0.3766 - val_accuracy: 0.8415\n",
      "Epoch 77/100\n",
      "498/498 [==============================] - 1s 3ms/step - loss: 0.2556 - accuracy: 0.8772 - val_loss: 0.3820 - val_accuracy: 0.8426\n",
      "Epoch 78/100\n",
      "498/498 [==============================] - 2s 3ms/step - loss: 0.2554 - accuracy: 0.8764 - val_loss: 0.3888 - val_accuracy: 0.8418\n",
      "Epoch 79/100\n",
      "498/498 [==============================] - 1s 3ms/step - loss: 0.2554 - accuracy: 0.8782 - val_loss: 0.3821 - val_accuracy: 0.8443\n",
      "Epoch 80/100\n",
      "498/498 [==============================] - 2s 3ms/step - loss: 0.2542 - accuracy: 0.8777 - val_loss: 0.3833 - val_accuracy: 0.8407\n",
      "Epoch 81/100\n",
      "498/498 [==============================] - 1s 3ms/step - loss: 0.2532 - accuracy: 0.8765 - val_loss: 0.3951 - val_accuracy: 0.8420\n",
      "Epoch 82/100\n",
      "498/498 [==============================] - 2s 3ms/step - loss: 0.2518 - accuracy: 0.8775 - val_loss: 0.3828 - val_accuracy: 0.8432\n",
      "Epoch 83/100\n",
      "498/498 [==============================] - 1s 3ms/step - loss: 0.2521 - accuracy: 0.8780 - val_loss: 0.3986 - val_accuracy: 0.8320\n",
      "Epoch 84/100\n",
      "498/498 [==============================] - 2s 3ms/step - loss: 0.2497 - accuracy: 0.8800 - val_loss: 0.3903 - val_accuracy: 0.8408\n",
      "Epoch 85/100\n",
      "498/498 [==============================] - 1s 3ms/step - loss: 0.2497 - accuracy: 0.8787 - val_loss: 0.3938 - val_accuracy: 0.8426\n",
      "Epoch 86/100\n",
      "498/498 [==============================] - 2s 3ms/step - loss: 0.2501 - accuracy: 0.8770 - val_loss: 0.3930 - val_accuracy: 0.8388\n",
      "Epoch 87/100\n",
      "498/498 [==============================] - 2s 3ms/step - loss: 0.2477 - accuracy: 0.8790 - val_loss: 0.4029 - val_accuracy: 0.8330\n",
      "Epoch 88/100\n",
      "498/498 [==============================] - 1s 3ms/step - loss: 0.2485 - accuracy: 0.8790 - val_loss: 0.3960 - val_accuracy: 0.8414\n",
      "Epoch 89/100\n",
      "498/498 [==============================] - 1s 3ms/step - loss: 0.2455 - accuracy: 0.8821 - val_loss: 0.4119 - val_accuracy: 0.8404\n",
      "Epoch 90/100\n",
      "498/498 [==============================] - 2s 3ms/step - loss: 0.2455 - accuracy: 0.8802 - val_loss: 0.4113 - val_accuracy: 0.8351\n",
      "Epoch 91/100\n",
      "498/498 [==============================] - 2s 3ms/step - loss: 0.2447 - accuracy: 0.8807 - val_loss: 0.4114 - val_accuracy: 0.8376\n",
      "Epoch 92/100\n",
      "498/498 [==============================] - 2s 3ms/step - loss: 0.2441 - accuracy: 0.8811 - val_loss: 0.4112 - val_accuracy: 0.8369\n",
      "Epoch 93/100\n",
      "498/498 [==============================] - 2s 3ms/step - loss: 0.2446 - accuracy: 0.8819 - val_loss: 0.4114 - val_accuracy: 0.8368\n",
      "Epoch 94/100\n",
      "498/498 [==============================] - 1s 3ms/step - loss: 0.2438 - accuracy: 0.8819 - val_loss: 0.4172 - val_accuracy: 0.8305\n",
      "Epoch 95/100\n",
      "498/498 [==============================] - 1s 3ms/step - loss: 0.2418 - accuracy: 0.8827 - val_loss: 0.4186 - val_accuracy: 0.8418\n",
      "Epoch 96/100\n",
      "498/498 [==============================] - 2s 3ms/step - loss: 0.2413 - accuracy: 0.8826 - val_loss: 0.4159 - val_accuracy: 0.8351\n",
      "Epoch 97/100\n",
      "498/498 [==============================] - 2s 3ms/step - loss: 0.2407 - accuracy: 0.8805 - val_loss: 0.4172 - val_accuracy: 0.8358\n",
      "Epoch 98/100\n",
      "498/498 [==============================] - 1s 3ms/step - loss: 0.2405 - accuracy: 0.8823 - val_loss: 0.4149 - val_accuracy: 0.8394\n",
      "Epoch 99/100\n",
      "498/498 [==============================] - 2s 3ms/step - loss: 0.2394 - accuracy: 0.8839 - val_loss: 0.4196 - val_accuracy: 0.8378\n",
      "Epoch 100/100\n",
      "498/498 [==============================] - 2s 3ms/step - loss: 0.2388 - accuracy: 0.8833 - val_loss: 0.4193 - val_accuracy: 0.8365\n"
     ]
    },
    {
     "data": {
      "text/plain": [
       "<keras.callbacks.History at 0x7f27da6b7b10>"
      ]
     },
     "execution_count": 28,
     "metadata": {},
     "output_type": "execute_result"
    }
   ],
   "source": [
    "model.fit(X_train, y_train, validation_data= (X_test, y_test), batch_size=32,epochs=100, callbacks=[history_Adam2])"
   ]
  },
  {
   "cell_type": "code",
   "execution_count": 32,
   "metadata": {
    "colab": {
     "base_uri": "https://localhost:8080/",
     "height": 483
    },
    "id": "PeXzUxgceQkd",
    "outputId": "db032f34-363a-4e73-a4aa-4981fe047e78"
   },
   "outputs": [
    {
     "ename": "KeyError",
     "evalue": "ignored",
     "output_type": "error",
     "traceback": [
      "\u001b[0;31m---------------------------------------------------------------------------\u001b[0m",
      "\u001b[0;31mKeyError\u001b[0m                                  Traceback (most recent call last)",
      "\u001b[0;32m<ipython-input-32-eaceceedf76a>\u001b[0m in \u001b[0;36m<module>\u001b[0;34m()\u001b[0m\n\u001b[1;32m      3\u001b[0m \u001b[0mplt\u001b[0m\u001b[0;34m.\u001b[0m\u001b[0mplot\u001b[0m\u001b[0;34m(\u001b[0m\u001b[0mhistory_Adam1\u001b[0m\u001b[0;34m.\u001b[0m\u001b[0mhistory\u001b[0m\u001b[0;34m[\u001b[0m\u001b[0;34m'accuracy'\u001b[0m\u001b[0;34m]\u001b[0m\u001b[0;34m,\u001b[0m \u001b[0mlabel\u001b[0m \u001b[0;34m=\u001b[0m \u001b[0;34m\"tarina Adam1\"\u001b[0m\u001b[0;34m)\u001b[0m\u001b[0;34m\u001b[0m\u001b[0;34m\u001b[0m\u001b[0m\n\u001b[1;32m      4\u001b[0m \u001b[0mplt\u001b[0m\u001b[0;34m.\u001b[0m\u001b[0mplot\u001b[0m\u001b[0;34m(\u001b[0m\u001b[0mhistory_Adam1\u001b[0m\u001b[0;34m.\u001b[0m\u001b[0mhistory\u001b[0m\u001b[0;34m[\u001b[0m\u001b[0;34m'val_accuracy'\u001b[0m\u001b[0;34m]\u001b[0m\u001b[0;34m,\u001b[0m \u001b[0mlabel\u001b[0m \u001b[0;34m=\u001b[0m \u001b[0;34m\"test Adam1\"\u001b[0m\u001b[0;34m)\u001b[0m\u001b[0;34m\u001b[0m\u001b[0;34m\u001b[0m\u001b[0m\n\u001b[0;32m----> 5\u001b[0;31m \u001b[0mplt\u001b[0m\u001b[0;34m.\u001b[0m\u001b[0mplot\u001b[0m\u001b[0;34m(\u001b[0m\u001b[0mhistory_Adadelta\u001b[0m\u001b[0;34m.\u001b[0m\u001b[0mhistory\u001b[0m\u001b[0;34m[\u001b[0m\u001b[0;34m'accuracy'\u001b[0m\u001b[0;34m]\u001b[0m\u001b[0;34m,\u001b[0m \u001b[0mlabel\u001b[0m \u001b[0;34m=\u001b[0m \u001b[0;34m\"tarina\"\u001b[0m\u001b[0;34m)\u001b[0m\u001b[0;34m\u001b[0m\u001b[0;34m\u001b[0m\u001b[0m\n\u001b[0m\u001b[1;32m      6\u001b[0m \u001b[0mplt\u001b[0m\u001b[0;34m.\u001b[0m\u001b[0mplot\u001b[0m\u001b[0;34m(\u001b[0m\u001b[0mhistory_Adadelta\u001b[0m\u001b[0;34m.\u001b[0m\u001b[0mhistory\u001b[0m\u001b[0;34m[\u001b[0m\u001b[0;34m'val_accuracy'\u001b[0m\u001b[0;34m]\u001b[0m\u001b[0;34m,\u001b[0m \u001b[0mlabel\u001b[0m \u001b[0;34m=\u001b[0m \u001b[0;34m\"test\"\u001b[0m\u001b[0;34m)\u001b[0m\u001b[0;34m\u001b[0m\u001b[0;34m\u001b[0m\u001b[0m\n\u001b[1;32m      7\u001b[0m \u001b[0mplt\u001b[0m\u001b[0;34m.\u001b[0m\u001b[0mlegend\u001b[0m\u001b[0;34m(\u001b[0m\u001b[0;34m)\u001b[0m\u001b[0;34m\u001b[0m\u001b[0;34m\u001b[0m\u001b[0m\n",
      "\u001b[0;31mKeyError\u001b[0m: 'accuracy'"
     ]
    },
    {
     "data": {
      "image/png": "[encoded data removed]",
      "text/plain": [
       "<Figure size 432x288 with 1 Axes>"
      ]
     },
     "metadata": {
      "needs_background": "light"
     },
     "output_type": "display_data"
    }
   ],
   "source": [
    "plt.plot(history_Adam2.history['accuracy'], label = \"tarina Adam2\")\n",
    "plt.plot(history_Adam2.history['val_accuracy'], label = \"test Adam2\")\n",
    "plt.plot(history_Adam1.history['accuracy'], label = \"tarina Adam1\")\n",
    "plt.plot(history_Adam1.history['val_accuracy'], label = \"test Adam1\")\n",
    "plt.plot(history_Adadelta.history['accuracy'], label = \"tarina\")\n",
    "plt.plot(history_Adadelta.history['val_accuracy'], label = \"test\")\n",
    "plt.legend()\n",
    "plt.show()\n",
    "plt.plot(history_Adam2.history['loss'], label = \"tarinaAdam2\")\n",
    "plt.plot(history_Adam2.history['val_loss'], label = \"testAdam2\")\n",
    "plt.plot(history_Adam1.history['loss'], label = \"tarinaAdam1\")\n",
    "plt.plot(history_Adam1.history['val_loss'], label = \"testAdam1\")\n",
    "plt.plot(history_Adadelta.history['loss'], label = \"tarina\")\n",
    "plt.plot(history_Adadelta.history['val_loss'], label = \"test\")\n",
    "plt.legend()\n",
    "plt.show()"
   ]
  }
 ],
 "metadata": {
  "colab": {
   "name": "Z12_E_optimizer.ipynb",
   "provenance": []
  },
  "kernelspec": {
   "display_name": "Python 3 (ipykernel)",
   "language": "python",
   "name": "python3"
  },
  "language_info": {
   "codemirror_mode": {
    "name": "ipython",
    "version": 3
   },
   "file_extension": ".py",
   "mimetype": "text/x-python",
   "name": "python",
   "nbconvert_exporter": "python",
   "pygments_lexer": "ipython3",
   "version": "3.10.4"
  }
 },
 "nbformat": 4,
 "nbformat_minor": 1
}
